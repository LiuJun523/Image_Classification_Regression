{
 "cells": [
  {
   "cell_type": "code",
   "execution_count": null,
   "metadata": {
    "colab": {
     "autoexec": {
      "startup": false,
      "wait_interval": 0
     }
    },
    "colab_type": "code",
    "id": "qLv24bruYEpJ"
   },
   "outputs": [],
   "source": [
    "# Connect GPU\n",
    "import tensorflow as tf\n",
    "device_name = tf.test.gpu_device_name()\n",
    "if device_name != '/device:GPU:0':\n",
    "    raise SystemError('GPU device not found')\n",
    "print('Found GPU at: {}'.format(device_name))"
   ]
  },
  {
   "cell_type": "markdown",
   "metadata": {
    "colab_type": "text",
    "id": "tAZia3qxY5Oe"
   },
   "source": [
    "## Loading Data from Google Drive"
   ]
  },
  {
   "cell_type": "code",
   "execution_count": null,
   "metadata": {
    "colab": {
     "autoexec": {
      "startup": false,
      "wait_interval": 0
     },
     "base_uri": "https://localhost:8080/",
     "height": 238051
    },
    "colab_type": "code",
    "executionInfo": {
     "elapsed": 11551,
     "status": "ok",
     "timestamp": 1526138400145,
     "user": {
      "displayName": "JUN LIU",
      "photoUrl": "https://lh3.googleusercontent.com/a/default-user=s128",
      "userId": "106108549281672980963"
     },
     "user_tz": -480
    },
    "id": "2IYgQ_K0Y66C",
    "outputId": "4f13e12d-1b62-4890-e810-46a2193711e5"
   },
   "outputs": [],
   "source": [
    "# Uploading images zip from google drive\n",
    "!pip install -U -q PyDrive\n",
    "from pydrive.auth import GoogleAuth\n",
    "from pydrive.drive import GoogleDrive\n",
    "from google.colab import auth\n",
    "from oauth2client.client import GoogleCredentials\n",
    "\n",
    "import io\n",
    "import zipfile\n",
    "\n",
    "# Authenticate and create the PyDrive client.\n",
    "# This only needs to be done once per notebook.\n",
    "auth.authenticate_user()\n",
    "gauth = GoogleAuth()\n",
    "gauth.credentials = GoogleCredentials.get_application_default()\n",
    "drive = GoogleDrive(gauth)\n",
    "\n",
    "# Download file and unzip\n",
    "fid = drive.ListFile({'q':\"title='br-coins.zip'\"}).GetList()[0]['id']\n",
    "file = drive.CreateFile({'id': fid})\n",
    "\n",
    "file.GetContentFile('br-coins.zip')\n",
    "!unzip br-coins.zip -d ./"
   ]
  },
  {
   "cell_type": "markdown",
   "metadata": {
    "colab_type": "text",
    "id": "g6nyPSaOZB7B"
   },
   "source": [
    "## Initialization"
   ]
  },
  {
   "cell_type": "code",
   "execution_count": null,
   "metadata": {
    "colab": {
     "autoexec": {
      "startup": false,
      "wait_interval": 0
     },
     "base_uri": "https://localhost:8080/",
     "height": 88
    },
    "colab_type": "code",
    "executionInfo": {
     "elapsed": 3065,
     "status": "ok",
     "timestamp": 1526138554421,
     "user": {
      "displayName": "JUN LIU",
      "photoUrl": "https://lh3.googleusercontent.com/a/default-user=s128",
      "userId": "106108549281672980963"
     },
     "user_tz": -480
    },
    "id": "TwT_vtw3ZEY_",
    "outputId": "82c38177-4e37-47ad-cf96-408142565c35"
   },
   "outputs": [],
   "source": [
    "import os\n",
    "import cv2\n",
    "import numpy as np\n",
    "import itertools\n",
    "\n",
    "import matplotlib.pyplot as plt\n",
    "%matplotlib inline\n",
    "\n",
    "from keras.models import Sequential, Model\n",
    "from keras.layers import Dense, Dropout, Conv2D, MaxPooling2D, Flatten, Activation, BatchNormalization, GlobalAveragePooling2D, TimeDistributed, LSTM\n",
    "from keras.optimizers import RMSprop, Adagrad, Adam, Adadelta\n",
    "from keras.callbacks import ModelCheckpoint, ReduceLROnPlateau, EarlyStopping\n",
    "from keras import backend as K\n",
    "from keras.preprocessing import image as preimage  \n",
    "from keras.wrappers import scikit_learn\n",
    "from keras.utils import np_utils\n",
    "from keras.models import load_model\n",
    "\n",
    "from sklearn import metrics\n",
    "from sklearn.cross_validation import train_test_split\n",
    "from keras.wrappers.scikit_learn import KerasRegressor\n",
    "from sklearn.model_selection import cross_val_score, KFold\n",
    "from sklearn.metrics import mean_squared_error\n",
    "from sklearn.metrics import mean_absolute_error\n",
    "\n",
    "from PIL import Image\n",
    "from math import sqrt"
   ]
  },
  {
   "cell_type": "code",
   "execution_count": null,
   "metadata": {
    "colab": {
     "autoexec": {
      "startup": false,
      "wait_interval": 0
     }
    },
    "colab_type": "code",
    "id": "1-yttdInZHf-"
   },
   "outputs": [],
   "source": [
    "# Hight and width of the images\n",
    "IMAGE_SIZE = 100\n",
    "\n",
    "# 3 channels, Red, Green and Blue\n",
    "CHANNELS = 3\n",
    "\n",
    "# Number of epochs\n",
    "EPOCH = 100\n",
    "\n",
    "# learning rate\n",
    "LEARN_RATE = 1.0e-3\n",
    "\n",
    "# Batch size\n",
    "BATCH_SIZE = 16"
   ]
  },
  {
   "cell_type": "markdown",
   "metadata": {
    "colab_type": "text",
    "id": "tei11fB3Za8v"
   },
   "source": [
    "## Functions"
   ]
  },
  {
   "cell_type": "code",
   "execution_count": null,
   "metadata": {
    "colab": {
     "autoexec": {
      "startup": false,
      "wait_interval": 0
     }
    },
    "colab_type": "code",
    "id": "LuTpqcGbZc3E"
   },
   "outputs": [],
   "source": [
    "# Read total image from folder\n",
    "def read_image():\n",
    "    images = []\n",
    "    labels = []\n",
    "    folder_path = 'br-coins/all/'\n",
    "    \n",
    "    for image_name in os.listdir(folder_path):\n",
    "        image_path = folder_path + image_name\n",
    "        image_label = int(image_name.split('_')[0])\n",
    "        image = cv2.imread(image_path, cv2.IMREAD_COLOR)\n",
    "        images.append(image)\n",
    "        labels.append(image_label)\n",
    "            \n",
    "    return images, labels\n",
    "\n",
    "\n",
    "# Extract coins from image\n",
    "def extract_coins(img):\n",
    "    # Convert to b&w\n",
    "    cimg = cv2.cvtColor(img, cv2.COLOR_RGB2GRAY)\n",
    "    # Find circles on the image\n",
    "    circles = cv2.HoughCircles(\n",
    "        cimg, cv2.HOUGH_GRADIENT, 2, 60, param1=300, param2=30, minRadius=30, maxRadius=50)\n",
    "    \n",
    "    # Convert to HSV colorspace\n",
    "    hsv = cv2.cvtColor(img, cv2.COLOR_BGR2HSV)\n",
    "    # Define color range for masking\n",
    "    lower = np.array([0, 0, 0])\n",
    "    upper = np.array([255, 255, 90])\n",
    "    # Apply the mask\n",
    "    mask = cv2.blur(cv2.inRange(hsv, lower, upper), (10, 10))\n",
    "    \n",
    "    frames = []\n",
    "    radiuses = []\n",
    "    # If circles were not found\n",
    "    if circles is None:\n",
    "        return None, None\n",
    "    \n",
    "    for circle in circles[0]:\n",
    "        center_x = int(circle[0])\n",
    "        center_y = int(circle[1])\n",
    "        \n",
    "        # If center of coin lays in masked coin range\n",
    "        if not mask[center_y, center_x]:\n",
    "            continue\n",
    "        \n",
    "        # Increase radius by C, circle detector tends to decrease radius\n",
    "        radius = circle[2] + 3\n",
    "        \n",
    "        radiuses.append(radius)\n",
    "        \n",
    "        # Coordinates of upper left corner of square\n",
    "        x = int(center_x - radius)\n",
    "        y = int(center_y - radius)\n",
    "        \n",
    "        # As radius was increased the coordinates, could go out of bounds\n",
    "        if y < 0:\n",
    "            y = 0\n",
    "        if x < 0:\n",
    "            x = 0\n",
    "                \n",
    "        frames.append(img[y: int(y + 2 * radius), x: int(x + 2 * radius)])\n",
    "\n",
    "    return np.array(frames), radiuses\n",
    "\n",
    "\n",
    "# Rejoint images to a new one\n",
    "def image_joint(image_list):\n",
    "    image_size = 376\n",
    "    size = 0\n",
    "    img_dict = {}\n",
    "    count = 0\n",
    "    \n",
    "    # Get the size of the biggest one, resize all images with it\n",
    "    for img in image_list:\n",
    "        img_dict[count] = img.shape[0] * img.shape[1]\n",
    "        count += 1\n",
    "        if img.shape[0] >= size:\n",
    "            size = img.shape[0]\n",
    "        if img.shape[1] >= size:\n",
    "            size = img.shape[1] \n",
    "    \n",
    "    img_dict = sorted(img_dict.items(), key=lambda item:item[1])\n",
    "    new_image_list = []\n",
    "    for key, item in img_dict:\n",
    "        img = image_list[key]\n",
    "        if img.shape[0] < size or img.shape[1] < size:\n",
    "            new_img=Image.new('RGB', (size, size), '#FAFAFA')\n",
    "            new_img.paste(Image.fromarray(img), box=(0, 0, img.shape[1], img.shape[0]))\n",
    "            new_image_list.append(np.array(new_img))\n",
    "        else:\n",
    "            new_image_list.append(img)\n",
    "            \n",
    "    # Joint all single images to new one with original size\n",
    "    new_img=Image.new('RGB', (image_size, image_size), '#FAFAFA')\n",
    "    \n",
    "    for i in range(len(new_image_list)):\n",
    "        img = new_image_list[i]\n",
    "        \n",
    "        if i == 0:\n",
    "            lt = rt = 0\n",
    "            lb = size\n",
    "            rb = size\n",
    "        else:\n",
    "            if lb + size <= image_size:\n",
    "                lt += size\n",
    "                lb += size \n",
    "            else:\n",
    "                lt = 0\n",
    "                rt += size\n",
    "                lb = size\n",
    "                rb += size\n",
    "                \n",
    "        new_img.paste(Image.fromarray(img), box=(lt, rt, lb, rb))\n",
    "            \n",
    "    return np.array(new_img)\n",
    "\n",
    "\n",
    "# Plot history for accuracy and loss\n",
    "def plot_model(model_details):\n",
    "    # Create sub-plots\n",
    "    fig, axs = plt.subplots(1, 3, figsize=(20, 5))\n",
    "    \n",
    "    # Summarize history for loss\n",
    "    axs[0].plot(range(1, len(model_details.history['loss'])+1), model_details.history['loss'])\n",
    "    axs[0].plot(range(1, len(model_details.history['val_loss'])+1), model_details.history['val_loss'])\n",
    "    axs[0].set_title('Model Loss')\n",
    "    axs[0].set_ylabel('Loss')\n",
    "    axs[0].set_xlabel('Epoch')\n",
    "    axs[0].set_xticks(np.arange(1, len(model_details.history['loss'])+1), len(model_details.history['loss'])/10)\n",
    "    axs[0].legend(['train', 'val'], loc='best')\n",
    "\n",
    "    # Summarize history for mean squared error\n",
    "    axs[1].plot(range(1, len(model_details.history['mean_squared_error'])+1), model_details.history['mean_squared_error'])\n",
    "    axs[1].plot(range(1, len(model_details.history['val_mean_squared_error'])+1), model_details.history['val_mean_squared_error'])\n",
    "    axs[1].set_title('Model Mean Squared Error')\n",
    "    axs[1].set_ylabel('Mean Squared Error')\n",
    "    axs[1].set_xlabel('Epoch')\n",
    "    axs[1].set_xticks(np.arange(1, len(model_details.history['mean_squared_error'])+1), len(model_details.history['mean_squared_error'])/10)\n",
    "    axs[1].legend(['train', 'val'], loc='best')\n",
    "    \n",
    "    # Summarize history for mean absolute error\n",
    "    axs[2].plot(range(1, len(model_details.history['mean_absolute_error'])+1), model_details.history['mean_absolute_error'])\n",
    "    axs[2].plot(range(1, len(model_details.history['val_mean_absolute_error'])+1), model_details.history['val_mean_absolute_error'])\n",
    "    axs[2].set_title('Model Mean Absolute Error')\n",
    "    axs[2].set_ylabel('Mean Absolute Error')\n",
    "    axs[2].set_xlabel('Epoch')\n",
    "    axs[2].set_xticks(np.arange(1, len(model_details.history['mean_absolute_error'])+1), len(model_details.history['mean_absolute_error'])/10)\n",
    "    axs[2].legend(['train', 'val'], loc='best')\n",
    "    \n",
    "    # Show the plot\n",
    "    plt.show()"
   ]
  },
  {
   "cell_type": "code",
   "execution_count": null,
   "metadata": {
    "colab": {
     "autoexec": {
      "startup": false,
      "wait_interval": 0
     },
     "base_uri": "https://localhost:8080/",
     "height": 34
    },
    "colab_type": "code",
    "executionInfo": {
     "elapsed": 2179,
     "status": "ok",
     "timestamp": 1526138562744,
     "user": {
      "displayName": "JUN LIU",
      "photoUrl": "https://lh3.googleusercontent.com/a/default-user=s128",
      "userId": "106108549281672980963"
     },
     "user_tz": -480
    },
    "id": "OlpYYEk7N7d2",
    "outputId": "0882a13c-c6e8-4a6a-8de0-0a2f20a56318"
   },
   "outputs": [],
   "source": [
    "X_train = np.load('coins_X_train.npy')\n",
    "Y_train = np.load('coins_Y_train.npy')\n",
    "X_test = np.load('coins_X_test.npy')\n",
    "Y_test = np.load('coins_Y_test.npy')\n",
    "X_train.shape, Y_train.shape, X_test.shape, Y_test.shape"
   ]
  },
  {
   "cell_type": "markdown",
   "metadata": {
    "colab_type": "text",
    "id": "66kY6O6Fdpog"
   },
   "source": [
    "## Data Preparation"
   ]
  },
  {
   "cell_type": "code",
   "execution_count": null,
   "metadata": {
    "colab": {
     "autoexec": {
      "startup": false,
      "wait_interval": 0
     }
    },
    "colab_type": "code",
    "id": "oSux-iR4sxtl"
   },
   "outputs": [],
   "source": [
    "# Read all images fron folder\n",
    "all_image, all_label = read_image()\n",
    "all_image = np.array(all_image)\n",
    "all_label = np.array(all_label)"
   ]
  },
  {
   "cell_type": "code",
   "execution_count": null,
   "metadata": {
    "colab": {
     "autoexec": {
      "startup": false,
      "wait_interval": 0
     },
     "base_uri": "https://localhost:8080/",
     "height": 311
    },
    "colab_type": "code",
    "executionInfo": {
     "elapsed": 1839,
     "status": "ok",
     "timestamp": 1526138460033,
     "user": {
      "displayName": "JUN LIU",
      "photoUrl": "https://lh3.googleusercontent.com/a/default-user=s128",
      "userId": "106108549281672980963"
     },
     "user_tz": -480
    },
    "id": "Fnn8-5-bHLZn",
    "outputId": "2bb67c06-8f36-4400-eefa-150b24dd7185"
   },
   "outputs": [],
   "source": [
    "y = np.bincount(all_label)\n",
    "ii = np.nonzero(y)[0]\n",
    "plt.bar(np.unique(all_label), y[ii], width=4, color=\"#87CEFA\")\n",
    "plt.xlabel('Money (cents)')\n",
    "plt.ylabel('Amount')\n",
    "plt.title('Sum amount for each value in money')"
   ]
  },
  {
   "cell_type": "code",
   "execution_count": null,
   "metadata": {
    "colab": {
     "autoexec": {
      "startup": false,
      "wait_interval": 0
     }
    },
    "colab_type": "code",
    "id": "ao1sgvMntwym"
   },
   "outputs": [],
   "source": [
    "images = []\n",
    "labels = []\n",
    "for i in range(len(all_image)):\n",
    "    image = all_image[i]\n",
    "    label = all_label[i]\n",
    "\n",
    "    # Extract coins from image and rejoint to a new image\n",
    "    prepared, _ = extract_coins(image)\n",
    "\n",
    "    if prepared is not None and len(prepared):\n",
    "        # merge extracted coins back to on image\n",
    "        image = image_joint(prepared)\n",
    "\n",
    "        image = cv2.resize(image, (IMAGE_SIZE, IMAGE_SIZE))\n",
    "        image = cv2.cvtColor(image, cv2.COLOR_RGB2BGR)\n",
    "        images.append(image)\n",
    "        labels.append(label)\n",
    "\n",
    "all_image_new = np.array(images)\n",
    "all_label_new = np.array(labels)"
   ]
  },
  {
   "cell_type": "code",
   "execution_count": null,
   "metadata": {
    "colab": {
     "autoexec": {
      "startup": false,
      "wait_interval": 0
     },
     "base_uri": "https://localhost:8080/",
     "height": 34
    },
    "colab_type": "code",
    "executionInfo": {
     "elapsed": 2463,
     "status": "ok",
     "timestamp": 1526102470535,
     "user": {
      "displayName": "iss ISS",
      "photoUrl": "https://lh3.googleusercontent.com/a/default-user=s128",
      "userId": "111819791795218148538"
     },
     "user_tz": -480
    },
    "id": "EzQYffUFR5dU",
    "outputId": "722c9983-46a6-4c62-f999-129dd930f83b"
   },
   "outputs": [],
   "source": [
    "np.save('coins_all_image_new1.npy', all_image_new)\n",
    "np.save('coins_all_label_new1.npy', all_label_new)\n",
    "all_image_new.shape, all_label_new.shape"
   ]
  },
  {
   "cell_type": "code",
   "execution_count": null,
   "metadata": {
    "colab": {
     "autoexec": {
      "startup": false,
      "wait_interval": 0
     },
     "base_uri": "https://localhost:8080/",
     "height": 34
    },
    "colab_type": "code",
    "executionInfo": {
     "elapsed": 1521,
     "status": "ok",
     "timestamp": 1525932134489,
     "user": {
      "displayName": "JUN LIU",
      "photoUrl": "https://lh3.googleusercontent.com/a/default-user=s128",
      "userId": "106108549281672980963"
     },
     "user_tz": -480
    },
    "id": "YD3YGeV1SA6c",
    "outputId": "b0b03215-20ed-4cf9-d790-4932a769f725"
   },
   "outputs": [],
   "source": [
    "all_image_new = np.load('coins_all_image_new.npy')\n",
    "all_label_new = np.load('coins_all_label_new.npy')\n",
    "all_image_new.shape, all_label_new.shape"
   ]
  },
  {
   "cell_type": "code",
   "execution_count": null,
   "metadata": {
    "colab": {
     "autoexec": {
      "startup": false,
      "wait_interval": 0
     },
     "base_uri": "https://localhost:8080/",
     "height": 288
    },
    "colab_type": "code",
    "executionInfo": {
     "elapsed": 2855,
     "status": "ok",
     "timestamp": 1526138535803,
     "user": {
      "displayName": "JUN LIU",
      "photoUrl": "https://lh3.googleusercontent.com/a/default-user=s128",
      "userId": "106108549281672980963"
     },
     "user_tz": -480
    },
    "id": "QtkpcJ_0dfTc",
    "outputId": "bf7691d4-5922-47eb-938c-8b47070a37dc"
   },
   "outputs": [],
   "source": [
    "# Splitting\n",
    "# X_train, X_test, Y_train, Y_test = train_test_split(all_image_new, all_label_new, test_size=0.2, random_state=None)\n",
    "X_train = np.array([])\n",
    "X_test = np.array([])\n",
    "Y_train = np.array([])\n",
    "Y_test = np.array([])\n",
    "for label in np.unique(all_label_new):        \n",
    "    index = np.argwhere(all_label_new == label)\n",
    "    x_train, x_test, y_train, y_test = train_test_split(all_image_new[index[:,0]], all_label_new[index[:,0]], test_size=0.2, random_state=None)\n",
    "    if len(X_train) == 0:\n",
    "        X_train = x_train\n",
    "        X_test = x_test\n",
    "        Y_train = y_train\n",
    "        Y_test = y_test\n",
    "    else:\n",
    "        X_train = np.concatenate((X_train, x_train), axis=0)\n",
    "        X_test = np.concatenate((X_test, x_test), axis=0)\n",
    "        Y_train = np.concatenate((Y_train, y_train), axis=0)\n",
    "        Y_test = np.concatenate((Y_test, y_test), axis=0)\n",
    "\n",
    "# Show first 10 images\n",
    "print(Y_train[0:10])\n",
    "\n",
    "slice = 10\n",
    "plt.figure(figsize=(16, 16))\n",
    "for i in range(slice):\n",
    "    plt.subplot(1, slice, i+1)\n",
    "    plt.imshow(X_train[i], interpolation='nearest')\n",
    "    plt.axis('off')    \n",
    "    \n",
    "print(Y_test[0:10])\n",
    "\n",
    "slice = 10\n",
    "plt.figure(figsize=(16, 16))\n",
    "for i in range(slice):\n",
    "    plt.subplot(1, slice, i+1)\n",
    "    plt.imshow(X_test[i], interpolation='nearest')\n",
    "    plt.axis('off')    \n",
    "    \n",
    "print(X_train.shape, Y_train.shape, X_test.shape, Y_test.shape)"
   ]
  },
  {
   "cell_type": "code",
   "execution_count": null,
   "metadata": {
    "colab": {
     "autoexec": {
      "startup": false,
      "wait_interval": 0
     }
    },
    "colab_type": "code",
    "id": "_carbKM-1MCW"
   },
   "outputs": [],
   "source": [
    "np.save('coins_X_train.npy', X_train)\n",
    "np.save('coins_Y_train.npy', Y_train)\n",
    "np.save('coins_X_test.npy', X_test)\n",
    "np.save('coins_Y_test.npy', Y_test)"
   ]
  },
  {
   "cell_type": "code",
   "execution_count": null,
   "metadata": {
    "colab": {
     "autoexec": {
      "startup": false,
      "wait_interval": 0
     },
     "base_uri": "https://localhost:8080/",
     "height": 34
    },
    "colab_type": "code",
    "executionInfo": {
     "elapsed": 1522,
     "status": "ok",
     "timestamp": 1525940004050,
     "user": {
      "displayName": "JUN LIU",
      "photoUrl": "https://lh3.googleusercontent.com/a/default-user=s128",
      "userId": "106108549281672980963"
     },
     "user_tz": -480
    },
    "id": "iqH1ydCs1QMw",
    "outputId": "733cb659-b4d1-459a-bee7-3da19f64f575"
   },
   "outputs": [],
   "source": [
    "X_train = np.load('coins_X_train.npy')\n",
    "Y_train = np.load('coins_Y_train.npy')\n",
    "X_test = np.load('coins_X_test.npy')\n",
    "Y_test = np.load('coins_Y_test.npy')\n",
    "X_train.shape, Y_train.shape, X_test.shape, Y_test.shape"
   ]
  },
  {
   "cell_type": "code",
   "execution_count": null,
   "metadata": {
    "colab": {
     "autoexec": {
      "startup": false,
      "wait_interval": 0
     },
     "base_uri": "https://localhost:8080/",
     "height": 311
    },
    "colab_type": "code",
    "executionInfo": {
     "elapsed": 752,
     "status": "ok",
     "timestamp": 1526023922515,
     "user": {
      "displayName": "iss ISS",
      "photoUrl": "https://lh3.googleusercontent.com/a/default-user=s128",
      "userId": "111819791795218148538"
     },
     "user_tz": -480
    },
    "id": "qIeM1ZjYmSgJ",
    "outputId": "7c3532b5-8524-4606-b5a6-00eeda55445e"
   },
   "outputs": [],
   "source": [
    "y = np.bincount(Y_train)\n",
    "ii = np.nonzero(y)[0]\n",
    "plt.bar(np.unique(Y_train), y[ii], width=4, color=\"#87CEFA\")\n",
    "plt.xlabel('Money (cents)')\n",
    "plt.ylabel('Count')\n",
    "plt.title('Training Dataset')"
   ]
  },
  {
   "cell_type": "code",
   "execution_count": null,
   "metadata": {
    "colab": {
     "autoexec": {
      "startup": false,
      "wait_interval": 0
     },
     "base_uri": "https://localhost:8080/",
     "height": 311
    },
    "colab_type": "code",
    "executionInfo": {
     "elapsed": 771,
     "status": "ok",
     "timestamp": 1526023924600,
     "user": {
      "displayName": "iss ISS",
      "photoUrl": "https://lh3.googleusercontent.com/a/default-user=s128",
      "userId": "111819791795218148538"
     },
     "user_tz": -480
    },
    "id": "1Ekynaldiqcb",
    "outputId": "29d715f5-b425-4e63-fb63-72bf270b5f97"
   },
   "outputs": [],
   "source": [
    "y = np.bincount(Y_test)\n",
    "ii = np.nonzero(y)[0]\n",
    "plt.bar(np.unique(Y_test), y[ii], width=4, color=\"#87CEFA\")\n",
    "plt.xlabel('Money (cents)')\n",
    "plt.ylabel('Count')\n",
    "plt.title('Testing Dataset')"
   ]
  },
  {
   "cell_type": "code",
   "execution_count": null,
   "metadata": {
    "colab": {
     "autoexec": {
      "startup": false,
      "wait_interval": 0
     },
     "base_uri": "https://localhost:8080/",
     "height": 626
    },
    "colab_type": "code",
    "executionInfo": {
     "elapsed": 1947,
     "status": "ok",
     "timestamp": 1526023927694,
     "user": {
      "displayName": "iss ISS",
      "photoUrl": "https://lh3.googleusercontent.com/a/default-user=s128",
      "userId": "111819791795218148538"
     },
     "user_tz": -480
    },
    "id": "fghDozMOjKwO",
    "outputId": "eea58d8f-d0fa-4d4c-e1d5-34fe8191ae47"
   },
   "outputs": [],
   "source": [
    "y_train = np.bincount(Y_train)\n",
    "ii_train = np.nonzero(y_train)[0]\n",
    "y_test = np.bincount(Y_test)\n",
    "ii_test = np.nonzero(y_test)[0]\n",
    "\n",
    "plt.figure(figsize=(20, 10))\n",
    "plt.subplot(1, 2, 1)\n",
    "plt.pie(y_train[ii_train], labels=np.unique(Y_train))  \n",
    "plt.title(\"Training Dataset\") \n",
    "\n",
    "plt.subplot(1, 2, 2)\n",
    "plt.pie(y_test[ii_test], labels=np.unique(Y_test))  \n",
    "plt.title(\"Testing Dataset\") "
   ]
  },
  {
   "cell_type": "markdown",
   "metadata": {
    "colab_type": "text",
    "id": "tiVRhKCrdy-T"
   },
   "source": [
    "## Modeling"
   ]
  },
  {
   "cell_type": "code",
   "execution_count": null,
   "metadata": {
    "colab": {
     "autoexec": {
      "startup": false,
      "wait_interval": 0
     }
    },
    "colab_type": "code",
    "id": "Nkp9EMZQ4Dm-"
   },
   "outputs": [],
   "source": [
    "model = Sequential()\n",
    "\n",
    "model.add(Conv2D(64, (3, 3), activation='relu', input_shape=X_train[0].shape))\n",
    "model.add(BatchNormalization())\n",
    "model.add(Conv2D(64, (3, 3), activation='relu'))   \n",
    "model.add(BatchNormalization())\n",
    "model.add(MaxPooling2D((2, 2)))\n",
    "\n",
    "model.add(Conv2D(128, (3, 3), activation='relu'))\n",
    "model.add(BatchNormalization())\n",
    "model.add(Conv2D(128, (3, 3), activation='relu'))\n",
    "model.add(BatchNormalization()) \n",
    "model.add(MaxPooling2D((2, 2)))\n",
    "\n",
    "model.add(Conv2D(256, (3, 3), activation='relu'))\n",
    "model.add(BatchNormalization())\n",
    "model.add(Conv2D(256, (3, 3), activation='relu'))\n",
    "model.add(BatchNormalization())\n",
    "model.add(MaxPooling2D((2, 2)))\n",
    "\n",
    "model.add(Flatten())\n",
    "\n",
    "model.add(Dense(1024, activation='relu'))\n",
    "model.add(BatchNormalization())\n",
    "model.add(Dropout(0.1))\n",
    "\n",
    "model.add(Dense(1024, activation='linear'))\n",
    "model.add(BatchNormalization())\n",
    "model.add(Dropout(0.1))\n",
    "\n",
    "model.add(Dense(1))\n",
    "\n",
    "model.summary()"
   ]
  },
  {
   "cell_type": "markdown",
   "metadata": {
    "colab_type": "text",
    "id": "F1XxIuWQKDTn"
   },
   "source": [
    "### 1.Training Layers"
   ]
  },
  {
   "cell_type": "code",
   "execution_count": null,
   "metadata": {
    "colab": {
     "autoexec": {
      "startup": false,
      "wait_interval": 0
     },
     "base_uri": "https://localhost:8080/",
     "height": 578
    },
    "colab_type": "code",
    "executionInfo": {
     "elapsed": 1963,
     "status": "ok",
     "timestamp": 1525920100173,
     "user": {
      "displayName": "JUN LIU",
      "photoUrl": "https://lh3.googleusercontent.com/a/default-user=s128",
      "userId": "106108549281672980963"
     },
     "user_tz": -480
    },
    "id": "9h8cs1AcI8dR",
    "outputId": "268804e6-c5b9-4619-8462-54cb890a2100"
   },
   "outputs": [],
   "source": [
    "#1\n",
    "model = Sequential()\n",
    "\n",
    "model.add(Conv2D(64, (3, 3), activation='relu', input_shape=X_train[0].shape))\n",
    "model.add(BatchNormalization())\n",
    "model.add(Conv2D(64, (3, 3), activation='relu'))   \n",
    "model.add(BatchNormalization())\n",
    "model.add(MaxPooling2D((2, 2)))\n",
    "\n",
    "model.add(Flatten())\n",
    "\n",
    "model.add(Dense(1024, activation='relu'))\n",
    "model.add(BatchNormalization())\n",
    "model.add(Dropout(0.5))\n",
    "\n",
    "model.add(Dense(1024, activation='linear'))\n",
    "model.add(BatchNormalization())\n",
    "model.add(Dropout(0.5))\n",
    "\n",
    "model.add(Dense(1))\n",
    "\n",
    "model.summary()"
   ]
  },
  {
   "cell_type": "code",
   "execution_count": null,
   "metadata": {
    "colab": {
     "autoexec": {
      "startup": false,
      "wait_interval": 0
     },
     "base_uri": "https://localhost:8080/",
     "height": 717
    },
    "colab_type": "code",
    "executionInfo": {
     "elapsed": 668325,
     "status": "ok",
     "timestamp": 1525920772977,
     "user": {
      "displayName": "JUN LIU",
      "photoUrl": "https://lh3.googleusercontent.com/a/default-user=s128",
      "userId": "106108549281672980963"
     },
     "user_tz": -480
    },
    "id": "Ojv8V0T72MR9",
    "outputId": "797a6b1d-5dd4-405e-94b7-caa384568595"
   },
   "outputs": [],
   "source": [
    "#1\n",
    "# Save the model after every epoch\n",
    "checkpoint = ModelCheckpoint('coins_reg_cnn.{epoch:02d}-{loss:.5f}.h5',  # model filename\n",
    "                             monitor='val_loss', \n",
    "                             verbose=0, \n",
    "                             save_best_only= True, \n",
    "                             mode='auto')\n",
    "\n",
    "reducelr = ReduceLROnPlateau(monitor='val_loss', \n",
    "                             factor=0.1, \n",
    "                             patience=10, \n",
    "                             verbose=0, \n",
    "                             mode='auto', \n",
    "                             min_delta=1.0e-5, \n",
    "                             cooldown=0, \n",
    "                             min_lr=0)\n",
    "    \n",
    "model.compile(loss='mse',\n",
    "              optimizer=Adam(lr=LEARN_RATE),\n",
    "              metrics=['mse', 'mae'])\n",
    "\n",
    "train_datagen = preimage.ImageDataGenerator(\n",
    "    featurewise_center=True,\n",
    "    featurewise_std_normalization=True,\n",
    "    rotation_range=90,\n",
    "    width_shift_range=0.2,\n",
    "    height_shift_range=0.2,\n",
    "    fill_mode='nearest')\n",
    "\n",
    "train_datagen.fit(X_train)\n",
    "\n",
    "test_datagen = preimage.ImageDataGenerator(\n",
    "    featurewise_center=True,\n",
    "    featurewise_std_normalization=True,\n",
    "    rotation_range=90,\n",
    "    width_shift_range=0.2,\n",
    "    height_shift_range=0.2,\n",
    "    fill_mode='nearest')\n",
    "\n",
    "test_datagen.fit(X_train)\n",
    "\n",
    "model_details = model.fit_generator(train_datagen.flow(X_train, Y_train, batch_size=BATCH_SIZE),\n",
    "                                    epochs=EPOCH,\n",
    "                                    verbose=1,\n",
    "                                    callbacks=[checkpoint, reducelr],\n",
    "                                    validation_data=test_datagen.flow(X_test, Y_test, batch_size=BATCH_SIZE))"
   ]
  },
  {
   "cell_type": "code",
   "execution_count": null,
   "metadata": {
    "colab": {
     "autoexec": {
      "startup": false,
      "wait_interval": 0
     },
     "base_uri": "https://localhost:8080/",
     "height": 349
    },
    "colab_type": "code",
    "executionInfo": {
     "elapsed": 1498,
     "status": "ok",
     "timestamp": 1525919658128,
     "user": {
      "displayName": "JUN LIU",
      "photoUrl": "https://lh3.googleusercontent.com/a/default-user=s128",
      "userId": "106108549281672980963"
     },
     "user_tz": -480
    },
    "id": "qwkJZts24sN2",
    "outputId": "528c0c98-b367-4541-98fe-012321753b20"
   },
   "outputs": [],
   "source": [
    "#1\n",
    "plot_model(model_details)"
   ]
  },
  {
   "cell_type": "code",
   "execution_count": null,
   "metadata": {
    "colab": {
     "autoexec": {
      "startup": false,
      "wait_interval": 0
     },
     "base_uri": "https://localhost:8080/",
     "height": 68
    },
    "colab_type": "code",
    "executionInfo": {
     "elapsed": 1733,
     "status": "ok",
     "timestamp": 1525919662411,
     "user": {
      "displayName": "JUN LIU",
      "photoUrl": "https://lh3.googleusercontent.com/a/default-user=s128",
      "userId": "106108549281672980963"
     },
     "user_tz": -480
    },
    "id": "JAhFh7DL4vQ6",
    "outputId": "8dc6f382-29d7-4beb-ef06-68325bf81d80"
   },
   "outputs": [],
   "source": [
    "#1\n",
    "mean = train_datagen.mean\n",
    "std = train_datagen.std\n",
    "X_test = X_test.astype(np.float32, copy=False)\n",
    "X_test -= mean\n",
    "X_test /= std\n",
    "\n",
    "score = model.evaluate(X_test, Y_test, verbose=0)\n",
    "\n",
    "for i in range(0, len(score)):\n",
    "    print('{}: {}'.format(model.metrics_names[i], score[i]))"
   ]
  },
  {
   "cell_type": "code",
   "execution_count": null,
   "metadata": {
    "colab": {
     "autoexec": {
      "startup": false,
      "wait_interval": 0
     },
     "base_uri": "https://localhost:8080/",
     "height": 748
    },
    "colab_type": "code",
    "executionInfo": {
     "elapsed": 2372,
     "status": "ok",
     "timestamp": 1525955709558,
     "user": {
      "displayName": "JUN LIU",
      "photoUrl": "https://lh3.googleusercontent.com/a/default-user=s128",
      "userId": "106108549281672980963"
     },
     "user_tz": -480
    },
    "id": "NWj-UEHxB6Rw",
    "outputId": "084618f8-ee17-48a1-a942-ecfe66ac26f9"
   },
   "outputs": [],
   "source": [
    "#2\n",
    "model = Sequential()\n",
    "\n",
    "model.add(Conv2D(64, (3, 3), activation='relu', input_shape=X_train[0].shape))\n",
    "model.add(BatchNormalization())\n",
    "model.add(Conv2D(64, (3, 3), activation='relu'))   \n",
    "model.add(BatchNormalization())\n",
    "model.add(MaxPooling2D((2, 2)))\n",
    "\n",
    "model.add(Conv2D(128, (3, 3), activation='relu'))\n",
    "model.add(BatchNormalization())\n",
    "model.add(Conv2D(128, (3, 3), activation='relu'))\n",
    "model.add(BatchNormalization()) \n",
    "model.add(MaxPooling2D((2, 2)))\n",
    "\n",
    "model.add(Flatten())\n",
    "\n",
    "model.add(Dense(1024, activation='relu'))\n",
    "model.add(BatchNormalization())\n",
    "model.add(Dropout(0.5))\n",
    "\n",
    "model.add(Dense(1024, activation='linear'))\n",
    "model.add(BatchNormalization())\n",
    "model.add(Dropout(0.5))\n",
    "\n",
    "model.add(Dense(1))\n",
    "\n",
    "model.summary()"
   ]
  },
  {
   "cell_type": "code",
   "execution_count": null,
   "metadata": {
    "colab": {
     "autoexec": {
      "startup": false,
      "wait_interval": 0
     },
     "base_uri": "https://localhost:8080/",
     "height": 717
    },
    "colab_type": "code",
    "executionInfo": {
     "elapsed": 448065,
     "status": "ok",
     "timestamp": 1525956182421,
     "user": {
      "displayName": "JUN LIU",
      "photoUrl": "https://lh3.googleusercontent.com/a/default-user=s128",
      "userId": "106108549281672980963"
     },
     "user_tz": -480
    },
    "id": "YtZneFvZB6Og",
    "outputId": "36d66e30-a9d7-46d0-eec4-1a850d4841f9"
   },
   "outputs": [],
   "source": [
    "#2\n",
    "# Save the model after every epoch\n",
    "checkpoint = ModelCheckpoint('coins_reg_cnn.{epoch:02d}-{loss:.5f}.h5',  # model filename\n",
    "                             monitor='val_loss', \n",
    "                             verbose=0, \n",
    "                             save_best_only= True, \n",
    "                             mode='auto')\n",
    "\n",
    "reducelr = ReduceLROnPlateau(monitor='val_loss', \n",
    "                             factor=0.1, \n",
    "                             patience=10, \n",
    "                             verbose=0, \n",
    "                             mode='auto', \n",
    "                             min_delta=1.0e-5, \n",
    "                             cooldown=0, \n",
    "                             min_lr=0)\n",
    "    \n",
    "model.compile(loss='mse',\n",
    "              optimizer=Adam(lr=LEARN_RATE),\n",
    "              metrics=['mse', 'mae'])\n",
    "\n",
    "train_datagen = preimage.ImageDataGenerator(\n",
    "    featurewise_center=True,\n",
    "    featurewise_std_normalization=True,\n",
    "    rotation_range=90,\n",
    "    width_shift_range=0.2,\n",
    "    height_shift_range=0.2,\n",
    "    fill_mode='nearest')\n",
    "\n",
    "train_datagen.fit(X_train)\n",
    "\n",
    "test_datagen = preimage.ImageDataGenerator(\n",
    "    featurewise_center=True,\n",
    "    featurewise_std_normalization=True,\n",
    "    rotation_range=90,\n",
    "    width_shift_range=0.2,\n",
    "    height_shift_range=0.2,\n",
    "    fill_mode='nearest')\n",
    "\n",
    "test_datagen.fit(X_train)\n",
    "\n",
    "model_details = model.fit_generator(train_datagen.flow(X_train, Y_train, batch_size=BATCH_SIZE),\n",
    "                                    epochs=EPOCH,\n",
    "                                    verbose=1,\n",
    "                                    callbacks=[checkpoint, reducelr],\n",
    "                                    validation_data=test_datagen.flow(X_test, Y_test, batch_size=BATCH_SIZE))"
   ]
  },
  {
   "cell_type": "code",
   "execution_count": null,
   "metadata": {
    "colab": {
     "autoexec": {
      "startup": false,
      "wait_interval": 0
     },
     "base_uri": "https://localhost:8080/",
     "height": 349
    },
    "colab_type": "code",
    "executionInfo": {
     "elapsed": 1649,
     "status": "ok",
     "timestamp": 1525920903023,
     "user": {
      "displayName": "JUN LIU",
      "photoUrl": "https://lh3.googleusercontent.com/a/default-user=s128",
      "userId": "106108549281672980963"
     },
     "user_tz": -480
    },
    "id": "cw6RGNXHUyco",
    "outputId": "9f51184b-ff6b-470e-b504-2980aab18158"
   },
   "outputs": [],
   "source": [
    "#2\n",
    "plot_model(model_details)"
   ]
  },
  {
   "cell_type": "code",
   "execution_count": null,
   "metadata": {
    "colab": {
     "autoexec": {
      "startup": false,
      "wait_interval": 0
     },
     "base_uri": "https://localhost:8080/",
     "height": 68
    },
    "colab_type": "code",
    "executionInfo": {
     "elapsed": 2151,
     "status": "ok",
     "timestamp": 1525920909066,
     "user": {
      "displayName": "JUN LIU",
      "photoUrl": "https://lh3.googleusercontent.com/a/default-user=s128",
      "userId": "106108549281672980963"
     },
     "user_tz": -480
    },
    "id": "yY4EbqEWDXMw",
    "outputId": "f54d7f8c-9ff6-46ea-afe9-03835db618e2"
   },
   "outputs": [],
   "source": [
    "#2\n",
    "mean = train_datagen.mean\n",
    "std = train_datagen.std\n",
    "X_test = X_test.astype(np.float32, copy=False)\n",
    "X_test -= mean\n",
    "X_test /= std\n",
    "\n",
    "score = model.evaluate(X_test, Y_test, verbose=0)\n",
    "\n",
    "for i in range(0, len(score)):\n",
    "    print('{}: {}'.format(model.metrics_names[i], score[i]))"
   ]
  },
  {
   "cell_type": "code",
   "execution_count": null,
   "metadata": {
    "colab": {
     "autoexec": {
      "startup": false,
      "wait_interval": 0
     },
     "base_uri": "https://localhost:8080/",
     "height": 918
    },
    "colab_type": "code",
    "executionInfo": {
     "elapsed": 3281,
     "status": "ok",
     "timestamp": 1525956360717,
     "user": {
      "displayName": "JUN LIU",
      "photoUrl": "https://lh3.googleusercontent.com/a/default-user=s128",
      "userId": "106108549281672980963"
     },
     "user_tz": -480
    },
    "id": "x9FApzetB51m",
    "outputId": "7385d271-800c-4e22-f8e7-807b4047146c"
   },
   "outputs": [],
   "source": [
    "#3\n",
    "model = Sequential()\n",
    "\n",
    "model.add(Conv2D(64, (3, 3), activation='relu', input_shape=X_train[0].shape))\n",
    "model.add(BatchNormalization())\n",
    "model.add(Conv2D(64, (3, 3), activation='relu'))   \n",
    "model.add(BatchNormalization())\n",
    "model.add(MaxPooling2D((2, 2)))\n",
    "\n",
    "model.add(Conv2D(128, (3, 3), activation='relu'))\n",
    "model.add(BatchNormalization())\n",
    "model.add(Conv2D(128, (3, 3), activation='relu'))\n",
    "model.add(BatchNormalization()) \n",
    "model.add(MaxPooling2D((2, 2)))\n",
    "\n",
    "model.add(Conv2D(256, (3, 3), activation='relu'))\n",
    "model.add(BatchNormalization())\n",
    "model.add(Conv2D(256, (3, 3), activation='relu'))\n",
    "model.add(BatchNormalization())\n",
    "model.add(MaxPooling2D((2, 2)))\n",
    "\n",
    "model.add(Flatten())\n",
    "\n",
    "model.add(Dense(1024, activation='relu'))\n",
    "model.add(BatchNormalization())\n",
    "model.add(Dropout(0.5))\n",
    "\n",
    "model.add(Dense(1024, activation='linear'))\n",
    "model.add(BatchNormalization())\n",
    "model.add(Dropout(0.5))\n",
    "\n",
    "model.add(Dense(1))\n",
    "\n",
    "model.summary()"
   ]
  },
  {
   "cell_type": "code",
   "execution_count": null,
   "metadata": {
    "colab": {
     "autoexec": {
      "startup": false,
      "wait_interval": 0
     },
     "base_uri": "https://localhost:8080/",
     "height": 717
    },
    "colab_type": "code",
    "executionInfo": {
     "elapsed": 386556,
     "status": "ok",
     "timestamp": 1525956757283,
     "user": {
      "displayName": "JUN LIU",
      "photoUrl": "https://lh3.googleusercontent.com/a/default-user=s128",
      "userId": "106108549281672980963"
     },
     "user_tz": -480
    },
    "id": "QnHDbqNNFIvP",
    "outputId": "cf1c1a51-f1a7-408d-da66-4aca404bcc20"
   },
   "outputs": [],
   "source": [
    "#3\n",
    "# Save the model after every epoch\n",
    "checkpoint = ModelCheckpoint('coins_reg_cnn.{epoch:02d}-{loss:.5f}.h5',  # model filename\n",
    "                             monitor='val_loss', \n",
    "                             verbose=0, \n",
    "                             save_best_only= True, \n",
    "                             mode='auto')\n",
    "\n",
    "reducelr = ReduceLROnPlateau(monitor='val_loss', \n",
    "                             factor=0.1, \n",
    "                             patience=10, \n",
    "                             verbose=0, \n",
    "                             mode='auto', \n",
    "                             min_delta=1.0e-5, \n",
    "                             cooldown=0, \n",
    "                             min_lr=0)\n",
    "    \n",
    "model.compile(loss='mse',\n",
    "              optimizer=Adam(lr=LEARN_RATE),\n",
    "              metrics=['mse', 'mae'])\n",
    "\n",
    "train_datagen = preimage.ImageDataGenerator(\n",
    "    featurewise_center=True,\n",
    "    featurewise_std_normalization=True,\n",
    "    rotation_range=90,\n",
    "    width_shift_range=0.2,\n",
    "    height_shift_range=0.2,\n",
    "    fill_mode='nearest')\n",
    "\n",
    "train_datagen.fit(X_train)\n",
    "\n",
    "test_datagen = preimage.ImageDataGenerator(\n",
    "    featurewise_center=True,\n",
    "    featurewise_std_normalization=True,\n",
    "    rotation_range=90,\n",
    "    width_shift_range=0.2,\n",
    "    height_shift_range=0.2,\n",
    "    fill_mode='nearest')\n",
    "\n",
    "test_datagen.fit(X_train)\n",
    "\n",
    "model_details = model.fit_generator(train_datagen.flow(X_train, Y_train, batch_size=BATCH_SIZE),\n",
    "                                    epochs=EPOCH,\n",
    "                                    verbose=1,\n",
    "                                    callbacks=[checkpoint, reducelr],\n",
    "                                    validation_data=test_datagen.flow(X_test, Y_test, batch_size=BATCH_SIZE))"
   ]
  },
  {
   "cell_type": "code",
   "execution_count": null,
   "metadata": {
    "colab": {
     "autoexec": {
      "startup": false,
      "wait_interval": 0
     },
     "base_uri": "https://localhost:8080/",
     "height": 349
    },
    "colab_type": "code",
    "executionInfo": {
     "elapsed": 2588,
     "status": "ok",
     "timestamp": 1525954202127,
     "user": {
      "displayName": "JUN LIU",
      "photoUrl": "https://lh3.googleusercontent.com/a/default-user=s128",
      "userId": "106108549281672980963"
     },
     "user_tz": -480
    },
    "id": "LpVwBQUX62o4",
    "outputId": "e2bb4fa6-8b2d-4639-ed84-8e4d22d286e4"
   },
   "outputs": [],
   "source": [
    "#3\n",
    "plot_model(model_details)"
   ]
  },
  {
   "cell_type": "code",
   "execution_count": null,
   "metadata": {
    "colab": {
     "autoexec": {
      "startup": false,
      "wait_interval": 0
     },
     "base_uri": "https://localhost:8080/",
     "height": 68
    },
    "colab_type": "code",
    "executionInfo": {
     "elapsed": 2490,
     "status": "ok",
     "timestamp": 1525956783005,
     "user": {
      "displayName": "JUN LIU",
      "photoUrl": "https://lh3.googleusercontent.com/a/default-user=s128",
      "userId": "106108549281672980963"
     },
     "user_tz": -480
    },
    "id": "rEdXuuG9FI7S",
    "outputId": "48d6b68d-8ece-47c8-87dd-c63376c531b7"
   },
   "outputs": [],
   "source": [
    "#3\n",
    "mean = train_datagen.mean\n",
    "std = train_datagen.std\n",
    "X_test = X_test.astype(np.float32, copy=False)\n",
    "X_test -= mean\n",
    "X_test /= std\n",
    "\n",
    "score = model.evaluate(X_test, Y_test, verbose=0)\n",
    "\n",
    "for i in range(0, len(score)):\n",
    "    print('{}: {}'.format(model.metrics_names[i], score[i]))"
   ]
  },
  {
   "cell_type": "code",
   "execution_count": null,
   "metadata": {
    "colab": {
     "autoexec": {
      "startup": false,
      "wait_interval": 0
     },
     "base_uri": "https://localhost:8080/",
     "height": 986
    },
    "colab_type": "code",
    "executionInfo": {
     "elapsed": 2719,
     "status": "ok",
     "timestamp": 1525953691758,
     "user": {
      "displayName": "JUN LIU",
      "photoUrl": "https://lh3.googleusercontent.com/a/default-user=s128",
      "userId": "106108549281672980963"
     },
     "user_tz": -480
    },
    "id": "abSD_7oU2cR6",
    "outputId": "8bfd2163-16ab-493c-fd0d-d40694987587"
   },
   "outputs": [],
   "source": [
    "#4\n",
    "model = Sequential()\n",
    "\n",
    "model.add(Conv2D(64, (3, 3), activation='relu', input_shape=X_train[0].shape))\n",
    "model.add(BatchNormalization())\n",
    "model.add(Conv2D(64, (3, 3), activation='relu'))   \n",
    "model.add(BatchNormalization())\n",
    "model.add(MaxPooling2D((2, 2)))\n",
    "\n",
    "model.add(Conv2D(128, (3, 3), activation='relu'))\n",
    "model.add(BatchNormalization())\n",
    "model.add(Conv2D(128, (3, 3), activation='relu'))\n",
    "model.add(BatchNormalization()) \n",
    "model.add(MaxPooling2D((2, 2)))\n",
    "\n",
    "model.add(Conv2D(256, (3, 3), activation='relu'))\n",
    "model.add(BatchNormalization())\n",
    "model.add(Conv2D(256, (3, 3), activation='relu'))\n",
    "model.add(BatchNormalization())\n",
    "model.add(Conv2D(256, (3, 3), activation='relu'))\n",
    "model.add(BatchNormalization())\n",
    "model.add(MaxPooling2D((2, 2)))\n",
    "\n",
    "model.add(Flatten())\n",
    "\n",
    "model.add(Dense(1024, activation='relu'))\n",
    "model.add(BatchNormalization())\n",
    "model.add(Dropout(0.5))\n",
    "\n",
    "model.add(Dense(1024, activation='linear'))\n",
    "model.add(BatchNormalization())\n",
    "model.add(Dropout(0.5))\n",
    "\n",
    "model.add(Dense(1))\n",
    "\n",
    "model.summary()"
   ]
  },
  {
   "cell_type": "code",
   "execution_count": null,
   "metadata": {
    "colab": {
     "autoexec": {
      "startup": false,
      "wait_interval": 0
     },
     "base_uri": "https://localhost:8080/",
     "height": 717
    },
    "colab_type": "code",
    "executionInfo": {
     "elapsed": 498997,
     "status": "ok",
     "timestamp": 1525954197352,
     "user": {
      "displayName": "JUN LIU",
      "photoUrl": "https://lh3.googleusercontent.com/a/default-user=s128",
      "userId": "106108549281672980963"
     },
     "user_tz": -480
    },
    "id": "0jR0fMwy2r_m",
    "outputId": "5e1a1efa-8e72-477f-8141-f040385b9e40"
   },
   "outputs": [],
   "source": [
    "#4\n",
    "# Save the model after every epoch\n",
    "checkpoint = ModelCheckpoint('coins_reg_cnn.{epoch:02d}-{loss:.5f}.h5',  # model filename\n",
    "                             monitor='val_loss', \n",
    "                             verbose=0, \n",
    "                             save_best_only= True, \n",
    "                             mode='auto')\n",
    "\n",
    "reducelr = ReduceLROnPlateau(monitor='val_loss', \n",
    "                             factor=0.1, \n",
    "                             patience=10, \n",
    "                             verbose=0, \n",
    "                             mode='auto', \n",
    "                             min_delta=1.0e-5, \n",
    "                             cooldown=0, \n",
    "                             min_lr=0)\n",
    "    \n",
    "model.compile(loss='mse',\n",
    "              optimizer=Adam(lr=LEARN_RATE),\n",
    "              metrics=['mse', 'mae'])\n",
    "\n",
    "train_datagen = preimage.ImageDataGenerator(\n",
    "    featurewise_center=True,\n",
    "    featurewise_std_normalization=True,\n",
    "    rotation_range=90,\n",
    "    width_shift_range=0.2,\n",
    "    height_shift_range=0.2,\n",
    "    fill_mode='nearest')\n",
    "\n",
    "train_datagen.fit(X_train)\n",
    "\n",
    "test_datagen = preimage.ImageDataGenerator(\n",
    "    featurewise_center=True,\n",
    "    featurewise_std_normalization=True,\n",
    "    rotation_range=90,\n",
    "    width_shift_range=0.2,\n",
    "    height_shift_range=0.2,\n",
    "    fill_mode='nearest')\n",
    "\n",
    "test_datagen.fit(X_train)\n",
    "\n",
    "model_details = model.fit_generator(train_datagen.flow(X_train, Y_train, batch_size=32),\n",
    "                                    epochs=EPOCH,\n",
    "                                    verbose=1,\n",
    "                                    callbacks=[checkpoint, reducelr],\n",
    "                                    validation_data=test_datagen.flow(X_test, Y_test, batch_size=32))"
   ]
  },
  {
   "cell_type": "code",
   "execution_count": null,
   "metadata": {
    "colab": {
     "autoexec": {
      "startup": false,
      "wait_interval": 0
     },
     "base_uri": "https://localhost:8080/",
     "height": 349
    },
    "colab_type": "code",
    "executionInfo": {
     "elapsed": 1698,
     "status": "ok",
     "timestamp": 1525956189979,
     "user": {
      "displayName": "JUN LIU",
      "photoUrl": "https://lh3.googleusercontent.com/a/default-user=s128",
      "userId": "106108549281672980963"
     },
     "user_tz": -480
    },
    "id": "cY-LpOevB6K9",
    "outputId": "1de9b25d-a537-4426-8081-7f4f918b2a58"
   },
   "outputs": [],
   "source": [
    "#4\n",
    "plot_model(model_details)"
   ]
  },
  {
   "cell_type": "code",
   "execution_count": null,
   "metadata": {
    "colab": {
     "autoexec": {
      "startup": false,
      "wait_interval": 0
     },
     "base_uri": "https://localhost:8080/",
     "height": 68
    },
    "colab_type": "code",
    "executionInfo": {
     "elapsed": 2418,
     "status": "ok",
     "timestamp": 1525956208252,
     "user": {
      "displayName": "JUN LIU",
      "photoUrl": "https://lh3.googleusercontent.com/a/default-user=s128",
      "userId": "106108549281672980963"
     },
     "user_tz": -480
    },
    "id": "YL7MkmecB6Cm",
    "outputId": "3bfc61ca-ad2f-4e31-e979-2ffc0926e02d"
   },
   "outputs": [],
   "source": [
    "#4\n",
    "mean = train_datagen.mean\n",
    "std = train_datagen.std\n",
    "X_test = X_test.astype(np.float32, copy=False)\n",
    "X_test -= mean\n",
    "X_test /= std\n",
    "\n",
    "score = model.evaluate(X_test, Y_test, verbose=0)\n",
    "\n",
    "for i in range(0, len(score)):\n",
    "    print('{}: {}'.format(model.metrics_names[i], score[i]))"
   ]
  },
  {
   "cell_type": "markdown",
   "metadata": {
    "colab_type": "text",
    "id": "Cu4EPZoXhkq0"
   },
   "source": [
    "### 2.Training Batch Size"
   ]
  },
  {
   "cell_type": "code",
   "execution_count": null,
   "metadata": {
    "colab": {
     "autoexec": {
      "startup": false,
      "wait_interval": 0
     },
     "base_uri": "https://localhost:8080/",
     "height": 918
    },
    "colab_type": "code",
    "executionInfo": {
     "elapsed": 1756,
     "status": "ok",
     "timestamp": 1525968979988,
     "user": {
      "displayName": "JUN LIU",
      "photoUrl": "https://lh3.googleusercontent.com/a/default-user=s128",
      "userId": "106108549281672980963"
     },
     "user_tz": -480
    },
    "id": "PEX6s-YXhjI9",
    "outputId": "6f432986-83b4-4ecb-88db-55db68554333"
   },
   "outputs": [],
   "source": [
    "# Batch size\n",
    "BATCH_SIZE = 8\n",
    "\n",
    "model = Sequential()\n",
    "\n",
    "model.add(Conv2D(64, (3, 3), activation='relu', input_shape=X_train[0].shape))\n",
    "model.add(BatchNormalization())\n",
    "model.add(Conv2D(64, (3, 3), activation='relu'))   \n",
    "model.add(BatchNormalization())\n",
    "model.add(MaxPooling2D((2, 2)))\n",
    "\n",
    "model.add(Conv2D(128, (3, 3), activation='relu'))\n",
    "model.add(BatchNormalization())\n",
    "model.add(Conv2D(128, (3, 3), activation='relu'))\n",
    "model.add(BatchNormalization()) \n",
    "model.add(MaxPooling2D((2, 2)))\n",
    "\n",
    "model.add(Conv2D(256, (3, 3), activation='relu'))\n",
    "model.add(BatchNormalization())\n",
    "model.add(Conv2D(256, (3, 3), activation='relu'))\n",
    "model.add(BatchNormalization())\n",
    "model.add(MaxPooling2D((2, 2)))\n",
    "\n",
    "model.add(Flatten())\n",
    "\n",
    "model.add(Dense(1024, activation='relu'))\n",
    "model.add(BatchNormalization())\n",
    "model.add(Dropout(0.5))\n",
    "\n",
    "model.add(Dense(1024, activation='linear'))\n",
    "model.add(BatchNormalization())\n",
    "model.add(Dropout(0.5))\n",
    "\n",
    "model.add(Dense(1))\n",
    "\n",
    "model.summary()"
   ]
  },
  {
   "cell_type": "code",
   "execution_count": null,
   "metadata": {
    "colab": {
     "autoexec": {
      "startup": false,
      "wait_interval": 0
     },
     "base_uri": "https://localhost:8080/",
     "height": 717
    },
    "colab_type": "code",
    "executionInfo": {
     "elapsed": 1642154,
     "status": "ok",
     "timestamp": 1525936341875,
     "user": {
      "displayName": "JUN LIU",
      "photoUrl": "https://lh3.googleusercontent.com/a/default-user=s128",
      "userId": "106108549281672980963"
     },
     "user_tz": -480
    },
    "id": "1Y51wuF3hz6G",
    "outputId": "d755a1a8-a6d4-4cf4-a302-7558dd37957f"
   },
   "outputs": [],
   "source": [
    "# Save the model after every epoch\n",
    "checkpoint = ModelCheckpoint('coins_reg_cnn.{epoch:02d}-{loss:.5f}.h5',  # model filename\n",
    "                             monitor='val_loss', \n",
    "                             verbose=0, \n",
    "                             save_best_only= True, \n",
    "                             mode='auto')\n",
    "\n",
    "reducelr = ReduceLROnPlateau(monitor='val_loss', \n",
    "                             factor=0.1, \n",
    "                             patience=10, \n",
    "                             verbose=0, \n",
    "                             mode='auto', \n",
    "                             min_delta=1.0e-5, \n",
    "                             cooldown=0, \n",
    "                             min_lr=0)\n",
    "    \n",
    "model.compile(loss='mse',\n",
    "              optimizer=Adam(lr=LEARN_RATE),\n",
    "              metrics=['mse', 'mae'])\n",
    "\n",
    "train_datagen = preimage.ImageDataGenerator(\n",
    "    featurewise_center=True,\n",
    "    featurewise_std_normalization=True,\n",
    "    rotation_range=90,\n",
    "    width_shift_range=0.2,\n",
    "    height_shift_range=0.2,\n",
    "    fill_mode='nearest')\n",
    "\n",
    "train_datagen.fit(X_train)\n",
    "\n",
    "test_datagen = preimage.ImageDataGenerator(\n",
    "    featurewise_center=True,\n",
    "    featurewise_std_normalization=True,\n",
    "    rotation_range=90,\n",
    "    width_shift_range=0.2,\n",
    "    height_shift_range=0.2,\n",
    "    fill_mode='nearest')\n",
    "\n",
    "test_datagen.fit(X_train)\n",
    "\n",
    "model_details = model.fit_generator(train_datagen.flow(X_train, Y_train, batch_size=BATCH_SIZE),\n",
    "                                    epochs=EPOCH,\n",
    "                                    verbose=1,\n",
    "                                    callbacks=[checkpoint, reducelr],\n",
    "                                    validation_data=test_datagen.flow(X_test, Y_test, batch_size=BATCH_SIZE))"
   ]
  },
  {
   "cell_type": "code",
   "execution_count": null,
   "metadata": {
    "colab": {
     "autoexec": {
      "startup": false,
      "wait_interval": 0
     },
     "base_uri": "https://localhost:8080/",
     "height": 349
    },
    "colab_type": "code",
    "executionInfo": {
     "elapsed": 1663,
     "status": "ok",
     "timestamp": 1525936453508,
     "user": {
      "displayName": "JUN LIU",
      "photoUrl": "https://lh3.googleusercontent.com/a/default-user=s128",
      "userId": "106108549281672980963"
     },
     "user_tz": -480
    },
    "id": "npt3QzfFh14F",
    "outputId": "5135d715-4cf1-42ea-ef4d-ea9fc8700d2a"
   },
   "outputs": [],
   "source": [
    "plot_model(model_details)"
   ]
  },
  {
   "cell_type": "code",
   "execution_count": null,
   "metadata": {
    "colab": {
     "autoexec": {
      "startup": false,
      "wait_interval": 0
     },
     "base_uri": "https://localhost:8080/",
     "height": 68
    },
    "colab_type": "code",
    "executionInfo": {
     "elapsed": 2490,
     "status": "ok",
     "timestamp": 1525936463463,
     "user": {
      "displayName": "JUN LIU",
      "photoUrl": "https://lh3.googleusercontent.com/a/default-user=s128",
      "userId": "106108549281672980963"
     },
     "user_tz": -480
    },
    "id": "nEBia7fqh3jN",
    "outputId": "debd4f56-693e-432a-fc15-6d8833010f43"
   },
   "outputs": [],
   "source": [
    "mean = train_datagen.mean\n",
    "std = train_datagen.std\n",
    "X_test = X_test.astype(np.float32, copy=False)\n",
    "X_test -= mean\n",
    "X_test /= std\n",
    "\n",
    "score = model.evaluate(X_test, Y_test, verbose=0)\n",
    "\n",
    "for i in range(0, len(score)):\n",
    "    print('{}: {}'.format(model.metrics_names[i], score[i]))"
   ]
  },
  {
   "cell_type": "code",
   "execution_count": null,
   "metadata": {
    "colab": {
     "autoexec": {
      "startup": false,
      "wait_interval": 0
     },
     "base_uri": "https://localhost:8080/",
     "height": 918
    },
    "colab_type": "code",
    "executionInfo": {
     "elapsed": 3538,
     "status": "ok",
     "timestamp": 1526001366414,
     "user": {
      "displayName": "iss ISS",
      "photoUrl": "https://lh3.googleusercontent.com/a/default-user=s128",
      "userId": "111819791795218148538"
     },
     "user_tz": -480
    },
    "id": "8k0NGwjpiA4H",
    "outputId": "4d2d1cb5-67e2-4402-c8f6-0f12feeee25d"
   },
   "outputs": [],
   "source": [
    "# Batch size\n",
    "BATCH_SIZE = 16\n",
    "\n",
    "model = Sequential()\n",
    "\n",
    "model.add(Conv2D(64, (3, 3), activation='relu', input_shape=X_train[0].shape))\n",
    "model.add(BatchNormalization())\n",
    "model.add(Conv2D(64, (3, 3), activation='relu'))   \n",
    "model.add(BatchNormalization())\n",
    "model.add(MaxPooling2D((2, 2)))\n",
    "\n",
    "model.add(Conv2D(128, (3, 3), activation='relu'))\n",
    "model.add(BatchNormalization())\n",
    "model.add(Conv2D(128, (3, 3), activation='relu'))\n",
    "model.add(BatchNormalization()) \n",
    "model.add(MaxPooling2D((2, 2)))\n",
    "\n",
    "model.add(Conv2D(256, (3, 3), activation='relu'))\n",
    "model.add(BatchNormalization())\n",
    "model.add(Conv2D(256, (3, 3), activation='relu'))\n",
    "model.add(BatchNormalization())\n",
    "model.add(MaxPooling2D((2, 2)))\n",
    "\n",
    "model.add(Flatten())\n",
    "\n",
    "model.add(Dense(1024, activation='relu'))\n",
    "model.add(BatchNormalization())\n",
    "model.add(Dropout(0.5))\n",
    "\n",
    "model.add(Dense(1024, activation='linear'))\n",
    "model.add(BatchNormalization())\n",
    "model.add(Dropout(0.5))\n",
    "\n",
    "model.add(Dense(1))\n",
    "\n",
    "model.summary()"
   ]
  },
  {
   "cell_type": "code",
   "execution_count": null,
   "metadata": {
    "colab": {
     "autoexec": {
      "startup": false,
      "wait_interval": 0
     },
     "base_uri": "https://localhost:8080/",
     "height": 717
    },
    "colab_type": "code",
    "executionInfo": {
     "elapsed": 485774,
     "status": "ok",
     "timestamp": 1526001862077,
     "user": {
      "displayName": "iss ISS",
      "photoUrl": "https://lh3.googleusercontent.com/a/default-user=s128",
      "userId": "111819791795218148538"
     },
     "user_tz": -480
    },
    "id": "eqLD9uCLiDnA",
    "outputId": "d4b9a017-d665-4fe2-b4b9-4bdf60e3d9f6"
   },
   "outputs": [],
   "source": [
    "# Save the model after every epoch\n",
    "checkpoint = ModelCheckpoint('coins_reg_cnn.{epoch:02d}-{loss:.5f}.h5',  # model filename\n",
    "                             monitor='val_loss', \n",
    "                             verbose=0, \n",
    "                             save_best_only= True, \n",
    "                             mode='auto')\n",
    "\n",
    "reducelr = ReduceLROnPlateau(monitor='val_loss', \n",
    "                             factor=0.1, \n",
    "                             patience=10, \n",
    "                             verbose=0, \n",
    "                             mode='auto', \n",
    "                             min_delta=1.0e-5, \n",
    "                             cooldown=0, \n",
    "                             min_lr=0)\n",
    "    \n",
    "model.compile(loss='mse',\n",
    "              optimizer=Adam(lr=LEARN_RATE),\n",
    "              metrics=['mse', 'mae'])\n",
    "\n",
    "train_datagen = preimage.ImageDataGenerator(\n",
    "    featurewise_center=True,\n",
    "    featurewise_std_normalization=True,\n",
    "    rotation_range=90,\n",
    "    width_shift_range=0.2,\n",
    "    height_shift_range=0.2,\n",
    "    fill_mode='nearest')\n",
    "\n",
    "train_datagen.fit(X_train)\n",
    "\n",
    "test_datagen = preimage.ImageDataGenerator(\n",
    "    featurewise_center=True,\n",
    "    featurewise_std_normalization=True,\n",
    "    rotation_range=90,\n",
    "    width_shift_range=0.2,\n",
    "    height_shift_range=0.2,\n",
    "    fill_mode='nearest')\n",
    "\n",
    "test_datagen.fit(X_train)\n",
    "\n",
    "model_details = model.fit_generator(train_datagen.flow(X_train, Y_train, batch_size=BATCH_SIZE),\n",
    "                                    epochs=EPOCH,\n",
    "                                    verbose=1,\n",
    "                                    callbacks=[checkpoint, reducelr],\n",
    "                                    validation_data=test_datagen.flow(X_test, Y_test, batch_size=BATCH_SIZE))"
   ]
  },
  {
   "cell_type": "code",
   "execution_count": null,
   "metadata": {
    "colab": {
     "autoexec": {
      "startup": false,
      "wait_interval": 0
     },
     "base_uri": "https://localhost:8080/",
     "height": 349
    },
    "colab_type": "code",
    "executionInfo": {
     "elapsed": 1541,
     "status": "ok",
     "timestamp": 1526001877561,
     "user": {
      "displayName": "iss ISS",
      "photoUrl": "https://lh3.googleusercontent.com/a/default-user=s128",
      "userId": "111819791795218148538"
     },
     "user_tz": -480
    },
    "id": "TNfAqiDXiFKY",
    "outputId": "b99594e2-21ee-4a7e-b134-8650bac9fa77"
   },
   "outputs": [],
   "source": [
    "plot_model(model_details)"
   ]
  },
  {
   "cell_type": "code",
   "execution_count": null,
   "metadata": {
    "colab": {
     "autoexec": {
      "startup": false,
      "wait_interval": 0
     },
     "base_uri": "https://localhost:8080/",
     "height": 68
    },
    "colab_type": "code",
    "executionInfo": {
     "elapsed": 2709,
     "status": "ok",
     "timestamp": 1526001883519,
     "user": {
      "displayName": "iss ISS",
      "photoUrl": "https://lh3.googleusercontent.com/a/default-user=s128",
      "userId": "111819791795218148538"
     },
     "user_tz": -480
    },
    "id": "-854JmqdiH4u",
    "outputId": "e2683bdf-cfe7-4c1b-a4c1-b33faebc257f"
   },
   "outputs": [],
   "source": [
    "mean = train_datagen.mean\n",
    "std = train_datagen.std\n",
    "X_test = X_test.astype(np.float32, copy=False)\n",
    "X_test -= mean\n",
    "X_test /= std\n",
    "\n",
    "score = model.evaluate(X_test, Y_test, verbose=0)\n",
    "\n",
    "for i in range(0, len(score)):\n",
    "    print('{}: {}'.format(model.metrics_names[i], score[i]))"
   ]
  },
  {
   "cell_type": "code",
   "execution_count": null,
   "metadata": {
    "colab": {
     "autoexec": {
      "startup": false,
      "wait_interval": 0
     },
     "base_uri": "https://localhost:8080/",
     "height": 918
    },
    "colab_type": "code",
    "executionInfo": {
     "elapsed": 1956,
     "status": "ok",
     "timestamp": 1525969037763,
     "user": {
      "displayName": "JUN LIU",
      "photoUrl": "https://lh3.googleusercontent.com/a/default-user=s128",
      "userId": "106108549281672980963"
     },
     "user_tz": -480
    },
    "id": "tkj2uzNhiJ6l",
    "outputId": "256b4308-8283-4bfc-ed94-5f9ae01ced36"
   },
   "outputs": [],
   "source": [
    "# Batch size\n",
    "BATCH_SIZE = 32\n",
    "\n",
    "model = Sequential()\n",
    "\n",
    "model.add(Conv2D(64, (3, 3), activation='relu', input_shape=X_train[0].shape))\n",
    "model.add(BatchNormalization())\n",
    "model.add(Conv2D(64, (3, 3), activation='relu'))   \n",
    "model.add(BatchNormalization())\n",
    "model.add(MaxPooling2D((2, 2)))\n",
    "\n",
    "model.add(Conv2D(128, (3, 3), activation='relu'))\n",
    "model.add(BatchNormalization())\n",
    "model.add(Conv2D(128, (3, 3), activation='relu'))\n",
    "model.add(BatchNormalization()) \n",
    "model.add(MaxPooling2D((2, 2)))\n",
    "\n",
    "model.add(Conv2D(256, (3, 3), activation='relu'))\n",
    "model.add(BatchNormalization())\n",
    "model.add(Conv2D(256, (3, 3), activation='relu'))\n",
    "model.add(BatchNormalization())\n",
    "model.add(MaxPooling2D((2, 2)))\n",
    "\n",
    "model.add(Flatten())\n",
    "\n",
    "model.add(Dense(1024, activation='relu'))\n",
    "model.add(BatchNormalization())\n",
    "model.add(Dropout(0.5))\n",
    "\n",
    "model.add(Dense(1024, activation='linear'))\n",
    "model.add(BatchNormalization())\n",
    "model.add(Dropout(0.5))\n",
    "\n",
    "model.add(Dense(1))\n",
    "\n",
    "model.summary()"
   ]
  },
  {
   "cell_type": "code",
   "execution_count": null,
   "metadata": {
    "colab": {
     "autoexec": {
      "startup": false,
      "wait_interval": 0
     },
     "base_uri": "https://localhost:8080/",
     "height": 717
    },
    "colab_type": "code",
    "executionInfo": {
     "elapsed": 648661,
     "status": "ok",
     "timestamp": 1525938228798,
     "user": {
      "displayName": "JUN LIU",
      "photoUrl": "https://lh3.googleusercontent.com/a/default-user=s128",
      "userId": "106108549281672980963"
     },
     "user_tz": -480
    },
    "id": "hgNpSSYQiMHm",
    "outputId": "97f32a63-f2fa-4035-e4ff-1494f23ccd1e"
   },
   "outputs": [],
   "source": [
    "# Save the model after every epoch\n",
    "checkpoint = ModelCheckpoint('coins_reg_cnn.{epoch:02d}-{loss:.5f}.h5',  # model filename\n",
    "                             monitor='val_loss', \n",
    "                             verbose=0, \n",
    "                             save_best_only= True, \n",
    "                             mode='auto')\n",
    "\n",
    "reducelr = ReduceLROnPlateau(monitor='val_loss', \n",
    "                             factor=0.1, \n",
    "                             patience=10, \n",
    "                             verbose=0, \n",
    "                             mode='auto', \n",
    "                             min_delta=1.0e-5, \n",
    "                             cooldown=0, \n",
    "                             min_lr=0)\n",
    "    \n",
    "model.compile(loss='mse',\n",
    "              optimizer=Adam(lr=LEARN_RATE),\n",
    "              metrics=['mse', 'mae'])\n",
    "\n",
    "train_datagen = preimage.ImageDataGenerator(\n",
    "    featurewise_center=True,\n",
    "    featurewise_std_normalization=True,\n",
    "    rotation_range=90,\n",
    "    width_shift_range=0.2,\n",
    "    height_shift_range=0.2,\n",
    "    fill_mode='nearest')\n",
    "\n",
    "train_datagen.fit(X_train)\n",
    "\n",
    "test_datagen = preimage.ImageDataGenerator(\n",
    "    featurewise_center=True,\n",
    "    featurewise_std_normalization=True,\n",
    "    rotation_range=90,\n",
    "    width_shift_range=0.2,\n",
    "    height_shift_range=0.2,\n",
    "    fill_mode='nearest')\n",
    "\n",
    "test_datagen.fit(X_train)\n",
    "\n",
    "model_details = model.fit_generator(train_datagen.flow(X_train, Y_train, batch_size=BATCH_SIZE),\n",
    "                                    epochs=EPOCH,\n",
    "                                    verbose=1,\n",
    "                                    callbacks=[checkpoint, reducelr],\n",
    "                                    validation_data=test_datagen.flow(X_test, Y_test, batch_size=BATCH_SIZE))"
   ]
  },
  {
   "cell_type": "code",
   "execution_count": null,
   "metadata": {
    "colab": {
     "autoexec": {
      "startup": false,
      "wait_interval": 0
     },
     "base_uri": "https://localhost:8080/",
     "height": 349
    },
    "colab_type": "code",
    "executionInfo": {
     "elapsed": 2239,
     "status": "ok",
     "timestamp": 1525938290290,
     "user": {
      "displayName": "JUN LIU",
      "photoUrl": "https://lh3.googleusercontent.com/a/default-user=s128",
      "userId": "106108549281672980963"
     },
     "user_tz": -480
    },
    "id": "ZlHTjoEsiNZ8",
    "outputId": "326b8333-943a-4dd4-b515-1dfd8626b948"
   },
   "outputs": [],
   "source": [
    "plot_model(model_details)"
   ]
  },
  {
   "cell_type": "code",
   "execution_count": null,
   "metadata": {
    "colab": {
     "autoexec": {
      "startup": false,
      "wait_interval": 0
     },
     "base_uri": "https://localhost:8080/",
     "height": 68
    },
    "colab_type": "code",
    "executionInfo": {
     "elapsed": 2201,
     "status": "ok",
     "timestamp": 1525938296288,
     "user": {
      "displayName": "JUN LIU",
      "photoUrl": "https://lh3.googleusercontent.com/a/default-user=s128",
      "userId": "106108549281672980963"
     },
     "user_tz": -480
    },
    "id": "tzarhpBGiNnF",
    "outputId": "23e69511-81b0-4cf8-c7b4-a43f0c8e599e"
   },
   "outputs": [],
   "source": [
    "mean = train_datagen.mean\n",
    "std = train_datagen.std\n",
    "X_test = X_test.astype(np.float32, copy=False)\n",
    "X_test -= mean\n",
    "X_test /= std\n",
    "\n",
    "score = model.evaluate(X_test, Y_test, verbose=0)\n",
    "\n",
    "for i in range(0, len(score)):\n",
    "    print('{}: {}'.format(model.metrics_names[i], score[i]))"
   ]
  },
  {
   "cell_type": "code",
   "execution_count": null,
   "metadata": {
    "colab": {
     "autoexec": {
      "startup": false,
      "wait_interval": 0
     },
     "base_uri": "https://localhost:8080/",
     "height": 918
    },
    "colab_type": "code",
    "executionInfo": {
     "elapsed": 1350,
     "status": "ok",
     "timestamp": 1525969056775,
     "user": {
      "displayName": "JUN LIU",
      "photoUrl": "https://lh3.googleusercontent.com/a/default-user=s128",
      "userId": "106108549281672980963"
     },
     "user_tz": -480
    },
    "id": "yJEfPEHuiSuV",
    "outputId": "2f1962ab-fa94-44e0-f0e3-3f1b399a8433"
   },
   "outputs": [],
   "source": [
    "# Batch size\n",
    "BATCH_SIZE = 64\n",
    "\n",
    "model = Sequential()\n",
    "\n",
    "model.add(Conv2D(64, (3, 3), activation='relu', input_shape=X_train[0].shape))\n",
    "model.add(BatchNormalization())\n",
    "model.add(Conv2D(64, (3, 3), activation='relu'))   \n",
    "model.add(BatchNormalization())\n",
    "model.add(MaxPooling2D((2, 2)))\n",
    "\n",
    "model.add(Conv2D(128, (3, 3), activation='relu'))\n",
    "model.add(BatchNormalization())\n",
    "model.add(Conv2D(128, (3, 3), activation='relu'))\n",
    "model.add(BatchNormalization()) \n",
    "model.add(MaxPooling2D((2, 2)))\n",
    "\n",
    "model.add(Conv2D(256, (3, 3), activation='relu'))\n",
    "model.add(BatchNormalization())\n",
    "model.add(Conv2D(256, (3, 3), activation='relu'))\n",
    "model.add(BatchNormalization())\n",
    "model.add(MaxPooling2D((2, 2)))\n",
    "\n",
    "model.add(Flatten())\n",
    "\n",
    "model.add(Dense(1024, activation='relu'))\n",
    "model.add(BatchNormalization())\n",
    "model.add(Dropout(0.5))\n",
    "\n",
    "model.add(Dense(1024, activation='linear'))\n",
    "model.add(BatchNormalization())\n",
    "model.add(Dropout(0.5))\n",
    "\n",
    "model.add(Dense(1))\n",
    "\n",
    "model.summary()"
   ]
  },
  {
   "cell_type": "code",
   "execution_count": null,
   "metadata": {
    "colab": {
     "autoexec": {
      "startup": false,
      "wait_interval": 0
     },
     "base_uri": "https://localhost:8080/",
     "height": 717
    },
    "colab_type": "code",
    "executionInfo": {
     "elapsed": 450600,
     "status": "ok",
     "timestamp": 1525938796207,
     "user": {
      "displayName": "JUN LIU",
      "photoUrl": "https://lh3.googleusercontent.com/a/default-user=s128",
      "userId": "106108549281672980963"
     },
     "user_tz": -480
    },
    "id": "h8MFnr2CiVcE",
    "outputId": "43e606bd-a6d9-422e-d47f-0591735c4187"
   },
   "outputs": [],
   "source": [
    "# Save the model after every epoch\n",
    "checkpoint = ModelCheckpoint('coins_reg_cnn.{epoch:02d}-{loss:.5f}.h5',  # model filename\n",
    "                             monitor='val_loss', \n",
    "                             verbose=0, \n",
    "                             save_best_only= True, \n",
    "                             mode='auto')\n",
    "\n",
    "reducelr = ReduceLROnPlateau(monitor='val_loss', \n",
    "                             factor=0.1, \n",
    "                             patience=10, \n",
    "                             verbose=0, \n",
    "                             mode='auto', \n",
    "                             min_delta=1.0e-5, \n",
    "                             cooldown=0, \n",
    "                             min_lr=0)\n",
    "    \n",
    "model.compile(loss='mse',\n",
    "              optimizer=Adam(lr=LEARN_RATE),\n",
    "              metrics=['mse', 'mae'])\n",
    "\n",
    "train_datagen = preimage.ImageDataGenerator(\n",
    "    featurewise_center=True,\n",
    "    featurewise_std_normalization=True,\n",
    "    rotation_range=90,\n",
    "    width_shift_range=0.2,\n",
    "    height_shift_range=0.2,\n",
    "    fill_mode='nearest')\n",
    "\n",
    "train_datagen.fit(X_train)\n",
    "\n",
    "test_datagen = preimage.ImageDataGenerator(\n",
    "    featurewise_center=True,\n",
    "    featurewise_std_normalization=True,\n",
    "    rotation_range=90,\n",
    "    width_shift_range=0.2,\n",
    "    height_shift_range=0.2,\n",
    "    fill_mode='nearest')\n",
    "\n",
    "test_datagen.fit(X_train)\n",
    "\n",
    "model_details = model.fit_generator(train_datagen.flow(X_train, Y_train, batch_size=BATCH_SIZE),\n",
    "                                    epochs=EPOCH,\n",
    "                                    verbose=1,\n",
    "                                    callbacks=[checkpoint, reducelr],\n",
    "                                    validation_data=test_datagen.flow(X_test, Y_test, batch_size=BATCH_SIZE))"
   ]
  },
  {
   "cell_type": "code",
   "execution_count": null,
   "metadata": {
    "colab": {
     "autoexec": {
      "startup": false,
      "wait_interval": 0
     },
     "base_uri": "https://localhost:8080/",
     "height": 349
    },
    "colab_type": "code",
    "executionInfo": {
     "elapsed": 1831,
     "status": "ok",
     "timestamp": 1525938995546,
     "user": {
      "displayName": "JUN LIU",
      "photoUrl": "https://lh3.googleusercontent.com/a/default-user=s128",
      "userId": "106108549281672980963"
     },
     "user_tz": -480
    },
    "id": "c4B4STajiYCx",
    "outputId": "30377d02-4027-454f-9e6b-1ac6089f6c47"
   },
   "outputs": [],
   "source": [
    "plot_model(model_details)"
   ]
  },
  {
   "cell_type": "code",
   "execution_count": null,
   "metadata": {
    "colab": {
     "autoexec": {
      "startup": false,
      "wait_interval": 0
     },
     "base_uri": "https://localhost:8080/",
     "height": 68
    },
    "colab_type": "code",
    "executionInfo": {
     "elapsed": 2348,
     "status": "ok",
     "timestamp": 1525939002564,
     "user": {
      "displayName": "JUN LIU",
      "photoUrl": "https://lh3.googleusercontent.com/a/default-user=s128",
      "userId": "106108549281672980963"
     },
     "user_tz": -480
    },
    "id": "FgOdaN4ziZ4g",
    "outputId": "b786eb34-9a55-47b5-a903-145cae2c8470"
   },
   "outputs": [],
   "source": [
    "mean = train_datagen.mean\n",
    "std = train_datagen.std\n",
    "X_test = X_test.astype(np.float32, copy=False)\n",
    "X_test -= mean\n",
    "X_test /= std\n",
    "\n",
    "score = model.evaluate(X_test, Y_test, verbose=0)\n",
    "\n",
    "for i in range(0, len(score)):\n",
    "    print('{}: {}'.format(model.metrics_names[i], score[i]))"
   ]
  },
  {
   "cell_type": "markdown",
   "metadata": {
    "colab_type": "text",
    "id": "_9ZQQQTDE9BJ"
   },
   "source": [
    "### 3.Optimizer"
   ]
  },
  {
   "cell_type": "code",
   "execution_count": null,
   "metadata": {
    "colab": {
     "autoexec": {
      "startup": false,
      "wait_interval": 0
     },
     "base_uri": "https://localhost:8080/",
     "height": 918
    },
    "colab_type": "code",
    "executionInfo": {
     "elapsed": 2364,
     "status": "ok",
     "timestamp": 1526002617062,
     "user": {
      "displayName": "iss ISS",
      "photoUrl": "https://lh3.googleusercontent.com/a/default-user=s128",
      "userId": "111819791795218148538"
     },
     "user_tz": -480
    },
    "id": "vChuLOvyyjWJ",
    "outputId": "a4f2e324-7537-48df-9930-614ba9a78a69"
   },
   "outputs": [],
   "source": [
    "model = Sequential()\n",
    "\n",
    "model.add(Conv2D(64, (3, 3), activation='relu', input_shape=X_train[0].shape))\n",
    "model.add(BatchNormalization())\n",
    "model.add(Conv2D(64, (3, 3), activation='relu'))   \n",
    "model.add(BatchNormalization())\n",
    "model.add(MaxPooling2D((2, 2)))\n",
    "\n",
    "model.add(Conv2D(128, (3, 3), activation='relu'))\n",
    "model.add(BatchNormalization())\n",
    "model.add(Conv2D(128, (3, 3), activation='relu'))\n",
    "model.add(BatchNormalization()) \n",
    "model.add(MaxPooling2D((2, 2)))\n",
    "\n",
    "model.add(Conv2D(256, (3, 3), activation='relu'))\n",
    "model.add(BatchNormalization())\n",
    "model.add(Conv2D(256, (3, 3), activation='relu'))\n",
    "model.add(BatchNormalization())\n",
    "model.add(MaxPooling2D((2, 2)))\n",
    "\n",
    "model.add(Flatten())\n",
    "\n",
    "model.add(Dense(1024, activation='relu'))\n",
    "model.add(BatchNormalization())\n",
    "model.add(Dropout(0.5))\n",
    "\n",
    "model.add(Dense(1024, activation='linear'))\n",
    "model.add(BatchNormalization())\n",
    "model.add(Dropout(0.5))\n",
    "\n",
    "model.add(Dense(1))\n",
    "\n",
    "model.summary()"
   ]
  },
  {
   "cell_type": "code",
   "execution_count": null,
   "metadata": {
    "colab": {
     "autoexec": {
      "startup": false,
      "wait_interval": 0
     },
     "base_uri": "https://localhost:8080/",
     "height": 717
    },
    "colab_type": "code",
    "executionInfo": {
     "elapsed": 449282,
     "status": "ok",
     "timestamp": 1526002390676,
     "user": {
      "displayName": "iss ISS",
      "photoUrl": "https://lh3.googleusercontent.com/a/default-user=s128",
      "userId": "111819791795218148538"
     },
     "user_tz": -480
    },
    "id": "k75rWg3YFbEV",
    "outputId": "368d7424-4a96-4638-f653-e7658c3e2993"
   },
   "outputs": [],
   "source": [
    "# RMSprop\n",
    "# Save the model after every epoch\n",
    "checkpoint = ModelCheckpoint('coins_reg_cnn.{epoch:02d}-{loss:.5f}.h5',  # model filename\n",
    "                             monitor='val_loss', \n",
    "                             verbose=0, \n",
    "                             save_best_only= True, \n",
    "                             mode='auto')\n",
    "\n",
    "reducelr = ReduceLROnPlateau(monitor='val_loss', \n",
    "                             factor=0.1, \n",
    "                             patience=10, \n",
    "                             verbose=0, \n",
    "                             mode='auto', \n",
    "                             min_delta=1.0e-5, \n",
    "                             cooldown=0, \n",
    "                             min_lr=0)\n",
    "    \n",
    "model.compile(loss='mse',\n",
    "              optimizer=RMSprop(lr=LEARN_RATE),\n",
    "              metrics=['mse', 'mae'])\n",
    "\n",
    "train_datagen = preimage.ImageDataGenerator(\n",
    "    featurewise_center=True,\n",
    "    featurewise_std_normalization=True,\n",
    "    rotation_range=90,\n",
    "    width_shift_range=0.2,\n",
    "    height_shift_range=0.2,\n",
    "    fill_mode='nearest')\n",
    "\n",
    "train_datagen.fit(X_train)\n",
    "\n",
    "test_datagen = preimage.ImageDataGenerator(\n",
    "    featurewise_center=True,\n",
    "    featurewise_std_normalization=True,\n",
    "    rotation_range=90,\n",
    "    width_shift_range=0.2,\n",
    "    height_shift_range=0.2,\n",
    "    fill_mode='nearest')\n",
    "\n",
    "test_datagen.fit(X_train)\n",
    "\n",
    "model_details = model.fit_generator(train_datagen.flow(X_train, Y_train, batch_size=BATCH_SIZE),\n",
    "                                    epochs=EPOCH,\n",
    "                                    verbose=1,\n",
    "                                    callbacks=[checkpoint, reducelr],\n",
    "                                    validation_data=test_datagen.flow(X_test, Y_test, batch_size=BATCH_SIZE))"
   ]
  },
  {
   "cell_type": "code",
   "execution_count": null,
   "metadata": {
    "colab": {
     "autoexec": {
      "startup": false,
      "wait_interval": 0
     },
     "base_uri": "https://localhost:8080/",
     "height": 369
    },
    "colab_type": "code",
    "executionInfo": {
     "elapsed": 1102,
     "status": "ok",
     "timestamp": 1526002410999,
     "user": {
      "displayName": "iss ISS",
      "photoUrl": "https://lh3.googleusercontent.com/a/default-user=s128",
      "userId": "111819791795218148538"
     },
     "user_tz": -480
    },
    "id": "MzpTudhSFpdd",
    "outputId": "d590874f-0a07-475b-acb2-27a00938dc24"
   },
   "outputs": [],
   "source": [
    "plot_model(model_details)"
   ]
  },
  {
   "cell_type": "code",
   "execution_count": null,
   "metadata": {
    "colab": {
     "autoexec": {
      "startup": false,
      "wait_interval": 0
     },
     "base_uri": "https://localhost:8080/",
     "height": 68
    },
    "colab_type": "code",
    "executionInfo": {
     "elapsed": 2299,
     "status": "ok",
     "timestamp": 1526002437794,
     "user": {
      "displayName": "iss ISS",
      "photoUrl": "https://lh3.googleusercontent.com/a/default-user=s128",
      "userId": "111819791795218148538"
     },
     "user_tz": -480
    },
    "id": "xJbJWUUkFq-E",
    "outputId": "b73a584d-8c37-41e7-fd0f-ae0aa8347203"
   },
   "outputs": [],
   "source": [
    "mean = train_datagen.mean\n",
    "std = train_datagen.std\n",
    "X_test = X_test.astype(np.float32, copy=False)\n",
    "X_test -= mean\n",
    "X_test /= std\n",
    "\n",
    "score = model.evaluate(X_test, Y_test, verbose=0)\n",
    "\n",
    "for i in range(0, len(score)):\n",
    "    print('{}: {}'.format(model.metrics_names[i], score[i]))"
   ]
  },
  {
   "cell_type": "code",
   "execution_count": null,
   "metadata": {
    "colab": {
     "autoexec": {
      "startup": false,
      "wait_interval": 0
     },
     "base_uri": "https://localhost:8080/",
     "height": 717
    },
    "colab_type": "code",
    "executionInfo": {
     "elapsed": 501816,
     "status": "ok",
     "timestamp": 1525946197991,
     "user": {
      "displayName": "JUN LIU",
      "photoUrl": "https://lh3.googleusercontent.com/a/default-user=s128",
      "userId": "106108549281672980963"
     },
     "user_tz": -480
    },
    "id": "j1vG24P4FskI",
    "outputId": "be5d5ff9-4084-4329-c104-5da26b5ac3a4"
   },
   "outputs": [],
   "source": [
    "# Adagrad\n",
    "# Save the model after every epoch\n",
    "checkpoint = ModelCheckpoint('coins_reg_cnn.{epoch:02d}-{loss:.5f}.h5',  # model filename\n",
    "                             monitor='val_loss', \n",
    "                             verbose=0, \n",
    "                             save_best_only= True, \n",
    "                             mode='auto')\n",
    "\n",
    "reducelr = ReduceLROnPlateau(monitor='val_loss', \n",
    "                             factor=0.1, \n",
    "                             patience=10, \n",
    "                             verbose=0, \n",
    "                             mode='auto', \n",
    "                             min_delta=1.0e-5, \n",
    "                             cooldown=0, \n",
    "                             min_lr=0)\n",
    "    \n",
    "model.compile(loss='mse',\n",
    "              optimizer=Adagrad(lr=LEARN_RATE),\n",
    "              metrics=['mse', 'mae'])\n",
    "\n",
    "train_datagen = preimage.ImageDataGenerator(\n",
    "    featurewise_center=True,\n",
    "    featurewise_std_normalization=True,\n",
    "    rotation_range=90,\n",
    "    width_shift_range=0.2,\n",
    "    height_shift_range=0.2,\n",
    "    fill_mode='nearest')\n",
    "\n",
    "train_datagen.fit(X_train)\n",
    "\n",
    "test_datagen = preimage.ImageDataGenerator(\n",
    "    featurewise_center=True,\n",
    "    featurewise_std_normalization=True,\n",
    "    rotation_range=90,\n",
    "    width_shift_range=0.2,\n",
    "    height_shift_range=0.2,\n",
    "    fill_mode='nearest')\n",
    "\n",
    "test_datagen.fit(X_train)\n",
    "\n",
    "model_details = model.fit_generator(train_datagen.flow(X_train, Y_train, batch_size=BATCH_SIZE),\n",
    "                                    epochs=EPOCH,\n",
    "                                    verbose=1,\n",
    "                                    callbacks=[checkpoint, reducelr],\n",
    "                                    validation_data=test_datagen.flow(X_test, Y_test, batch_size=BATCH_SIZE))"
   ]
  },
  {
   "cell_type": "code",
   "execution_count": null,
   "metadata": {
    "colab": {
     "autoexec": {
      "startup": false,
      "wait_interval": 0
     },
     "base_uri": "https://localhost:8080/",
     "height": 349
    },
    "colab_type": "code",
    "executionInfo": {
     "elapsed": 1841,
     "status": "ok",
     "timestamp": 1525946226908,
     "user": {
      "displayName": "JUN LIU",
      "photoUrl": "https://lh3.googleusercontent.com/a/default-user=s128",
      "userId": "106108549281672980963"
     },
     "user_tz": -480
    },
    "id": "6KPgzXpvF12s",
    "outputId": "417f456c-c997-4f81-fcc7-25c627405e3d"
   },
   "outputs": [],
   "source": [
    "plot_model(model_details)"
   ]
  },
  {
   "cell_type": "code",
   "execution_count": null,
   "metadata": {
    "colab": {
     "autoexec": {
      "startup": false,
      "wait_interval": 0
     },
     "base_uri": "https://localhost:8080/",
     "height": 68
    },
    "colab_type": "code",
    "executionInfo": {
     "elapsed": 2174,
     "status": "ok",
     "timestamp": 1525946232821,
     "user": {
      "displayName": "JUN LIU",
      "photoUrl": "https://lh3.googleusercontent.com/a/default-user=s128",
      "userId": "106108549281672980963"
     },
     "user_tz": -480
    },
    "id": "jTT_JzSkF3Wx",
    "outputId": "6ce6046b-51f6-43f6-896e-3cc119a67817"
   },
   "outputs": [],
   "source": [
    "mean = train_datagen.mean\n",
    "std = train_datagen.std\n",
    "X_test = X_test.astype(np.float32, copy=False)\n",
    "X_test -= mean\n",
    "X_test /= std\n",
    "\n",
    "score = model.evaluate(X_test, Y_test, verbose=0)\n",
    "\n",
    "for i in range(0, len(score)):\n",
    "    print('{}: {}'.format(model.metrics_names[i], score[i]))"
   ]
  },
  {
   "cell_type": "code",
   "execution_count": null,
   "metadata": {
    "colab": {
     "autoexec": {
      "startup": false,
      "wait_interval": 0
     },
     "base_uri": "https://localhost:8080/",
     "height": 717
    },
    "colab_type": "code",
    "executionInfo": {
     "elapsed": 782287,
     "status": "ok",
     "timestamp": 1525947072141,
     "user": {
      "displayName": "JUN LIU",
      "photoUrl": "https://lh3.googleusercontent.com/a/default-user=s128",
      "userId": "106108549281672980963"
     },
     "user_tz": -480
    },
    "id": "lWJHgqkQGAQa",
    "outputId": "baee52d2-b9ee-4ede-94f1-c056871d5fab"
   },
   "outputs": [],
   "source": [
    "# Adadelta\n",
    "# Save the model after every epoch\n",
    "checkpoint = ModelCheckpoint('coins_reg_cnn.{epoch:02d}-{loss:.5f}.h5',  # model filename\n",
    "                             monitor='val_loss', \n",
    "                             verbose=0, \n",
    "                             save_best_only= True, \n",
    "                             mode='auto')\n",
    "\n",
    "reducelr = ReduceLROnPlateau(monitor='val_loss', \n",
    "                             factor=0.1, \n",
    "                             patience=10, \n",
    "                             verbose=0, \n",
    "                             mode='auto', \n",
    "                             min_delta=1.0e-5, \n",
    "                             cooldown=0, \n",
    "                             min_lr=0)\n",
    "    \n",
    "model.compile(loss='mse',\n",
    "              optimizer=Adadelta(lr=LEARN_RATE),\n",
    "              metrics=['mse', 'mae'])\n",
    "\n",
    "train_datagen = preimage.ImageDataGenerator(\n",
    "    featurewise_center=True,\n",
    "    featurewise_std_normalization=True,\n",
    "    rotation_range=90,\n",
    "    width_shift_range=0.2,\n",
    "    height_shift_range=0.2,\n",
    "    fill_mode='nearest')\n",
    "\n",
    "train_datagen.fit(X_train)\n",
    "\n",
    "test_datagen = preimage.ImageDataGenerator(\n",
    "    featurewise_center=True,\n",
    "    featurewise_std_normalization=True,\n",
    "    rotation_range=90,\n",
    "    width_shift_range=0.2,\n",
    "    height_shift_range=0.2,\n",
    "    fill_mode='nearest')\n",
    "\n",
    "test_datagen.fit(X_train)\n",
    "\n",
    "model_details = model.fit_generator(train_datagen.flow(X_train, Y_train, batch_size=BATCH_SIZE),\n",
    "                                    epochs=EPOCH,\n",
    "                                    verbose=1,\n",
    "                                    callbacks=[checkpoint, reducelr],\n",
    "                                    validation_data=test_datagen.flow(X_test, Y_test, batch_size=BATCH_SIZE))"
   ]
  },
  {
   "cell_type": "code",
   "execution_count": null,
   "metadata": {
    "colab": {
     "autoexec": {
      "startup": false,
      "wait_interval": 0
     },
     "base_uri": "https://localhost:8080/",
     "height": 349
    },
    "colab_type": "code",
    "executionInfo": {
     "elapsed": 1625,
     "status": "ok",
     "timestamp": 1525947080411,
     "user": {
      "displayName": "JUN LIU",
      "photoUrl": "https://lh3.googleusercontent.com/a/default-user=s128",
      "userId": "106108549281672980963"
     },
     "user_tz": -480
    },
    "id": "63D0pjVWGGs4",
    "outputId": "2fbe5e1f-9d98-4ae8-94cb-b062da51c95d"
   },
   "outputs": [],
   "source": [
    "plot_model(model_details)"
   ]
  },
  {
   "cell_type": "code",
   "execution_count": null,
   "metadata": {
    "colab": {
     "autoexec": {
      "startup": false,
      "wait_interval": 0
     },
     "base_uri": "https://localhost:8080/",
     "height": 68
    },
    "colab_type": "code",
    "executionInfo": {
     "elapsed": 2139,
     "status": "ok",
     "timestamp": 1525947105478,
     "user": {
      "displayName": "JUN LIU",
      "photoUrl": "https://lh3.googleusercontent.com/a/default-user=s128",
      "userId": "106108549281672980963"
     },
     "user_tz": -480
    },
    "id": "qy8jfyogGISW",
    "outputId": "864975ee-4164-42d3-810e-7dc1a4c11e21"
   },
   "outputs": [],
   "source": [
    "mean = train_datagen.mean\n",
    "std = train_datagen.std\n",
    "X_test = X_test.astype(np.float32, copy=False)\n",
    "X_test -= mean\n",
    "X_test /= std\n",
    "\n",
    "score = model.evaluate(X_test, Y_test, verbose=0)\n",
    "\n",
    "for i in range(0, len(score)):\n",
    "    print('{}: {}'.format(model.metrics_names[i], score[i]))"
   ]
  },
  {
   "cell_type": "code",
   "execution_count": null,
   "metadata": {
    "colab": {
     "autoexec": {
      "startup": false,
      "wait_interval": 0
     },
     "base_uri": "https://localhost:8080/",
     "height": 717
    },
    "colab_type": "code",
    "executionInfo": {
     "elapsed": 487275,
     "status": "ok",
     "timestamp": 1526003132888,
     "user": {
      "displayName": "iss ISS",
      "photoUrl": "https://lh3.googleusercontent.com/a/default-user=s128",
      "userId": "111819791795218148538"
     },
     "user_tz": -480
    },
    "id": "vlykfaO5VokR",
    "outputId": "660a6469-7e63-4bb9-ff75-2ae2aecfe861"
   },
   "outputs": [],
   "source": [
    "# Adam\n",
    "# Save the model after every epoch\n",
    "checkpoint = ModelCheckpoint('coins_reg_cnn.{epoch:02d}-{loss:.5f}.h5',  # model filename\n",
    "                             monitor='val_loss', \n",
    "                             verbose=0, \n",
    "                             save_best_only= True, \n",
    "                             mode='auto')\n",
    "\n",
    "reducelr = ReduceLROnPlateau(monitor='val_loss', \n",
    "                             factor=0.1, \n",
    "                             patience=10, \n",
    "                             verbose=0, \n",
    "                             mode='auto', \n",
    "                             min_delta=1.0e-5, \n",
    "                             cooldown=0, \n",
    "                             min_lr=0)\n",
    "    \n",
    "model.compile(loss='mse',\n",
    "              optimizer=Adam(lr=LEARN_RATE),\n",
    "              metrics=['mse', 'mae'])\n",
    "\n",
    "train_datagen = preimage.ImageDataGenerator(\n",
    "    featurewise_center=True,\n",
    "    featurewise_std_normalization=True,\n",
    "    rotation_range=90,\n",
    "    width_shift_range=0.2,\n",
    "    height_shift_range=0.2,\n",
    "    fill_mode='nearest')\n",
    "\n",
    "train_datagen.fit(X_train)\n",
    "\n",
    "test_datagen = preimage.ImageDataGenerator(\n",
    "    featurewise_center=True,\n",
    "    featurewise_std_normalization=True,\n",
    "    rotation_range=90,\n",
    "    width_shift_range=0.2,\n",
    "    height_shift_range=0.2,\n",
    "    fill_mode='nearest')\n",
    "\n",
    "test_datagen.fit(X_train)\n",
    "\n",
    "model_details = model.fit_generator(train_datagen.flow(X_train, Y_train, batch_size=BATCH_SIZE),\n",
    "                                    epochs=EPOCH,\n",
    "                                    verbose=1,\n",
    "                                    callbacks=[checkpoint, reducelr],\n",
    "                                    validation_data=test_datagen.flow(X_test, Y_test, batch_size=BATCH_SIZE))"
   ]
  },
  {
   "cell_type": "code",
   "execution_count": null,
   "metadata": {
    "colab": {
     "autoexec": {
      "startup": false,
      "wait_interval": 0
     },
     "base_uri": "https://localhost:8080/",
     "height": 369
    },
    "colab_type": "code",
    "executionInfo": {
     "elapsed": 1545,
     "status": "ok",
     "timestamp": 1526003140827,
     "user": {
      "displayName": "iss ISS",
      "photoUrl": "https://lh3.googleusercontent.com/a/default-user=s128",
      "userId": "111819791795218148538"
     },
     "user_tz": -480
    },
    "id": "Q17n9xE8VsvW",
    "outputId": "2a826241-9dd3-4ef4-e701-65230c0efebf"
   },
   "outputs": [],
   "source": [
    "plot_model(model_details)"
   ]
  },
  {
   "cell_type": "code",
   "execution_count": null,
   "metadata": {
    "colab": {
     "autoexec": {
      "startup": false,
      "wait_interval": 0
     },
     "base_uri": "https://localhost:8080/",
     "height": 68
    },
    "colab_type": "code",
    "executionInfo": {
     "elapsed": 2677,
     "status": "ok",
     "timestamp": 1526003147018,
     "user": {
      "displayName": "iss ISS",
      "photoUrl": "https://lh3.googleusercontent.com/a/default-user=s128",
      "userId": "111819791795218148538"
     },
     "user_tz": -480
    },
    "id": "OVBSl3f_VuVA",
    "outputId": "d4a9569b-3309-4d1e-cc8c-9caa69baddca"
   },
   "outputs": [],
   "source": [
    "mean = train_datagen.mean\n",
    "std = train_datagen.std\n",
    "X_test = X_test.astype(np.float32, copy=False)\n",
    "X_test -= mean\n",
    "X_test /= std\n",
    "\n",
    "score = model.evaluate(X_test, Y_test, verbose=0)\n",
    "\n",
    "for i in range(0, len(score)):\n",
    "    print('{}: {}'.format(model.metrics_names[i], score[i]))"
   ]
  },
  {
   "cell_type": "markdown",
   "metadata": {
    "colab_type": "text",
    "id": "1L4pSdITibfg"
   },
   "source": [
    "### 4.Learning Rate"
   ]
  },
  {
   "cell_type": "code",
   "execution_count": null,
   "metadata": {
    "colab": {
     "autoexec": {
      "startup": false,
      "wait_interval": 0
     },
     "base_uri": "https://localhost:8080/",
     "height": 918
    },
    "colab_type": "code",
    "executionInfo": {
     "elapsed": 2836,
     "status": "ok",
     "timestamp": 1526003199956,
     "user": {
      "displayName": "iss ISS",
      "photoUrl": "https://lh3.googleusercontent.com/a/default-user=s128",
      "userId": "111819791795218148538"
     },
     "user_tz": -480
    },
    "id": "ptn3rg4wZxP4",
    "outputId": "0a246e57-05cc-42b4-909d-bbbe0d6db87c"
   },
   "outputs": [],
   "source": [
    "# learning rate\n",
    "LEARN_RATE = 1.0e-1\n",
    "\n",
    "model = Sequential()\n",
    "\n",
    "model.add(Conv2D(64, (3, 3), activation='relu', input_shape=X_train[0].shape))\n",
    "model.add(BatchNormalization())\n",
    "model.add(Conv2D(64, (3, 3), activation='relu'))   \n",
    "model.add(BatchNormalization())\n",
    "model.add(MaxPooling2D((2, 2)))\n",
    "\n",
    "model.add(Conv2D(128, (3, 3), activation='relu'))\n",
    "model.add(BatchNormalization())\n",
    "model.add(Conv2D(128, (3, 3), activation='relu'))\n",
    "model.add(BatchNormalization()) \n",
    "model.add(MaxPooling2D((2, 2)))\n",
    "\n",
    "model.add(Conv2D(256, (3, 3), activation='relu'))\n",
    "model.add(BatchNormalization())\n",
    "model.add(Conv2D(256, (3, 3), activation='relu'))\n",
    "model.add(BatchNormalization())\n",
    "model.add(MaxPooling2D((2, 2)))\n",
    "\n",
    "model.add(Flatten())\n",
    "\n",
    "model.add(Dense(1024, activation='relu'))\n",
    "model.add(BatchNormalization())\n",
    "model.add(Dropout(0.5))\n",
    "\n",
    "model.add(Dense(1024, activation='linear'))\n",
    "model.add(BatchNormalization())\n",
    "model.add(Dropout(0.5))\n",
    "\n",
    "model.add(Dense(1))\n",
    "\n",
    "model.summary()"
   ]
  },
  {
   "cell_type": "code",
   "execution_count": null,
   "metadata": {
    "colab": {
     "autoexec": {
      "startup": false,
      "wait_interval": 0
     },
     "base_uri": "https://localhost:8080/",
     "height": 717
    },
    "colab_type": "code",
    "executionInfo": {
     "elapsed": 481629,
     "status": "ok",
     "timestamp": 1526003692217,
     "user": {
      "displayName": "iss ISS",
      "photoUrl": "https://lh3.googleusercontent.com/a/default-user=s128",
      "userId": "111819791795218148538"
     },
     "user_tz": -480
    },
    "id": "DVEs4jXSigoY",
    "outputId": "ec167844-c743-4014-d05a-5b99170367a7"
   },
   "outputs": [],
   "source": [
    "# Save the model after every epoch\n",
    "checkpoint = ModelCheckpoint('coins_reg_cnn.{epoch:02d}-{loss:.5f}.h5',  # model filename\n",
    "                             monitor='val_loss', \n",
    "                             verbose=0, \n",
    "                             save_best_only= True, \n",
    "                             mode='auto')\n",
    "\n",
    "reducelr = ReduceLROnPlateau(monitor='val_loss', \n",
    "                             factor=0.1, \n",
    "                             patience=10, \n",
    "                             verbose=0, \n",
    "                             mode='auto', \n",
    "                             min_delta=1.0e-5, \n",
    "                             cooldown=0, \n",
    "                             min_lr=0)\n",
    "    \n",
    "model.compile(loss='mse',\n",
    "              optimizer=Adam(lr=LEARN_RATE),\n",
    "              metrics=['mse', 'mae'])\n",
    "\n",
    "train_datagen = preimage.ImageDataGenerator(\n",
    "    featurewise_center=True,\n",
    "    featurewise_std_normalization=True,\n",
    "    rotation_range=90,\n",
    "    width_shift_range=0.2,\n",
    "    height_shift_range=0.2,\n",
    "    fill_mode='nearest')\n",
    "\n",
    "train_datagen.fit(X_train)\n",
    "\n",
    "test_datagen = preimage.ImageDataGenerator(\n",
    "    featurewise_center=True,\n",
    "    featurewise_std_normalization=True,\n",
    "    rotation_range=90,\n",
    "    width_shift_range=0.2,\n",
    "    height_shift_range=0.2,\n",
    "    fill_mode='nearest')\n",
    "\n",
    "test_datagen.fit(X_train)\n",
    "\n",
    "model_details = model.fit_generator(train_datagen.flow(X_train, Y_train, batch_size=BATCH_SIZE),\n",
    "                                    epochs=EPOCH,\n",
    "                                    verbose=1,\n",
    "                                    callbacks=[checkpoint, reducelr],\n",
    "                                    validation_data=test_datagen.flow(X_test, Y_test, batch_size=BATCH_SIZE))"
   ]
  },
  {
   "cell_type": "code",
   "execution_count": null,
   "metadata": {
    "colab": {
     "autoexec": {
      "startup": false,
      "wait_interval": 0
     },
     "base_uri": "https://localhost:8080/",
     "height": 369
    },
    "colab_type": "code",
    "executionInfo": {
     "elapsed": 1377,
     "status": "ok",
     "timestamp": 1526003756881,
     "user": {
      "displayName": "iss ISS",
      "photoUrl": "https://lh3.googleusercontent.com/a/default-user=s128",
      "userId": "111819791795218148538"
     },
     "user_tz": -480
    },
    "id": "E6qpjdI3iil4",
    "outputId": "eeaded1c-2cbe-481b-e62b-1739d9b6676c"
   },
   "outputs": [],
   "source": [
    "plot_model(model_details)"
   ]
  },
  {
   "cell_type": "code",
   "execution_count": null,
   "metadata": {
    "colab": {
     "autoexec": {
      "startup": false,
      "wait_interval": 0
     },
     "base_uri": "https://localhost:8080/",
     "height": 68
    },
    "colab_type": "code",
    "executionInfo": {
     "elapsed": 2657,
     "status": "ok",
     "timestamp": 1526003762917,
     "user": {
      "displayName": "iss ISS",
      "photoUrl": "https://lh3.googleusercontent.com/a/default-user=s128",
      "userId": "111819791795218148538"
     },
     "user_tz": -480
    },
    "id": "S_LQFN4iikch",
    "outputId": "68c09f30-7d88-4726-cdc7-f9f3e28dee3c"
   },
   "outputs": [],
   "source": [
    "mean = train_datagen.mean\n",
    "std = train_datagen.std\n",
    "X_test = X_test.astype(np.float32, copy=False)\n",
    "X_test -= mean\n",
    "X_test /= std\n",
    "\n",
    "score = model.evaluate(X_test, Y_test, verbose=0)\n",
    "\n",
    "for i in range(0, len(score)):\n",
    "    print('{}: {}'.format(model.metrics_names[i], score[i]))"
   ]
  },
  {
   "cell_type": "code",
   "execution_count": null,
   "metadata": {
    "colab": {
     "autoexec": {
      "startup": false,
      "wait_interval": 0
     },
     "base_uri": "https://localhost:8080/",
     "height": 918
    },
    "colab_type": "code",
    "executionInfo": {
     "elapsed": 1571,
     "status": "ok",
     "timestamp": 1526003782364,
     "user": {
      "displayName": "iss ISS",
      "photoUrl": "https://lh3.googleusercontent.com/a/default-user=s128",
      "userId": "111819791795218148538"
     },
     "user_tz": -480
    },
    "id": "wmzjYPJii_yD",
    "outputId": "2eaa1caa-f740-476f-cc2a-bf8ad70d1732"
   },
   "outputs": [],
   "source": [
    "# learning rate\n",
    "LEARN_RATE = 1.0e-2\n",
    "\n",
    "model = Sequential()\n",
    "\n",
    "model.add(Conv2D(64, (3, 3), activation='relu', input_shape=X_train[0].shape))\n",
    "model.add(BatchNormalization())\n",
    "model.add(Conv2D(64, (3, 3), activation='relu'))   \n",
    "model.add(BatchNormalization())\n",
    "model.add(MaxPooling2D((2, 2)))\n",
    "\n",
    "model.add(Conv2D(128, (3, 3), activation='relu'))\n",
    "model.add(BatchNormalization())\n",
    "model.add(Conv2D(128, (3, 3), activation='relu'))\n",
    "model.add(BatchNormalization()) \n",
    "model.add(MaxPooling2D((2, 2)))\n",
    "\n",
    "model.add(Conv2D(256, (3, 3), activation='relu'))\n",
    "model.add(BatchNormalization())\n",
    "model.add(Conv2D(256, (3, 3), activation='relu'))\n",
    "model.add(BatchNormalization())\n",
    "model.add(MaxPooling2D((2, 2)))\n",
    "\n",
    "model.add(Flatten())\n",
    "\n",
    "model.add(Dense(1024, activation='relu'))\n",
    "model.add(BatchNormalization())\n",
    "model.add(Dropout(0.5))\n",
    "\n",
    "model.add(Dense(1024, activation='linear'))\n",
    "model.add(BatchNormalization())\n",
    "model.add(Dropout(0.5))\n",
    "\n",
    "model.add(Dense(1))\n",
    "\n",
    "model.summary()"
   ]
  },
  {
   "cell_type": "code",
   "execution_count": null,
   "metadata": {
    "colab": {
     "autoexec": {
      "startup": false,
      "wait_interval": 0
     },
     "base_uri": "https://localhost:8080/",
     "height": 717
    },
    "colab_type": "code",
    "executionInfo": {
     "elapsed": 479798,
     "status": "ok",
     "timestamp": 1526004266481,
     "user": {
      "displayName": "iss ISS",
      "photoUrl": "https://lh3.googleusercontent.com/a/default-user=s128",
      "userId": "111819791795218148538"
     },
     "user_tz": -480
    },
    "id": "o8FkMb6YjEsa",
    "outputId": "b10fbb14-08b4-4177-b958-c065e812a26d"
   },
   "outputs": [],
   "source": [
    "# Save the model after every epoch\n",
    "checkpoint = ModelCheckpoint('coins_reg_cnn.{epoch:02d}-{loss:.5f}.h5',  # model filename\n",
    "                             monitor='val_loss', \n",
    "                             verbose=0, \n",
    "                             save_best_only= True, \n",
    "                             mode='auto')\n",
    "\n",
    "reducelr = ReduceLROnPlateau(monitor='val_loss', \n",
    "                             factor=0.1, \n",
    "                             patience=10, \n",
    "                             verbose=0, \n",
    "                             mode='auto', \n",
    "                             min_delta=1.0e-5, \n",
    "                             cooldown=0, \n",
    "                             min_lr=0)\n",
    "    \n",
    "model.compile(loss='mse',\n",
    "              optimizer=Adam(lr=LEARN_RATE),\n",
    "              metrics=['mse', 'mae'])\n",
    "\n",
    "train_datagen = preimage.ImageDataGenerator(\n",
    "    featurewise_center=True,\n",
    "    featurewise_std_normalization=True,\n",
    "    rotation_range=90,\n",
    "    width_shift_range=0.2,\n",
    "    height_shift_range=0.2,\n",
    "    fill_mode='nearest')\n",
    "\n",
    "train_datagen.fit(X_train)\n",
    "\n",
    "test_datagen = preimage.ImageDataGenerator(\n",
    "    featurewise_center=True,\n",
    "    featurewise_std_normalization=True,\n",
    "    rotation_range=90,\n",
    "    width_shift_range=0.2,\n",
    "    height_shift_range=0.2,\n",
    "    fill_mode='nearest')\n",
    "\n",
    "test_datagen.fit(X_train)\n",
    "\n",
    "model_details = model.fit_generator(train_datagen.flow(X_train, Y_train, batch_size=BATCH_SIZE),\n",
    "                                    epochs=EPOCH,\n",
    "                                    verbose=1,\n",
    "                                    callbacks=[checkpoint, reducelr],\n",
    "                                    validation_data=test_datagen.flow(X_test, Y_test, batch_size=BATCH_SIZE))"
   ]
  },
  {
   "cell_type": "code",
   "execution_count": null,
   "metadata": {
    "colab": {
     "autoexec": {
      "startup": false,
      "wait_interval": 0
     },
     "base_uri": "https://localhost:8080/",
     "height": 369
    },
    "colab_type": "code",
    "executionInfo": {
     "elapsed": 1582,
     "status": "ok",
     "timestamp": 1526004411622,
     "user": {
      "displayName": "iss ISS",
      "photoUrl": "https://lh3.googleusercontent.com/a/default-user=s128",
      "userId": "111819791795218148538"
     },
     "user_tz": -480
    },
    "id": "FyH3eAwujGYc",
    "outputId": "2ba47fe1-3916-42fb-bc32-d01e7e9d0ef2"
   },
   "outputs": [],
   "source": [
    "plot_model(model_details)"
   ]
  },
  {
   "cell_type": "code",
   "execution_count": null,
   "metadata": {
    "colab": {
     "autoexec": {
      "startup": false,
      "wait_interval": 0
     },
     "base_uri": "https://localhost:8080/",
     "height": 68
    },
    "colab_type": "code",
    "executionInfo": {
     "elapsed": 2294,
     "status": "ok",
     "timestamp": 1526004431964,
     "user": {
      "displayName": "iss ISS",
      "photoUrl": "https://lh3.googleusercontent.com/a/default-user=s128",
      "userId": "111819791795218148538"
     },
     "user_tz": -480
    },
    "id": "aERZuM5fjH_1",
    "outputId": "2b997b24-c9ea-42a8-e857-521fe72149c0"
   },
   "outputs": [],
   "source": [
    "mean = train_datagen.mean\n",
    "std = train_datagen.std\n",
    "X_test = X_test.astype(np.float32, copy=False)\n",
    "X_test -= mean\n",
    "X_test /= std\n",
    "\n",
    "score = model.evaluate(X_test, Y_test, verbose=0)\n",
    "\n",
    "for i in range(0, len(score)):\n",
    "    print('{}: {}'.format(model.metrics_names[i], score[i]))"
   ]
  },
  {
   "cell_type": "code",
   "execution_count": null,
   "metadata": {
    "colab": {
     "autoexec": {
      "startup": false,
      "wait_interval": 0
     },
     "base_uri": "https://localhost:8080/",
     "height": 918
    },
    "colab_type": "code",
    "executionInfo": {
     "elapsed": 2374,
     "status": "ok",
     "timestamp": 1526004481044,
     "user": {
      "displayName": "iss ISS",
      "photoUrl": "https://lh3.googleusercontent.com/a/default-user=s128",
      "userId": "111819791795218148538"
     },
     "user_tz": -480
    },
    "id": "Tur8J-y2jJYD",
    "outputId": "feeeef9a-e14a-46bb-d425-d54b9213555a"
   },
   "outputs": [],
   "source": [
    "# learning rate\n",
    "LEARN_RATE = 1.0e-3\n",
    "\n",
    "model = Sequential()\n",
    "\n",
    "model.add(Conv2D(64, (3, 3), activation='relu', input_shape=X_train[0].shape))\n",
    "model.add(BatchNormalization())\n",
    "model.add(Conv2D(64, (3, 3), activation='relu'))   \n",
    "model.add(BatchNormalization())\n",
    "model.add(MaxPooling2D((2, 2)))\n",
    "\n",
    "model.add(Conv2D(128, (3, 3), activation='relu'))\n",
    "model.add(BatchNormalization())\n",
    "model.add(Conv2D(128, (3, 3), activation='relu'))\n",
    "model.add(BatchNormalization()) \n",
    "model.add(MaxPooling2D((2, 2)))\n",
    "\n",
    "model.add(Conv2D(256, (3, 3), activation='relu'))\n",
    "model.add(BatchNormalization())\n",
    "model.add(Conv2D(256, (3, 3), activation='relu'))\n",
    "model.add(BatchNormalization())\n",
    "model.add(MaxPooling2D((2, 2)))\n",
    "\n",
    "model.add(Flatten())\n",
    "\n",
    "model.add(Dense(1024, activation='relu'))\n",
    "model.add(BatchNormalization())\n",
    "model.add(Dropout(0.5))\n",
    "\n",
    "model.add(Dense(1024, activation='linear'))\n",
    "model.add(BatchNormalization())\n",
    "model.add(Dropout(0.5))\n",
    "\n",
    "model.add(Dense(1))\n",
    "\n",
    "model.summary()"
   ]
  },
  {
   "cell_type": "code",
   "execution_count": null,
   "metadata": {
    "colab": {
     "autoexec": {
      "startup": false,
      "wait_interval": 0
     },
     "base_uri": "https://localhost:8080/",
     "height": 717
    },
    "colab_type": "code",
    "executionInfo": {
     "elapsed": 483878,
     "status": "ok",
     "timestamp": 1526004970903,
     "user": {
      "displayName": "iss ISS",
      "photoUrl": "https://lh3.googleusercontent.com/a/default-user=s128",
      "userId": "111819791795218148538"
     },
     "user_tz": -480
    },
    "id": "FwcpHHZYjOJ6",
    "outputId": "c882c212-533c-41fa-c2e0-1307bf399ada"
   },
   "outputs": [],
   "source": [
    "# Save the model after every epoch\n",
    "checkpoint = ModelCheckpoint('coins_reg_cnn.{epoch:02d}-{loss:.5f}.h5',  # model filename\n",
    "                             monitor='val_loss', \n",
    "                             verbose=0, \n",
    "                             save_best_only= True, \n",
    "                             mode='auto')\n",
    "\n",
    "reducelr = ReduceLROnPlateau(monitor='val_loss', \n",
    "                             factor=0.1, \n",
    "                             patience=10, \n",
    "                             verbose=0, \n",
    "                             mode='auto', \n",
    "                             min_delta=1.0e-5, \n",
    "                             cooldown=0, \n",
    "                             min_lr=0)\n",
    "    \n",
    "model.compile(loss='mse',\n",
    "              optimizer=Adam(lr=LEARN_RATE),\n",
    "              metrics=['mse', 'mae'])\n",
    "\n",
    "train_datagen = preimage.ImageDataGenerator(\n",
    "    featurewise_center=True,\n",
    "    featurewise_std_normalization=True,\n",
    "    rotation_range=90,\n",
    "    width_shift_range=0.2,\n",
    "    height_shift_range=0.2,\n",
    "    fill_mode='nearest')\n",
    "\n",
    "train_datagen.fit(X_train)\n",
    "\n",
    "test_datagen = preimage.ImageDataGenerator(\n",
    "    featurewise_center=True,\n",
    "    featurewise_std_normalization=True,\n",
    "    rotation_range=90,\n",
    "    width_shift_range=0.2,\n",
    "    height_shift_range=0.2,\n",
    "    fill_mode='nearest')\n",
    "\n",
    "test_datagen.fit(X_train)\n",
    "\n",
    "model_details = model.fit_generator(train_datagen.flow(X_train, Y_train, batch_size=BATCH_SIZE),\n",
    "                                    epochs=EPOCH,\n",
    "                                    verbose=1,\n",
    "                                    callbacks=[checkpoint, reducelr],\n",
    "                                    validation_data=test_datagen.flow(X_test, Y_test, batch_size=BATCH_SIZE))"
   ]
  },
  {
   "cell_type": "code",
   "execution_count": null,
   "metadata": {
    "colab": {
     "autoexec": {
      "startup": false,
      "wait_interval": 0
     },
     "base_uri": "https://localhost:8080/",
     "height": 369
    },
    "colab_type": "code",
    "executionInfo": {
     "elapsed": 1940,
     "status": "ok",
     "timestamp": 1526004984436,
     "user": {
      "displayName": "iss ISS",
      "photoUrl": "https://lh3.googleusercontent.com/a/default-user=s128",
      "userId": "111819791795218148538"
     },
     "user_tz": -480
    },
    "id": "4jrBJEecjRHc",
    "outputId": "85ea4388-5388-4c30-d9c9-3bd699031999"
   },
   "outputs": [],
   "source": [
    "plot_model(model_details)"
   ]
  },
  {
   "cell_type": "code",
   "execution_count": null,
   "metadata": {
    "colab": {
     "autoexec": {
      "startup": false,
      "wait_interval": 0
     },
     "base_uri": "https://localhost:8080/",
     "height": 68
    },
    "colab_type": "code",
    "executionInfo": {
     "elapsed": 2299,
     "status": "ok",
     "timestamp": 1526005029164,
     "user": {
      "displayName": "iss ISS",
      "photoUrl": "https://lh3.googleusercontent.com/a/default-user=s128",
      "userId": "111819791795218148538"
     },
     "user_tz": -480
    },
    "id": "gcjUQ3njjTg-",
    "outputId": "dba4e667-1a83-4f35-e40f-dd3f8e1425fb"
   },
   "outputs": [],
   "source": [
    "mean = train_datagen.mean\n",
    "std = train_datagen.std\n",
    "X_test = X_test.astype(np.float32, copy=False)\n",
    "X_test -= mean\n",
    "X_test /= std\n",
    "\n",
    "score = model.evaluate(X_test, Y_test, verbose=0)\n",
    "\n",
    "for i in range(0, len(score)):\n",
    "    print('{}: {}'.format(model.metrics_names[i], score[i]))"
   ]
  },
  {
   "cell_type": "code",
   "execution_count": null,
   "metadata": {
    "colab": {
     "autoexec": {
      "startup": false,
      "wait_interval": 0
     },
     "base_uri": "https://localhost:8080/",
     "height": 918
    },
    "colab_type": "code",
    "executionInfo": {
     "elapsed": 2366,
     "status": "ok",
     "timestamp": 1526005079249,
     "user": {
      "displayName": "iss ISS",
      "photoUrl": "https://lh3.googleusercontent.com/a/default-user=s128",
      "userId": "111819791795218148538"
     },
     "user_tz": -480
    },
    "id": "8Nanm3FpjK7i",
    "outputId": "07291725-7c20-4b46-f634-551f9f4f8e25"
   },
   "outputs": [],
   "source": [
    "# learning rate\n",
    "LEARN_RATE = 1.0e-4\n",
    "\n",
    "model = Sequential()\n",
    "\n",
    "model.add(Conv2D(64, (3, 3), activation='relu', input_shape=X_train[0].shape))\n",
    "model.add(BatchNormalization())\n",
    "model.add(Conv2D(64, (3, 3), activation='relu'))   \n",
    "model.add(BatchNormalization())\n",
    "model.add(MaxPooling2D((2, 2)))\n",
    "\n",
    "model.add(Conv2D(128, (3, 3), activation='relu'))\n",
    "model.add(BatchNormalization())\n",
    "model.add(Conv2D(128, (3, 3), activation='relu'))\n",
    "model.add(BatchNormalization()) \n",
    "model.add(MaxPooling2D((2, 2)))\n",
    "\n",
    "model.add(Conv2D(256, (3, 3), activation='relu'))\n",
    "model.add(BatchNormalization())\n",
    "model.add(Conv2D(256, (3, 3), activation='relu'))\n",
    "model.add(BatchNormalization())\n",
    "model.add(MaxPooling2D((2, 2)))\n",
    "\n",
    "model.add(Flatten())\n",
    "\n",
    "model.add(Dense(1024, activation='relu'))\n",
    "model.add(BatchNormalization())\n",
    "model.add(Dropout(0.5))\n",
    "\n",
    "model.add(Dense(1024, activation='linear'))\n",
    "model.add(BatchNormalization())\n",
    "model.add(Dropout(0.5))\n",
    "\n",
    "model.add(Dense(1))\n",
    "\n",
    "model.summary()"
   ]
  },
  {
   "cell_type": "code",
   "execution_count": null,
   "metadata": {
    "colab": {
     "autoexec": {
      "startup": false,
      "wait_interval": 0
     },
     "base_uri": "https://localhost:8080/",
     "height": 717
    },
    "colab_type": "code",
    "executionInfo": {
     "elapsed": 491312,
     "status": "ok",
     "timestamp": 1526005576576,
     "user": {
      "displayName": "iss ISS",
      "photoUrl": "https://lh3.googleusercontent.com/a/default-user=s128",
      "userId": "111819791795218148538"
     },
     "user_tz": -480
    },
    "id": "UxPJyoD2jOzq",
    "outputId": "67de1eab-2d23-4918-d16f-46e4b69646f9"
   },
   "outputs": [],
   "source": [
    "# Save the model after every epoch\n",
    "checkpoint = ModelCheckpoint('coins_reg_cnn.{epoch:02d}-{loss:.5f}.h5',  # model filename\n",
    "                             monitor='val_loss', \n",
    "                             verbose=0, \n",
    "                             save_best_only= True, \n",
    "                             mode='auto')\n",
    "\n",
    "reducelr = ReduceLROnPlateau(monitor='val_loss', \n",
    "                             factor=0.1, \n",
    "                             patience=10, \n",
    "                             verbose=0, \n",
    "                             mode='auto', \n",
    "                             min_delta=1.0e-5, \n",
    "                             cooldown=0, \n",
    "                             min_lr=0)\n",
    "    \n",
    "model.compile(loss='mse',\n",
    "              optimizer=Adam(lr=LEARN_RATE),\n",
    "              metrics=['mse', 'mae'])\n",
    "\n",
    "train_datagen = preimage.ImageDataGenerator(\n",
    "    featurewise_center=True,\n",
    "    featurewise_std_normalization=True,\n",
    "    rotation_range=90,\n",
    "    width_shift_range=0.2,\n",
    "    height_shift_range=0.2,\n",
    "    fill_mode='nearest')\n",
    "\n",
    "train_datagen.fit(X_train)\n",
    "\n",
    "test_datagen = preimage.ImageDataGenerator(\n",
    "    featurewise_center=True,\n",
    "    featurewise_std_normalization=True,\n",
    "    rotation_range=90,\n",
    "    width_shift_range=0.2,\n",
    "    height_shift_range=0.2,\n",
    "    fill_mode='nearest')\n",
    "\n",
    "test_datagen.fit(X_train)\n",
    "\n",
    "model_details = model.fit_generator(train_datagen.flow(X_train, Y_train, batch_size=BATCH_SIZE),\n",
    "                                    epochs=EPOCH,\n",
    "                                    verbose=1,\n",
    "                                    callbacks=[checkpoint, reducelr],\n",
    "                                    validation_data=test_datagen.flow(X_test, Y_test, batch_size=BATCH_SIZE))"
   ]
  },
  {
   "cell_type": "code",
   "execution_count": null,
   "metadata": {
    "colab": {
     "autoexec": {
      "startup": false,
      "wait_interval": 0
     },
     "base_uri": "https://localhost:8080/",
     "height": 369
    },
    "colab_type": "code",
    "executionInfo": {
     "elapsed": 1649,
     "status": "ok",
     "timestamp": 1526005603882,
     "user": {
      "displayName": "iss ISS",
      "photoUrl": "https://lh3.googleusercontent.com/a/default-user=s128",
      "userId": "111819791795218148538"
     },
     "user_tz": -480
    },
    "id": "Jw6VhalNjRw6",
    "outputId": "c7e7f58b-af4e-4fb6-9d9e-3937c6ec6cab"
   },
   "outputs": [],
   "source": [
    "plot_model(model_details)"
   ]
  },
  {
   "cell_type": "code",
   "execution_count": null,
   "metadata": {
    "colab": {
     "autoexec": {
      "startup": false,
      "wait_interval": 0
     },
     "base_uri": "https://localhost:8080/",
     "height": 68
    },
    "colab_type": "code",
    "executionInfo": {
     "elapsed": 2693,
     "status": "ok",
     "timestamp": 1526005609334,
     "user": {
      "displayName": "iss ISS",
      "photoUrl": "https://lh3.googleusercontent.com/a/default-user=s128",
      "userId": "111819791795218148538"
     },
     "user_tz": -480
    },
    "id": "Yjv5PjxDjWT2",
    "outputId": "c7258bc4-2b99-435e-9225-f2ba321bfb42"
   },
   "outputs": [],
   "source": [
    "mean = train_datagen.mean\n",
    "std = train_datagen.std\n",
    "X_test = X_test.astype(np.float32, copy=False)\n",
    "X_test -= mean\n",
    "X_test /= std\n",
    "\n",
    "score = model.evaluate(X_test, Y_test, verbose=0)\n",
    "\n",
    "for i in range(0, len(score)):\n",
    "    print('{}: {}'.format(model.metrics_names[i], score[i]))"
   ]
  },
  {
   "cell_type": "markdown",
   "metadata": {
    "colab_type": "text",
    "id": "ag0twjQ35szC"
   },
   "source": [
    "### 5.Dropout"
   ]
  },
  {
   "cell_type": "code",
   "execution_count": null,
   "metadata": {
    "colab": {
     "autoexec": {
      "startup": false,
      "wait_interval": 0
     },
     "base_uri": "https://localhost:8080/",
     "height": 918
    },
    "colab_type": "code",
    "executionInfo": {
     "elapsed": 2428,
     "status": "ok",
     "timestamp": 1526005710465,
     "user": {
      "displayName": "iss ISS",
      "photoUrl": "https://lh3.googleusercontent.com/a/default-user=s128",
      "userId": "111819791795218148538"
     },
     "user_tz": -480
    },
    "id": "B6UsRYCe5wut",
    "outputId": "821c1857-7a36-46ca-dee8-ecd55f553004"
   },
   "outputs": [],
   "source": [
    "model = Sequential()\n",
    "\n",
    "model.add(Conv2D(64, (3, 3), activation='relu', input_shape=X_train[0].shape))\n",
    "model.add(BatchNormalization())\n",
    "model.add(Conv2D(64, (3, 3), activation='relu'))   \n",
    "model.add(BatchNormalization())\n",
    "model.add(MaxPooling2D((2, 2)))\n",
    "\n",
    "model.add(Conv2D(128, (3, 3), activation='relu'))\n",
    "model.add(BatchNormalization())\n",
    "model.add(Conv2D(128, (3, 3), activation='relu'))\n",
    "model.add(BatchNormalization()) \n",
    "model.add(MaxPooling2D((2, 2)))\n",
    "\n",
    "model.add(Conv2D(256, (3, 3), activation='relu'))\n",
    "model.add(BatchNormalization())\n",
    "model.add(Conv2D(256, (3, 3), activation='relu'))\n",
    "model.add(BatchNormalization())\n",
    "model.add(MaxPooling2D((2, 2)))\n",
    "\n",
    "model.add(Flatten())\n",
    "\n",
    "model.add(Dense(1024, activation='relu'))\n",
    "model.add(BatchNormalization())\n",
    "model.add(Dropout(0.5))\n",
    "\n",
    "model.add(Dense(1024, activation='linear'))\n",
    "model.add(BatchNormalization())\n",
    "model.add(Dropout(0.5))\n",
    "\n",
    "model.add(Dense(1))\n",
    "\n",
    "model.summary()"
   ]
  },
  {
   "cell_type": "code",
   "execution_count": null,
   "metadata": {
    "colab": {
     "autoexec": {
      "startup": false,
      "wait_interval": 0
     },
     "base_uri": "https://localhost:8080/",
     "height": 717
    },
    "colab_type": "code",
    "executionInfo": {
     "elapsed": 485365,
     "status": "ok",
     "timestamp": 1526006200724,
     "user": {
      "displayName": "iss ISS",
      "photoUrl": "https://lh3.googleusercontent.com/a/default-user=s128",
      "userId": "111819791795218148538"
     },
     "user_tz": -480
    },
    "id": "0Ku_uinB5wdp",
    "outputId": "c2b5bfa1-b8e6-4899-dad1-91fb8e70e831"
   },
   "outputs": [],
   "source": [
    "# Save the model after every epoch\n",
    "checkpoint = ModelCheckpoint('coins_reg_cnn.{epoch:02d}-{loss:.5f}.h5',  # model filename\n",
    "                             monitor='val_loss', \n",
    "                             verbose=0, \n",
    "                             save_best_only= True, \n",
    "                             mode='auto')\n",
    "\n",
    "reducelr = ReduceLROnPlateau(monitor='val_loss', \n",
    "                             factor=0.1, \n",
    "                             patience=10, \n",
    "                             verbose=0, \n",
    "                             mode='auto', \n",
    "                             min_delta=1.0e-5, \n",
    "                             cooldown=0, \n",
    "                             min_lr=0)\n",
    "    \n",
    "model.compile(loss='mse',\n",
    "              optimizer=Adam(lr=LEARN_RATE),\n",
    "              metrics=['mse', 'mae'])\n",
    "\n",
    "train_datagen = preimage.ImageDataGenerator(\n",
    "    featurewise_center=True,\n",
    "    featurewise_std_normalization=True,\n",
    "    rotation_range=90,\n",
    "    width_shift_range=0.2,\n",
    "    height_shift_range=0.2,\n",
    "    fill_mode='nearest')\n",
    "\n",
    "train_datagen.fit(X_train)\n",
    "\n",
    "test_datagen = preimage.ImageDataGenerator(\n",
    "    featurewise_center=True,\n",
    "    featurewise_std_normalization=True,\n",
    "    rotation_range=90,\n",
    "    width_shift_range=0.2,\n",
    "    height_shift_range=0.2,\n",
    "    fill_mode='nearest')\n",
    "\n",
    "test_datagen.fit(X_train)\n",
    "\n",
    "model_details = model.fit_generator(train_datagen.flow(X_train, Y_train, batch_size=BATCH_SIZE),\n",
    "                                    epochs=EPOCH,\n",
    "                                    verbose=1,\n",
    "                                    callbacks=[checkpoint, reducelr],\n",
    "                                    validation_data=test_datagen.flow(X_test, Y_test, batch_size=BATCH_SIZE))"
   ]
  },
  {
   "cell_type": "code",
   "execution_count": null,
   "metadata": {
    "colab": {
     "autoexec": {
      "startup": false,
      "wait_interval": 0
     },
     "base_uri": "https://localhost:8080/",
     "height": 349
    },
    "colab_type": "code",
    "executionInfo": {
     "elapsed": 1411,
     "status": "ok",
     "timestamp": 1526006278694,
     "user": {
      "displayName": "iss ISS",
      "photoUrl": "https://lh3.googleusercontent.com/a/default-user=s128",
      "userId": "111819791795218148538"
     },
     "user_tz": -480
    },
    "id": "k4nXm-z_KVrA",
    "outputId": "5193592c-dd01-4050-ee31-8f2e3b057209"
   },
   "outputs": [],
   "source": [
    "plot_model(model_details)"
   ]
  },
  {
   "cell_type": "code",
   "execution_count": null,
   "metadata": {
    "colab": {
     "autoexec": {
      "startup": false,
      "wait_interval": 0
     },
     "base_uri": "https://localhost:8080/",
     "height": 68
    },
    "colab_type": "code",
    "executionInfo": {
     "elapsed": 2680,
     "status": "ok",
     "timestamp": 1526006283455,
     "user": {
      "displayName": "iss ISS",
      "photoUrl": "https://lh3.googleusercontent.com/a/default-user=s128",
      "userId": "111819791795218148538"
     },
     "user_tz": -480
    },
    "id": "vA_CUB5sKX4K",
    "outputId": "23176d48-4d7c-41d1-db6f-23fc9a4071a1"
   },
   "outputs": [],
   "source": [
    "mean = train_datagen.mean\n",
    "std = train_datagen.std\n",
    "X_test = X_test.astype(np.float32, copy=False)\n",
    "X_test -= mean\n",
    "X_test /= std\n",
    "\n",
    "score = model.evaluate(X_test, Y_test, verbose=0)\n",
    "\n",
    "for i in range(0, len(score)):\n",
    "    print('{}: {}'.format(model.metrics_names[i], score[i]))"
   ]
  },
  {
   "cell_type": "code",
   "execution_count": null,
   "metadata": {
    "colab": {
     "autoexec": {
      "startup": false,
      "wait_interval": 0
     },
     "base_uri": "https://localhost:8080/",
     "height": 918
    },
    "colab_type": "code",
    "executionInfo": {
     "elapsed": 2407,
     "status": "ok",
     "timestamp": 1526006339588,
     "user": {
      "displayName": "iss ISS",
      "photoUrl": "https://lh3.googleusercontent.com/a/default-user=s128",
      "userId": "111819791795218148538"
     },
     "user_tz": -480
    },
    "id": "Aajx90eYKZ-v",
    "outputId": "2fc09f00-d4c9-4c85-dcb5-e379b0660a9b"
   },
   "outputs": [],
   "source": [
    "model = Sequential()\n",
    "\n",
    "model.add(Conv2D(64, (3, 3), activation='relu', input_shape=X_train[0].shape))\n",
    "model.add(BatchNormalization())\n",
    "model.add(Conv2D(64, (3, 3), activation='relu'))   \n",
    "model.add(BatchNormalization())\n",
    "model.add(MaxPooling2D((2, 2)))\n",
    "\n",
    "model.add(Conv2D(128, (3, 3), activation='relu'))\n",
    "model.add(BatchNormalization())\n",
    "model.add(Conv2D(128, (3, 3), activation='relu'))\n",
    "model.add(BatchNormalization()) \n",
    "model.add(MaxPooling2D((2, 2)))\n",
    "\n",
    "model.add(Conv2D(256, (3, 3), activation='relu'))\n",
    "model.add(BatchNormalization())\n",
    "model.add(Conv2D(256, (3, 3), activation='relu'))\n",
    "model.add(BatchNormalization())\n",
    "model.add(MaxPooling2D((2, 2)))\n",
    "\n",
    "model.add(Flatten())\n",
    "\n",
    "model.add(Dense(1024, activation='relu'))\n",
    "model.add(BatchNormalization())\n",
    "model.add(Dropout(0.1))\n",
    "\n",
    "model.add(Dense(1024, activation='linear'))\n",
    "model.add(BatchNormalization())\n",
    "model.add(Dropout(0.1))\n",
    "\n",
    "model.add(Dense(1))\n",
    "\n",
    "model.summary()"
   ]
  },
  {
   "cell_type": "code",
   "execution_count": null,
   "metadata": {
    "colab": {
     "autoexec": {
      "startup": false,
      "wait_interval": 0
     },
     "base_uri": "https://localhost:8080/",
     "height": 717
    },
    "colab_type": "code",
    "executionInfo": {
     "elapsed": 484427,
     "status": "ok",
     "timestamp": 1526006830590,
     "user": {
      "displayName": "iss ISS",
      "photoUrl": "https://lh3.googleusercontent.com/a/default-user=s128",
      "userId": "111819791795218148538"
     },
     "user_tz": -480
    },
    "id": "emFxkB9q59gy",
    "outputId": "e7f332b7-7880-4e2d-d17e-0f0baac6b0eb"
   },
   "outputs": [],
   "source": [
    "# Save the model after every epoch\n",
    "checkpoint = ModelCheckpoint('coins_reg_cnn.{epoch:02d}-{loss:.5f}.h5',  # model filename\n",
    "                             monitor='val_loss', \n",
    "                             verbose=0, \n",
    "                             save_best_only= True, \n",
    "                             mode='auto')\n",
    "\n",
    "reducelr = ReduceLROnPlateau(monitor='val_loss', \n",
    "                             factor=0.1, \n",
    "                             patience=10, \n",
    "                             verbose=0, \n",
    "                             mode='auto', \n",
    "                             min_delta=1.0e-5, \n",
    "                             cooldown=0, \n",
    "                             min_lr=0)\n",
    "    \n",
    "model.compile(loss='mse',\n",
    "              optimizer=Adam(lr=LEARN_RATE),\n",
    "              metrics=['mse', 'mae'])\n",
    "\n",
    "train_datagen = preimage.ImageDataGenerator(\n",
    "    featurewise_center=True,\n",
    "    featurewise_std_normalization=True,\n",
    "    rotation_range=90,\n",
    "    width_shift_range=0.2,\n",
    "    height_shift_range=0.2,\n",
    "    fill_mode='nearest')\n",
    "\n",
    "train_datagen.fit(X_train)\n",
    "\n",
    "test_datagen = preimage.ImageDataGenerator(\n",
    "    featurewise_center=True,\n",
    "    featurewise_std_normalization=True,\n",
    "    rotation_range=90,\n",
    "    width_shift_range=0.2,\n",
    "    height_shift_range=0.2,\n",
    "    fill_mode='nearest')\n",
    "\n",
    "test_datagen.fit(X_train)\n",
    "\n",
    "model_details = model.fit_generator(train_datagen.flow(X_train, Y_train, batch_size=BATCH_SIZE),\n",
    "                                    epochs=EPOCH,\n",
    "                                    verbose=1,\n",
    "                                    callbacks=[checkpoint, reducelr],\n",
    "                                    validation_data=test_datagen.flow(X_test, Y_test, batch_size=BATCH_SIZE))"
   ]
  },
  {
   "cell_type": "code",
   "execution_count": null,
   "metadata": {
    "colab": {
     "autoexec": {
      "startup": false,
      "wait_interval": 0
     },
     "base_uri": "https://localhost:8080/",
     "height": 349
    },
    "colab_type": "code",
    "executionInfo": {
     "elapsed": 1440,
     "status": "ok",
     "timestamp": 1526007131420,
     "user": {
      "displayName": "iss ISS",
      "photoUrl": "https://lh3.googleusercontent.com/a/default-user=s128",
      "userId": "111819791795218148538"
     },
     "user_tz": -480
    },
    "id": "wO-FfbjD5--p",
    "outputId": "e69c33a9-c270-4bf7-c55d-e2607ba83927"
   },
   "outputs": [],
   "source": [
    "plot_model(model_details)"
   ]
  },
  {
   "cell_type": "code",
   "execution_count": null,
   "metadata": {
    "colab": {
     "autoexec": {
      "startup": false,
      "wait_interval": 0
     },
     "base_uri": "https://localhost:8080/",
     "height": 68
    },
    "colab_type": "code",
    "executionInfo": {
     "elapsed": 2711,
     "status": "ok",
     "timestamp": 1526007144129,
     "user": {
      "displayName": "iss ISS",
      "photoUrl": "https://lh3.googleusercontent.com/a/default-user=s128",
      "userId": "111819791795218148538"
     },
     "user_tz": -480
    },
    "id": "bnj8IgxI6D3w",
    "outputId": "8650d775-14fb-44d6-d1f7-928f56f44f2f"
   },
   "outputs": [],
   "source": [
    "mean = train_datagen.mean\n",
    "std = train_datagen.std\n",
    "X_test = X_test.astype(np.float32, copy=False)\n",
    "X_test -= mean\n",
    "X_test /= std\n",
    "\n",
    "score = model.evaluate(X_test, Y_test, verbose=0)\n",
    "\n",
    "for i in range(0, len(score)):\n",
    "    print('{}: {}'.format(model.metrics_names[i], score[i]))"
   ]
  },
  {
   "cell_type": "code",
   "execution_count": null,
   "metadata": {
    "colab": {
     "autoexec": {
      "startup": false,
      "wait_interval": 0
     },
     "base_uri": "https://localhost:8080/",
     "height": 918
    },
    "colab_type": "code",
    "executionInfo": {
     "elapsed": 2332,
     "status": "ok",
     "timestamp": 1526007187072,
     "user": {
      "displayName": "iss ISS",
      "photoUrl": "https://lh3.googleusercontent.com/a/default-user=s128",
      "userId": "111819791795218148538"
     },
     "user_tz": -480
    },
    "id": "dcmj7GYE6IuU",
    "outputId": "6ebc7bb1-81fb-4e22-d96a-239596b53434"
   },
   "outputs": [],
   "source": [
    "model = Sequential()\n",
    "\n",
    "model.add(Conv2D(64, (3, 3), activation='relu', input_shape=X_train[0].shape))\n",
    "model.add(BatchNormalization())\n",
    "model.add(Conv2D(64, (3, 3), activation='relu'))   \n",
    "model.add(BatchNormalization())\n",
    "model.add(MaxPooling2D((2, 2)))\n",
    "\n",
    "model.add(Conv2D(128, (3, 3), activation='relu'))\n",
    "model.add(BatchNormalization())\n",
    "model.add(Conv2D(128, (3, 3), activation='relu'))\n",
    "model.add(BatchNormalization()) \n",
    "model.add(MaxPooling2D((2, 2)))\n",
    "\n",
    "model.add(Conv2D(256, (3, 3), activation='relu'))\n",
    "model.add(BatchNormalization())\n",
    "model.add(Conv2D(256, (3, 3), activation='relu'))\n",
    "model.add(BatchNormalization())\n",
    "model.add(MaxPooling2D((2, 2)))\n",
    "\n",
    "model.add(Flatten())\n",
    "\n",
    "model.add(Dense(1024, activation='relu'))\n",
    "model.add(BatchNormalization())\n",
    "model.add(Dropout(0.01))\n",
    "\n",
    "model.add(Dense(1024, activation='linear'))\n",
    "model.add(BatchNormalization())\n",
    "model.add(Dropout(0.01))\n",
    "\n",
    "model.add(Dense(1))\n",
    "\n",
    "model.summary()"
   ]
  },
  {
   "cell_type": "code",
   "execution_count": null,
   "metadata": {
    "colab": {
     "autoexec": {
      "startup": false,
      "wait_interval": 0
     },
     "base_uri": "https://localhost:8080/",
     "height": 717
    },
    "colab_type": "code",
    "executionInfo": {
     "elapsed": 489212,
     "status": "ok",
     "timestamp": 1526007902826,
     "user": {
      "displayName": "iss ISS",
      "photoUrl": "https://lh3.googleusercontent.com/a/default-user=s128",
      "userId": "111819791795218148538"
     },
     "user_tz": -480
    },
    "id": "jii6L5dQ6M2p",
    "outputId": "f2de7b5d-852c-4610-c83c-67c4a2bfbe67"
   },
   "outputs": [],
   "source": [
    "# Save the model after every epoch\n",
    "checkpoint = ModelCheckpoint('coins_reg_cnn.{epoch:02d}-{loss:.5f}.h5',  # model filename\n",
    "                             monitor='val_loss', \n",
    "                             verbose=0, \n",
    "                             save_best_only= True, \n",
    "                             mode='auto')\n",
    "\n",
    "reducelr = ReduceLROnPlateau(monitor='val_loss', \n",
    "                             factor=0.1, \n",
    "                             patience=10, \n",
    "                             verbose=0, \n",
    "                             mode='auto', \n",
    "                             min_delta=1.0e-5, \n",
    "                             cooldown=0, \n",
    "                             min_lr=0)\n",
    "    \n",
    "model.compile(loss='mse',\n",
    "              optimizer=Adam(lr=LEARN_RATE),\n",
    "              metrics=['mse', 'mae'])\n",
    "\n",
    "train_datagen = preimage.ImageDataGenerator(\n",
    "    featurewise_center=True,\n",
    "    featurewise_std_normalization=True,\n",
    "    rotation_range=90,\n",
    "    width_shift_range=0.2,\n",
    "    height_shift_range=0.2,\n",
    "    fill_mode='nearest')\n",
    "\n",
    "train_datagen.fit(X_train)\n",
    "\n",
    "test_datagen = preimage.ImageDataGenerator(\n",
    "    featurewise_center=True,\n",
    "    featurewise_std_normalization=True,\n",
    "    rotation_range=90,\n",
    "    width_shift_range=0.2,\n",
    "    height_shift_range=0.2,\n",
    "    fill_mode='nearest')\n",
    "\n",
    "test_datagen.fit(X_train)\n",
    "\n",
    "model_details = model.fit_generator(train_datagen.flow(X_train, Y_train, batch_size=BATCH_SIZE),\n",
    "                                    epochs=EPOCH,\n",
    "                                    verbose=1,\n",
    "                                    callbacks=[checkpoint, reducelr],\n",
    "                                    validation_data=test_datagen.flow(X_test, Y_test, batch_size=BATCH_SIZE))"
   ]
  },
  {
   "cell_type": "code",
   "execution_count": null,
   "metadata": {
    "colab": {
     "autoexec": {
      "startup": false,
      "wait_interval": 0
     },
     "base_uri": "https://localhost:8080/",
     "height": 349
    },
    "colab_type": "code",
    "executionInfo": {
     "elapsed": 1392,
     "status": "ok",
     "timestamp": 1526008158419,
     "user": {
      "displayName": "iss ISS",
      "photoUrl": "https://lh3.googleusercontent.com/a/default-user=s128",
      "userId": "111819791795218148538"
     },
     "user_tz": -480
    },
    "id": "oRccDhNn6BnA",
    "outputId": "35debd46-645a-4322-f2ea-2437feae8abd"
   },
   "outputs": [],
   "source": [
    "plot_model(model_details)"
   ]
  },
  {
   "cell_type": "code",
   "execution_count": null,
   "metadata": {
    "colab": {
     "autoexec": {
      "startup": false,
      "wait_interval": 0
     },
     "base_uri": "https://localhost:8080/",
     "height": 68
    },
    "colab_type": "code",
    "executionInfo": {
     "elapsed": 2730,
     "status": "ok",
     "timestamp": 1526008163049,
     "user": {
      "displayName": "iss ISS",
      "photoUrl": "https://lh3.googleusercontent.com/a/default-user=s128",
      "userId": "111819791795218148538"
     },
     "user_tz": -480
    },
    "id": "UwFWhk376FGO",
    "outputId": "3ec44c99-74da-4550-b309-5b852b935d79"
   },
   "outputs": [],
   "source": [
    "mean = train_datagen.mean\n",
    "std = train_datagen.std\n",
    "X_test = X_test.astype(np.float32, copy=False)\n",
    "X_test -= mean\n",
    "X_test /= std\n",
    "\n",
    "score = model.evaluate(X_test, Y_test, verbose=0)\n",
    "\n",
    "for i in range(0, len(score)):\n",
    "    print('{}: {}'.format(model.metrics_names[i], score[i]))"
   ]
  },
  {
   "cell_type": "markdown",
   "metadata": {
    "colab_type": "text",
    "id": "OYoTktCiLYbA"
   },
   "source": [
    "### 6.Final Model"
   ]
  },
  {
   "cell_type": "code",
   "execution_count": null,
   "metadata": {
    "colab": {
     "autoexec": {
      "startup": false,
      "wait_interval": 0
     },
     "base_uri": "https://localhost:8080/",
     "height": 918
    },
    "colab_type": "code",
    "executionInfo": {
     "elapsed": 3636,
     "status": "ok",
     "timestamp": 1526138575294,
     "user": {
      "displayName": "JUN LIU",
      "photoUrl": "https://lh3.googleusercontent.com/a/default-user=s128",
      "userId": "106108549281672980963"
     },
     "user_tz": -480
    },
    "id": "4QLwAdBc6OUy",
    "outputId": "48f32ce0-0189-45a8-eb14-e7bfe86d0e59"
   },
   "outputs": [],
   "source": [
    "model = Sequential()\n",
    "\n",
    "model.add(Conv2D(64, (3, 3), activation='relu', input_shape=X_train[0].shape))\n",
    "model.add(BatchNormalization())\n",
    "model.add(Conv2D(64, (3, 3), activation='relu'))   \n",
    "model.add(BatchNormalization())\n",
    "model.add(MaxPooling2D((2, 2)))\n",
    "\n",
    "model.add(Conv2D(128, (3, 3), activation='relu'))\n",
    "model.add(BatchNormalization())\n",
    "model.add(Conv2D(128, (3, 3), activation='relu'))\n",
    "model.add(BatchNormalization()) \n",
    "model.add(MaxPooling2D((2, 2)))\n",
    "\n",
    "model.add(Conv2D(256, (3, 3), activation='relu'))\n",
    "model.add(BatchNormalization())\n",
    "model.add(Conv2D(256, (3, 3), activation='relu'))\n",
    "model.add(BatchNormalization())\n",
    "model.add(MaxPooling2D((2, 2)))\n",
    "\n",
    "model.add(Flatten())\n",
    "\n",
    "model.add(Dense(1024, activation='relu'))\n",
    "model.add(BatchNormalization())\n",
    "model.add(Dropout(0.1))\n",
    "\n",
    "model.add(Dense(1024, activation='linear'))\n",
    "model.add(BatchNormalization())\n",
    "model.add(Dropout(0.1))\n",
    "\n",
    "model.add(Dense(1))\n",
    "\n",
    "model.summary()"
   ]
  },
  {
   "cell_type": "code",
   "execution_count": null,
   "metadata": {
    "colab": {
     "autoexec": {
      "startup": false,
      "wait_interval": 0
     },
     "base_uri": "https://localhost:8080/",
     "height": 547
    },
    "colab_type": "code",
    "executionInfo": {
     "elapsed": 703089,
     "status": "ok",
     "timestamp": 1526139282316,
     "user": {
      "displayName": "JUN LIU",
      "photoUrl": "https://lh3.googleusercontent.com/a/default-user=s128",
      "userId": "106108549281672980963"
     },
     "user_tz": -480
    },
    "id": "frk0skrMLl7c",
    "outputId": "4ecdac67-038b-487c-e8b7-664d363d8d83"
   },
   "outputs": [],
   "source": [
    "# Save the model after every epoch\n",
    "checkpoint = ModelCheckpoint('coins_reg_cnn.final.{epoch:02d}-{loss:.5f}.h5',  # model filename\n",
    "                             monitor='val_loss', \n",
    "                             verbose=0, \n",
    "                             save_best_only= True, \n",
    "                             mode='auto')\n",
    "\n",
    "reducelr = ReduceLROnPlateau(monitor='val_loss', \n",
    "                             factor=0.1, \n",
    "                             patience=10, \n",
    "                             verbose=0, \n",
    "                             mode='auto', \n",
    "                             min_delta=1.0e-5, \n",
    "                             cooldown=0, \n",
    "                             min_lr=0)\n",
    "    \n",
    "model.compile(loss='mse',\n",
    "              optimizer=Adam(lr=LEARN_RATE),\n",
    "              metrics=['mse', 'mae'])\n",
    "\n",
    "train_datagen = preimage.ImageDataGenerator(\n",
    "    featurewise_center=True,\n",
    "    featurewise_std_normalization=True,\n",
    "    rotation_range=90,\n",
    "    width_shift_range=0.2,\n",
    "    height_shift_range=0.2,\n",
    "    fill_mode='nearest')\n",
    "\n",
    "train_datagen.fit(X_train)\n",
    "\n",
    "test_datagen = preimage.ImageDataGenerator(\n",
    "    featurewise_center=True,\n",
    "    featurewise_std_normalization=True,\n",
    "    rotation_range=90,\n",
    "    width_shift_range=0.2,\n",
    "    height_shift_range=0.2,\n",
    "    fill_mode='nearest')\n",
    "\n",
    "test_datagen.fit(X_train)\n",
    "\n",
    "model_details = model.fit_generator(train_datagen.flow(X_train, Y_train, batch_size=BATCH_SIZE),\n",
    "                                    epochs=EPOCH,\n",
    "                                    verbose=1,\n",
    "                                    callbacks=[checkpoint, reducelr],\n",
    "                                    validation_data=test_datagen.flow(X_test, Y_test, batch_size=BATCH_SIZE))"
   ]
  },
  {
   "cell_type": "code",
   "execution_count": null,
   "metadata": {
    "colab": {
     "autoexec": {
      "startup": false,
      "wait_interval": 0
     },
     "base_uri": "https://localhost:8080/",
     "height": 369
    },
    "colab_type": "code",
    "executionInfo": {
     "elapsed": 1924,
     "status": "ok",
     "timestamp": 1526010926036,
     "user": {
      "displayName": "iss ISS",
      "photoUrl": "https://lh3.googleusercontent.com/a/default-user=s128",
      "userId": "111819791795218148538"
     },
     "user_tz": -480
    },
    "id": "IYbIfkCfL4zv",
    "outputId": "8a6a1c81-b17a-4957-d9f7-862e42d5fa09"
   },
   "outputs": [],
   "source": [
    "plot_model(model_details)"
   ]
  },
  {
   "cell_type": "code",
   "execution_count": null,
   "metadata": {
    "colab": {
     "autoexec": {
      "startup": false,
      "wait_interval": 0
     },
     "base_uri": "https://localhost:8080/",
     "height": 68
    },
    "colab_type": "code",
    "executionInfo": {
     "elapsed": 2658,
     "status": "ok",
     "timestamp": 1526010933619,
     "user": {
      "displayName": "iss ISS",
      "photoUrl": "https://lh3.googleusercontent.com/a/default-user=s128",
      "userId": "111819791795218148538"
     },
     "user_tz": -480
    },
    "id": "iQ7ZFSe9L-I2",
    "outputId": "fac04a04-d7be-417e-8045-3bddae1a9bcb"
   },
   "outputs": [],
   "source": [
    "mean = train_datagen.mean\n",
    "std = train_datagen.std\n",
    "X_test = X_test.astype(np.float32, copy=False)\n",
    "X_test -= mean\n",
    "X_test /= std\n",
    "\n",
    "score = model.evaluate(X_test, Y_test, verbose=0)\n",
    "\n",
    "for i in range(0, len(score)):\n",
    "    print('{}: {}'.format(model.metrics_names[i], score[i]))"
   ]
  },
  {
   "cell_type": "code",
   "execution_count": null,
   "metadata": {
    "colab": {
     "autoexec": {
      "startup": false,
      "wait_interval": 0
     },
     "base_uri": "https://localhost:8080/",
     "height": 34
    },
    "colab_type": "code",
    "executionInfo": {
     "elapsed": 3517,
     "status": "ok",
     "timestamp": 1526030703615,
     "user": {
      "displayName": "iss ISS",
      "photoUrl": "https://lh3.googleusercontent.com/a/default-user=s128",
      "userId": "111819791795218148538"
     },
     "user_tz": -480
    },
    "id": "BBpgutBEfvE6",
    "outputId": "5533d61e-a77d-4f84-eaee-31a9a44293b8"
   },
   "outputs": [],
   "source": [
    "# Predict image with one coin\n",
    "Y_pred = model.predict(X_test)\n",
    "\n",
    "error = np.mean(abs(np.array(Y_test) - np.array(Y_pred)))\n",
    "print(\"Mean prediction error for images: {0:.2f} cents\".format(error))"
   ]
  },
  {
   "cell_type": "markdown",
   "metadata": {
    "colab_type": "text",
    "id": "QzFQHO8KV7qG"
   },
   "source": [
    "### 7.Cross Validation"
   ]
  },
  {
   "cell_type": "code",
   "execution_count": null,
   "metadata": {
    "colab": {
     "autoexec": {
      "startup": false,
      "wait_interval": 0
     }
    },
    "colab_type": "code",
    "id": "BnefJATTVua2"
   },
   "outputs": [],
   "source": [
    "def create_network():\n",
    "    model = Sequential()\n",
    "\n",
    "    model.add(Conv2D(64, (3, 3), activation='relu', input_shape=X_train[0].shape))\n",
    "    model.add(BatchNormalization())\n",
    "    model.add(Conv2D(64, (3, 3), activation='relu'))   \n",
    "    model.add(BatchNormalization())\n",
    "    model.add(MaxPooling2D((2, 2)))\n",
    "\n",
    "    model.add(Conv2D(128, (3, 3), activation='relu'))\n",
    "    model.add(BatchNormalization())\n",
    "    model.add(Conv2D(128, (3, 3), activation='relu'))\n",
    "    model.add(BatchNormalization()) \n",
    "    model.add(MaxPooling2D((2, 2)))\n",
    "\n",
    "    model.add(Conv2D(256, (3, 3), activation='relu'))\n",
    "    model.add(BatchNormalization())\n",
    "    model.add(Conv2D(256, (3, 3), activation='relu'))\n",
    "    model.add(BatchNormalization())\n",
    "    model.add(MaxPooling2D((2, 2)))\n",
    "\n",
    "    model.add(Flatten())\n",
    "\n",
    "    model.add(Dense(1024, activation='relu'))\n",
    "    model.add(BatchNormalization())\n",
    "    model.add(Dropout(0.1))\n",
    "\n",
    "    model.add(Dense(1024, activation='linear'))\n",
    "    model.add(BatchNormalization())\n",
    "    model.add(Dropout(0.1))\n",
    "\n",
    "    model.add(Dense(1))\n",
    "    \n",
    "    model.compile(loss='mse',\n",
    "              optimizer=Adam(lr=LEARN_RATE),\n",
    "              metrics=['mse', 'mae'])\n",
    "    \n",
    "    return model"
   ]
  },
  {
   "cell_type": "code",
   "execution_count": null,
   "metadata": {
    "colab": {
     "autoexec": {
      "startup": false,
      "wait_interval": 0
     }
    },
    "colab_type": "code",
    "id": "MUw4ekTIyYnj"
   },
   "outputs": [],
   "source": [
    "# Normalization\n",
    "X_train = X_train.astype(np.float32, copy=False)\n",
    "X_test = X_test.astype(np.float32, copy=False)\n",
    "\n",
    "mean = X_train.mean(axis=(0, 1, 2))\n",
    "std = X_train.std(axis=(0, 1, 2))\n",
    "\n",
    "X_train -= mean\n",
    "X_train /= std\n",
    "X_test -= mean\n",
    "X_test /= std"
   ]
  },
  {
   "cell_type": "code",
   "execution_count": null,
   "metadata": {
    "colab": {
     "autoexec": {
      "startup": false,
      "wait_interval": 0
     },
     "base_uri": "https://localhost:8080/",
     "height": 2128
    },
    "colab_type": "code",
    "executionInfo": {
     "elapsed": 1610792,
     "status": "ok",
     "timestamp": 1526104289369,
     "user": {
      "displayName": "iss ISS",
      "photoUrl": "https://lh3.googleusercontent.com/a/default-user=s128",
      "userId": "111819791795218148538"
     },
     "user_tz": -480
    },
    "id": "dEEN2l98FGrK",
    "outputId": "d1ed4ed9-4397-4de3-bb39-96a05efdce97"
   },
   "outputs": [],
   "source": [
    "#3\n",
    "seed = 1\n",
    "np.random.seed(seed)\n",
    "\n",
    "# evaluate model with standardized dataset\n",
    "estimator = KerasRegressor(build_fn=create_network, \n",
    "                           epochs=EPOCH,\n",
    "                           batch_size=BATCH_SIZE,\n",
    "                           verbose=1)\n",
    "\n",
    "kfold = KFold(n_splits=3, random_state=seed)\n",
    "results = cross_val_score(estimator, X_train, Y_train, cv=kfold)"
   ]
  },
  {
   "cell_type": "code",
   "execution_count": null,
   "metadata": {
    "colab": {
     "autoexec": {
      "startup": false,
      "wait_interval": 0
     },
     "base_uri": "https://localhost:8080/",
     "height": 734
    },
    "colab_type": "code",
    "executionInfo": {
     "elapsed": 798670,
     "status": "ok",
     "timestamp": 1526105143025,
     "user": {
      "displayName": "iss ISS",
      "photoUrl": "https://lh3.googleusercontent.com/a/default-user=s128",
      "userId": "111819791795218148538"
     },
     "user_tz": -480
    },
    "id": "kfzyovEPZWbc",
    "outputId": "1b20a337-17ce-4481-9c5c-e45af44d4534"
   },
   "outputs": [],
   "source": [
    "estimator.fit(X_train, Y_train)"
   ]
  },
  {
   "cell_type": "code",
   "execution_count": null,
   "metadata": {
    "colab": {
     "autoexec": {
      "startup": false,
      "wait_interval": 0
     },
     "base_uri": "https://localhost:8080/",
     "height": 51
    },
    "colab_type": "code",
    "executionInfo": {
     "elapsed": 4628,
     "status": "ok",
     "timestamp": 1526106562231,
     "user": {
      "displayName": "iss ISS",
      "photoUrl": "https://lh3.googleusercontent.com/a/default-user=s128",
      "userId": "111819791795218148538"
     },
     "user_tz": -480
    },
    "id": "BDH4axPVEi9I",
    "outputId": "c816d79c-a124-473b-d1e6-a82d50a33133"
   },
   "outputs": [],
   "source": [
    "# Predict image\n",
    "Y_pred = estimator.predict(X_test)\n",
    "\n",
    "error = np.mean(abs(np.array(Y_test) - np.array(Y_pred)))\n",
    "print(\"Mean prediction error for 3-fold: {0:.2f} cents\".format(error))"
   ]
  },
  {
   "cell_type": "code",
   "execution_count": null,
   "metadata": {
    "colab": {
     "autoexec": {
      "startup": false,
      "wait_interval": 0
     },
     "base_uri": "https://localhost:8080/",
     "height": 3522
    },
    "colab_type": "code",
    "executionInfo": {
     "elapsed": 3223488,
     "status": "ok",
     "timestamp": 1526109821506,
     "user": {
      "displayName": "iss ISS",
      "photoUrl": "https://lh3.googleusercontent.com/a/default-user=s128",
      "userId": "111819791795218148538"
     },
     "user_tz": -480
    },
    "id": "Ia1iIOyv6JIB",
    "outputId": "7150d75c-bdc5-4891-9584-1e6c9b07f188"
   },
   "outputs": [],
   "source": [
    "#5\n",
    "seed = 1\n",
    "np.random.seed(seed)\n",
    "\n",
    "# evaluate model with standardized dataset\n",
    "estimator = KerasRegressor(build_fn=create_network, \n",
    "                           epochs=EPOCH,\n",
    "                           batch_size=BATCH_SIZE,\n",
    "                           verbose=1)\n",
    "\n",
    "kfold = KFold(n_splits=5, random_state=seed)\n",
    "results = cross_val_score(estimator, X_train, Y_train, cv=kfold)"
   ]
  },
  {
   "cell_type": "code",
   "execution_count": null,
   "metadata": {
    "colab": {
     "autoexec": {
      "startup": false,
      "wait_interval": 0
     },
     "base_uri": "https://localhost:8080/",
     "height": 734
    },
    "colab_type": "code",
    "executionInfo": {
     "elapsed": 805991,
     "status": "ok",
     "timestamp": 1526113866769,
     "user": {
      "displayName": "iss ISS",
      "photoUrl": "https://lh3.googleusercontent.com/a/default-user=s128",
      "userId": "111819791795218148538"
     },
     "user_tz": -480
    },
    "id": "q4Ge9On8bNfr",
    "outputId": "5cb66968-5109-4051-fa40-ab208311bcc5"
   },
   "outputs": [],
   "source": [
    "estimator.fit(X_train, Y_train)"
   ]
  },
  {
   "cell_type": "code",
   "execution_count": null,
   "metadata": {
    "colab": {
     "autoexec": {
      "startup": false,
      "wait_interval": 0
     },
     "base_uri": "https://localhost:8080/",
     "height": 51
    },
    "colab_type": "code",
    "executionInfo": {
     "elapsed": 3986,
     "status": "ok",
     "timestamp": 1526115113357,
     "user": {
      "displayName": "iss ISS",
      "photoUrl": "https://lh3.googleusercontent.com/a/default-user=s128",
      "userId": "111819791795218148538"
     },
     "user_tz": -480
    },
    "id": "1J6Ni2erfQcm",
    "outputId": "a5361f4c-556f-4526-927c-0e147dae2567"
   },
   "outputs": [],
   "source": [
    "# Predict image\n",
    "Y_pred = estimator.predict(X_test)\n",
    "\n",
    "error = np.mean(abs(np.array(Y_test) - np.array(Y_pred)))\n",
    "print(\"Mean prediction error for 5-fold: {0:.2f} cents\".format(error))"
   ]
  }
 ],
 "metadata": {
  "accelerator": "GPU",
  "colab": {
   "collapsed_sections": [
    "tAZia3qxY5Oe",
    "66kY6O6Fdpog",
    "F1XxIuWQKDTn",
    "Cu4EPZoXhkq0",
    "_9ZQQQTDE9BJ",
    "1L4pSdITibfg",
    "ag0twjQ35szC"
   ],
   "default_view": {},
   "name": "Copy of CA_Regression_Final.ipynb",
   "provenance": [
    {
     "file_id": "1w_xE5RwOHOVTn-G3hkIMtdnmami2kCO1",
     "timestamp": 1526138314795
    }
   ],
   "version": "0.3.2",
   "views": {}
  },
  "kernelspec": {
   "display_name": "Python 3",
   "language": "python",
   "name": "python3"
  },
  "language_info": {
   "codemirror_mode": {
    "name": "ipython",
    "version": 3
   },
   "file_extension": ".py",
   "mimetype": "text/x-python",
   "name": "python",
   "nbconvert_exporter": "python",
   "pygments_lexer": "ipython3",
   "version": "3.6.4"
  }
 },
 "nbformat": 4,
 "nbformat_minor": 1
}
