{
 "cells": [
  {
   "cell_type": "code",
   "execution_count": null,
   "metadata": {},
   "outputs": [],
   "source": [
    "import Augmentor\n",
    "import glob\n",
    "from tqdm import tqdm"
   ]
  },
  {
   "cell_type": "code",
   "execution_count": null,
   "metadata": {},
   "outputs": [],
   "source": [
    "directory = glob.glob(\"C:/Users/Shi Yuan/Google Drive/Colab/fruits_classification/Training/*\")\n",
    "\n",
    "for dir_path in directory:\n",
    "    p = Augmentor.Pipeline(dir_path)\n",
    "    p.random_distortion(probability=1, grid_width=4, grid_height=4, magnitude=8)\n",
    "    p.flip_left_right(probability=0.5)\n",
    "    p.flip_top_bottom(probability=0.5)\n",
    "    p.process()"
   ]
  }
 ],
 "metadata": {
  "kernelspec": {
   "display_name": "Python 3",
   "language": "python",
   "name": "python3"
  },
  "language_info": {
   "codemirror_mode": {
    "name": "ipython",
    "version": 3
   },
   "file_extension": ".py",
   "mimetype": "text/x-python",
   "name": "python",
   "nbconvert_exporter": "python",
   "pygments_lexer": "ipython3",
   "version": "3.6.4"
  }
 },
 "nbformat": 4,
 "nbformat_minor": 2
}
