{
 "cells": [
  {
   "cell_type": "markdown",
   "metadata": {
    "colab_type": "text",
    "id": "oT8mzFPxrxzs"
   },
   "source": [
    "***Check GPU***"
   ]
  },
  {
   "cell_type": "code",
   "execution_count": null,
   "metadata": {
    "colab": {
     "autoexec": {
      "startup": false,
      "wait_interval": 0
     },
     "base_uri": "https://localhost:8080/",
     "height": 216
    },
    "colab_type": "code",
    "executionInfo": {
     "elapsed": 7880,
     "status": "ok",
     "timestamp": 1525320147379,
     "user": {
      "displayName": "Shi Yuan Tang",
      "photoUrl": "//lh4.googleusercontent.com/-4Y-u_DwJ6Zk/AAAAAAAAAAI/AAAAAAAAAvE/s8fTXAB8I9A/s50-c-k-no/photo.jpg",
      "userId": "103887966190412537754"
     },
     "user_tz": -480
    },
    "id": "vX7cVjhuKLI-",
    "outputId": "119f7d7d-77ec-4dcb-8474-1dc2a018b627"
   },
   "outputs": [],
   "source": [
    "!pip install Theano==1.0"
   ]
  },
  {
   "cell_type": "code",
   "execution_count": null,
   "metadata": {
    "colab": {
     "autoexec": {
      "startup": false,
      "wait_interval": 0
     },
     "base_uri": "https://localhost:8080/",
     "height": 83
    },
    "colab_type": "code",
    "executionInfo": {
     "elapsed": 7701,
     "status": "ok",
     "timestamp": 1525320157457,
     "user": {
      "displayName": "Shi Yuan Tang",
      "photoUrl": "//lh4.googleusercontent.com/-4Y-u_DwJ6Zk/AAAAAAAAAAI/AAAAAAAAAvE/s8fTXAB8I9A/s50-c-k-no/photo.jpg",
      "userId": "103887966190412537754"
     },
     "user_tz": -480
    },
    "id": "xSUctOts9Gcx",
    "outputId": "55daa2f5-b6ce-4836-dccb-f2f00ca8aa8f"
   },
   "outputs": [],
   "source": [
    "from theano import function, config, shared, tensor\n",
    "import numpy\n",
    "import time\n",
    "\n",
    "vlen = 10 * 30 * 768  # 10 x #cores x # threads per core\n",
    "iters = 1000\n",
    "\n",
    "rng = numpy.random.RandomState(22)\n",
    "x = shared(numpy.asarray(rng.rand(vlen), config.floatX))\n",
    "f = function([], tensor.exp(x))\n",
    "print(f.maker.fgraph.toposort())\n",
    "t0 = time.time()\n",
    "for i in range(iters):\n",
    "    r = f()\n",
    "t1 = time.time()\n",
    "print(\"Looping %d times took %f seconds\" % (iters, t1 - t0))\n",
    "print(\"Result is %s\" % (r,))\n",
    "if numpy.any([isinstance(x.op, tensor.Elemwise) and\n",
    "              ('Gpu' not in type(x.op).__name__)\n",
    "              for x in f.maker.fgraph.toposort()]):\n",
    "    print('Used the cpu')\n",
    "else:\n",
    "    print('Used the gpu')"
   ]
  },
  {
   "cell_type": "markdown",
   "metadata": {
    "colab_type": "text",
    "id": "wS0GkZF-sIs2"
   },
   "source": [
    "***Install Google Drive Libraries and Authorization***"
   ]
  },
  {
   "cell_type": "code",
   "execution_count": null,
   "metadata": {
    "colab": {
     "autoexec": {
      "startup": false,
      "wait_interval": 0
     },
     "base_uri": "https://localhost:8080/",
     "height": 103
    },
    "colab_type": "code",
    "executionInfo": {
     "elapsed": 16444,
     "status": "ok",
     "timestamp": 1525345195777,
     "user": {
      "displayName": "Shi Yuan Tang",
      "photoUrl": "//lh4.googleusercontent.com/-4Y-u_DwJ6Zk/AAAAAAAAAAI/AAAAAAAAAvE/s8fTXAB8I9A/s50-c-k-no/photo.jpg",
      "userId": "103887966190412537754"
     },
     "user_tz": -480
    },
    "id": "XmbPdxIKoWFd",
    "outputId": "bf88d682-13f9-4c43-e703-127dcd5b9681"
   },
   "outputs": [],
   "source": [
    "!apt-get install -y -qq software-properties-common python-software-properties module-init-tools\n",
    "!add-apt-repository -y ppa:alessandro-strada/ppa 2>&1 > /dev/null\n",
    "!apt-get update -qq 2>&1 > /dev/null\n",
    "!apt-get -y install -qq google-drive-ocamlfuse fuse\n",
    "from google.colab import auth\n",
    "auth.authenticate_user()\n",
    "from oauth2client.client import GoogleCredentials\n",
    "creds = GoogleCredentials.get_application_default()\n",
    "import getpass\n",
    "!google-drive-ocamlfuse -headless -id={creds.client_id} -secret={creds.client_secret} < /dev/null 2>&1 | grep URL\n",
    "vcode = getpass.getpass()\n",
    "!echo {vcode} | google-drive-ocamlfuse -headless -id={creds.client_id} -secret={creds.client_secret}"
   ]
  },
  {
   "cell_type": "markdown",
   "metadata": {
    "colab_type": "text",
    "id": "E2iryr53r8tl"
   },
   "source": [
    "***Mount Google Drive***\n",
    "\n",
    "Drive folder is created under content/"
   ]
  },
  {
   "cell_type": "code",
   "execution_count": null,
   "metadata": {
    "colab": {
     "autoexec": {
      "startup": false,
      "wait_interval": 0
     }
    },
    "colab_type": "code",
    "id": "0VD6xrj6pA4F"
   },
   "outputs": [],
   "source": [
    "!mkdir -p drive\n",
    "!google-drive-ocamlfuse drive"
   ]
  },
  {
   "cell_type": "code",
   "execution_count": null,
   "metadata": {
    "colab": {
     "autoexec": {
      "startup": false,
      "wait_interval": 0
     },
     "base_uri": "https://localhost:8080/",
     "height": 34
    },
    "colab_type": "code",
    "executionInfo": {
     "elapsed": 1664,
     "status": "ok",
     "timestamp": 1525320239369,
     "user": {
      "displayName": "Shi Yuan Tang",
      "photoUrl": "//lh4.googleusercontent.com/-4Y-u_DwJ6Zk/AAAAAAAAAAI/AAAAAAAAAvE/s8fTXAB8I9A/s50-c-k-no/photo.jpg",
      "userId": "103887966190412537754"
     },
     "user_tz": -480
    },
    "id": "pA3eoHTjjBh_",
    "outputId": "2b468aeb-c317-4f9d-d280-6d873d9aace2"
   },
   "outputs": [],
   "source": [
    "!ls"
   ]
  },
  {
   "cell_type": "markdown",
   "metadata": {
    "colab_type": "text",
    "id": "i-NfWFqwsYbE"
   },
   "source": [
    "***Install Neupy***"
   ]
  },
  {
   "cell_type": "code",
   "execution_count": null,
   "metadata": {
    "colab": {
     "autoexec": {
      "startup": false,
      "wait_interval": 0
     },
     "base_uri": "https://localhost:8080/",
     "height": 647
    },
    "colab_type": "code",
    "executionInfo": {
     "elapsed": 13658,
     "status": "ok",
     "timestamp": 1525345222966,
     "user": {
      "displayName": "Shi Yuan Tang",
      "photoUrl": "//lh4.googleusercontent.com/-4Y-u_DwJ6Zk/AAAAAAAAAAI/AAAAAAAAAvE/s8fTXAB8I9A/s50-c-k-no/photo.jpg",
      "userId": "103887966190412537754"
     },
     "user_tz": -480
    },
    "id": "xx4ffbPlczRr",
    "outputId": "7113f699-ac0b-4ea4-f2a5-2a6ac44753fc"
   },
   "outputs": [],
   "source": [
    "!pip install neupy\n",
    "!pip install tqdm"
   ]
  },
  {
   "cell_type": "markdown",
   "metadata": {},
   "source": [
    "## Function"
   ]
  },
  {
   "cell_type": "code",
   "execution_count": null,
   "metadata": {},
   "outputs": [],
   "source": [
    "# Plot history for accuracy and loss\n",
    "def plot_model(model_details, train_acc_score, val_acc_score):\n",
    "    # Create sub-plots\n",
    "    fig, axs = plt.subplots(1,2,figsize=(15,5))\n",
    "    \n",
    "    # Summarize history for accuracy\n",
    "    axs[0].plot(range(1,len(train_acc_score)+1),train_acc_score)\n",
    "    axs[0].plot(range(1,len(val_acc_score)+1),val_acc_score)\n",
    "    axs[0].set_title('Model Accuracy')\n",
    "    axs[0].set_ylabel('Accuracy')\n",
    "    axs[0].set_xlabel('Epoch')\n",
    "    axs[0].set_xticks(np.arange(1,len(train_acc_score)+1),len(train_acc_score)/10)\n",
    "    axs[0].legend(['train', 'val'], loc='best')\n",
    "    \n",
    "    # Summarize history for loss\n",
    "    axs[1].plot(range(1,len(model_details.train_errors)+1),model_details.train_errors)\n",
    "    axs[1].plot(range(1,len(model_details.validation_errors)+1),model_details.validation_errors)\n",
    "    axs[1].set_title('Model Loss')\n",
    "    axs[1].set_ylabel('Loss')\n",
    "    axs[1].set_xlabel('Epoch')\n",
    "    axs[1].set_xticks(np.arange(1,len(model_details.train_errors)+1),len(model_details.train_errors)/10)\n",
    "    axs[1].legend(['train', 'val'], loc='best')\n",
    "\n",
    "# Plot history for accuracy and loss\n",
    "def plot_loadmodel(train_loss, val_loss, train_acc_score, val_acc_score):\n",
    "    # Create sub-plots\n",
    "    fig, axs = plt.subplots(1,2,figsize=(15,5))\n",
    "    \n",
    "    # Summarize history for accuracy\n",
    "    axs[0].plot(range(1,len(train_acc_score)+1),train_acc_score)\n",
    "    axs[0].plot(range(1,len(val_acc_score)+1),val_acc_score)\n",
    "    axs[0].set_title('Model Accuracy')\n",
    "    axs[0].set_ylabel('Accuracy')\n",
    "    axs[0].set_xlabel('Epoch')\n",
    "    axs[0].set_xticks(np.arange(1,len(train_acc_score)+1),len(train_acc_score)/10)\n",
    "    axs[0].legend(['train', 'val'], loc='best')\n",
    "    \n",
    "    # Summarize history for loss\n",
    "    axs[1].plot(range(1,len(train_loss)+1),train_loss)\n",
    "    axs[1].plot(range(1,len(val_loss)+1),val_loss)\n",
    "    axs[1].set_title('Model Loss')\n",
    "    axs[1].set_ylabel('Loss')\n",
    "    axs[1].set_xlabel('Epoch')\n",
    "    axs[1].set_xticks(np.arange(1,len(train_loss)+1),len(train_loss)/10)\n",
    "    axs[1].legend(['train', 'val'], loc='best')\n",
    "        \n",
    "    # Show the plot\n",
    "    plt.show()\n",
    "    \n",
    "# Plot confusion matrix of prediction value\n",
    "def plot_confusion_matrix(cm, classes):\n",
    "    cm = cm.astype('float') / cm.sum(axis=1)[:, np.newaxis]\n",
    "    print(\"Normalized confusion matrix\")\n",
    "\n",
    "    plt.imshow(cm, interpolation='nearest', cmap=plt.cm.Blues)\n",
    "    plt.title('Confusion matrix')\n",
    "    plt.colorbar()\n",
    "    tick_marks = np.arange(len(classes))\n",
    "    plt.xticks(tick_marks, classes, rotation=45)\n",
    "    plt.yticks(tick_marks, classes)\n",
    "\n",
    "    fmt = '.2f'\n",
    "    thresh = cm.max() / 2.\n",
    "    for i, j in itertools.product(range(cm.shape[0]), range(cm.shape[1])):\n",
    "        plt.text(j, i, '',\n",
    "                 horizontalalignment=\"center\",\n",
    "                 color=\"white\" if cm[i, j] > thresh else \"black\")\n",
    "\n",
    "    plt.ylabel('True label')\n",
    "    plt.xlabel('Predicted label')\n",
    "\n",
    "def visualize_errors(images_test, labels_test, class_names, labels_pred, correct):\n",
    "    incorrect = (correct == False)\n",
    "    \n",
    "    # Images of the test-set that have been incorrectly classified.\n",
    "    images_error = images_test[incorrect]\n",
    "    print(images_error.shape)\n",
    "    \n",
    "    # Get predicted classes for those images\n",
    "    labels_error = labels_pred[incorrect]\n",
    "    \n",
    "    # Print the unique misclassified classes\n",
    "    print(np.unique(labels_error))\n",
    "    print([id_to_label[i] for i in np.unique(labels_error)])\n",
    "\n",
    "    # Get true classes for those images\n",
    "    labels_true = labels_test[incorrect]\n",
    "    \n",
    "    \n",
    "    # Plot the first 9 images.\n",
    "    plot_images(images=images_error[0:9],\n",
    "                labels_true=labels_true[0:9],\n",
    "                class_names=class_names,\n",
    "                labels_pred=labels_error[0:9])\n",
    "\n",
    "    return images_error, labels_true\n",
    "\n",
    "# Plot error prediction\n",
    "def plot_images(images, labels_true, class_names, labels_pred=None):\n",
    "\n",
    "    assert len(images) == len(labels_true)\n",
    "\n",
    "    # Create a figure with sub-plots\n",
    "    fig, axes = plt.subplots(3, 3, figsize = (8,8))\n",
    "\n",
    "    # Adjust the vertical spacing\n",
    "    if labels_pred is None:\n",
    "        hspace = 0.2\n",
    "    else:\n",
    "        hspace = 0.5\n",
    "    fig.subplots_adjust(hspace=hspace, wspace=0.3)\n",
    "\n",
    "    for i, ax in enumerate(axes.flat):\n",
    "        # Fix crash when less than 9 images\n",
    "        if i < len(images):\n",
    "            # Plot the image\n",
    "            ax.imshow(images[i], interpolation='spline16')\n",
    "            \n",
    "            # Name of the true class\n",
    "            labels_true_name = class_names[labels_true[i]]\n",
    "\n",
    "            # Show true and predicted classes\n",
    "            if labels_pred is None:\n",
    "                xlabel = \"True: \"+labels_true_name\n",
    "            else:\n",
    "                # Name of the predicted class\n",
    "                labels_pred_name = class_names[labels_pred[i]]\n",
    "\n",
    "                xlabel = \"True: \"+labels_true_name+\"\\nPredicted: \"+ labels_pred_name\n",
    "\n",
    "            # Show the class on the x-axis\n",
    "            ax.set_xlabel(xlabel)\n",
    "        \n",
    "        # Remove ticks from the plot\n",
    "        ax.set_xticks([])\n",
    "        ax.set_yticks([])\n",
    "    \n",
    "    # Show the plot\n",
    "    plt.show()"
   ]
  },
  {
   "cell_type": "code",
   "execution_count": null,
   "metadata": {
    "colab": {
     "autoexec": {
      "startup": false,
      "wait_interval": 0
     }
    },
    "colab_type": "code",
    "id": "vbavP2nka3X4"
   },
   "outputs": [],
   "source": [
    "import numpy as np # linear algebra\n",
    "import pandas as pd # data processing, CSV file I/O (e.g. pd.read_csv)\n",
    "import matplotlib.pyplot as plt\n",
    "%matplotlib inline\n",
    "import cv2\n",
    "import glob\n",
    "import os\n",
    "import dill\n",
    "import itertools # confusion matrix\n",
    "from tqdm import tqdm\n",
    "\n",
    "import theano\n",
    "from sklearn.preprocessing import OneHotEncoder\n",
    "from sklearn.model_selection import train_test_split, ParameterGrid\n",
    "from sklearn import metrics\n",
    "from neupy import algorithms, layers, environment, plots"
   ]
  },
  {
   "cell_type": "markdown",
   "metadata": {
    "colab_type": "text",
    "id": "JJxOzWxgJQTy"
   },
   "source": [
    "Change directory to your preferred folder"
   ]
  },
  {
   "cell_type": "markdown",
   "metadata": {
    "colab_type": "text",
    "id": "4Ch1SBIMtw9C"
   },
   "source": [
    "***Copy data to local vm content folder***"
   ]
  },
  {
   "cell_type": "code",
   "execution_count": null,
   "metadata": {
    "colab": {
     "autoexec": {
      "startup": false,
      "wait_interval": 0
     },
     "base_uri": "https://localhost:8080/",
     "height": 133
    },
    "colab_type": "code",
    "executionInfo": {
     "elapsed": 52855,
     "status": "ok",
     "timestamp": 1525320341686,
     "user": {
      "displayName": "Shi Yuan Tang",
      "photoUrl": "//lh4.googleusercontent.com/-4Y-u_DwJ6Zk/AAAAAAAAAAI/AAAAAAAAAvE/s8fTXAB8I9A/s50-c-k-no/photo.jpg",
      "userId": "103887966190412537754"
     },
     "user_tz": -480
    },
    "id": "qnfFcigiAOYX",
    "outputId": "281080d9-dcab-4092-f6f4-1bb1b6a12423"
   },
   "outputs": [],
   "source": [
    "os.chdir(\"../../../\") #change directory to content folder\n",
    "\n",
    "!git clone https://github.com/Horea94/Fruit-Images-Dataset.git"
   ]
  },
  {
   "cell_type": "code",
   "execution_count": null,
   "metadata": {
    "colab": {
     "autoexec": {
      "startup": false,
      "wait_interval": 0
     },
     "base_uri": "https://localhost:8080/",
     "height": 50
    },
    "colab_type": "code",
    "executionInfo": {
     "elapsed": 1921,
     "status": "ok",
     "timestamp": 1525320346393,
     "user": {
      "displayName": "Shi Yuan Tang",
      "photoUrl": "//lh4.googleusercontent.com/-4Y-u_DwJ6Zk/AAAAAAAAAAI/AAAAAAAAAvE/s8fTXAB8I9A/s50-c-k-no/photo.jpg",
      "userId": "103887966190412537754"
     },
     "user_tz": -480
    },
    "id": "I4V3sKCKBAA5",
    "outputId": "6e9c05e6-8248-4953-de8e-643d1df63b9a"
   },
   "outputs": [],
   "source": [
    "!ls -a Fruit-Images-Dataset"
   ]
  },
  {
   "cell_type": "code",
   "execution_count": null,
   "metadata": {
    "colab": {
     "autoexec": {
      "startup": false,
      "wait_interval": 0
     },
     "base_uri": "https://localhost:8080/",
     "height": 34
    },
    "colab_type": "code",
    "executionInfo": {
     "elapsed": 1728,
     "status": "ok",
     "timestamp": 1525320360427,
     "user": {
      "displayName": "Shi Yuan Tang",
      "photoUrl": "//lh4.googleusercontent.com/-4Y-u_DwJ6Zk/AAAAAAAAAAI/AAAAAAAAAvE/s8fTXAB8I9A/s50-c-k-no/photo.jpg",
      "userId": "103887966190412537754"
     },
     "user_tz": -480
    },
    "id": "SsLO-2osBgcx",
    "outputId": "febccc6e-2994-4b2d-b9c2-9be88b633fca"
   },
   "outputs": [],
   "source": [
    "!pwd"
   ]
  },
  {
   "cell_type": "code",
   "execution_count": null,
   "metadata": {
    "colab": {
     "autoexec": {
      "startup": false,
      "wait_interval": 0
     },
     "base_uri": "https://localhost:8080/",
     "height": 34
    },
    "colab_type": "code",
    "executionInfo": {
     "elapsed": 1909,
     "status": "ok",
     "timestamp": 1525320393311,
     "user": {
      "displayName": "Shi Yuan Tang",
      "photoUrl": "//lh4.googleusercontent.com/-4Y-u_DwJ6Zk/AAAAAAAAAAI/AAAAAAAAAvE/s8fTXAB8I9A/s50-c-k-no/photo.jpg",
      "userId": "103887966190412537754"
     },
     "user_tz": -480
    },
    "id": "RrjorJxQLhIz",
    "outputId": "de165022-41c3-40d6-a060-b2857ce08bfa"
   },
   "outputs": [],
   "source": [
    "!ls"
   ]
  },
  {
   "cell_type": "markdown",
   "metadata": {
    "colab_type": "text",
    "id": "X0UreJ0GdYy8"
   },
   "source": [
    "**Preparing Training Data**"
   ]
  },
  {
   "cell_type": "markdown",
   "metadata": {
    "colab_type": "text",
    "id": "PDv_wgHxLpwV"
   },
   "source": [
    "Check if data is present in local vm"
   ]
  },
  {
   "cell_type": "code",
   "execution_count": null,
   "metadata": {
    "colab": {
     "autoexec": {
      "startup": false,
      "wait_interval": 0
     },
     "base_uri": "https://localhost:8080/",
     "height": 1012
    },
    "colab_type": "code",
    "executionInfo": {
     "elapsed": 716,
     "status": "ok",
     "timestamp": 1525325765702,
     "user": {
      "displayName": "Shi Yuan Tang",
      "photoUrl": "//lh4.googleusercontent.com/-4Y-u_DwJ6Zk/AAAAAAAAAAI/AAAAAAAAAvE/s8fTXAB8I9A/s50-c-k-no/photo.jpg",
      "userId": "103887966190412537754"
     },
     "user_tz": -480
    },
    "id": "FM5e3Ea04E36",
    "outputId": "c81421e3-f3d6-435d-c983-60f6feb0ba5c"
   },
   "outputs": [],
   "source": [
    "glob.glob(\"../../../Fruit-Images-Dataset/Training/*\")"
   ]
  },
  {
   "cell_type": "code",
   "execution_count": null,
   "metadata": {},
   "outputs": [],
   "source": [
    "glob.glob(\"C:/Users/Shi Yuan/Google Drive/Colab/fruits_classification/Training/*\")"
   ]
  },
  {
   "cell_type": "code",
   "execution_count": null,
   "metadata": {
    "colab": {
     "autoexec": {
      "startup": false,
      "wait_interval": 0
     },
     "base_uri": "https://localhost:8080/",
     "height": 34
    },
    "colab_type": "code",
    "executionInfo": {
     "elapsed": 10316,
     "status": "ok",
     "timestamp": 1525320471281,
     "user": {
      "displayName": "Shi Yuan Tang",
      "photoUrl": "//lh4.googleusercontent.com/-4Y-u_DwJ6Zk/AAAAAAAAAAI/AAAAAAAAAvE/s8fTXAB8I9A/s50-c-k-no/photo.jpg",
      "userId": "103887966190412537754"
     },
     "user_tz": -480
    },
    "id": "C9d0lWIwa96C",
    "outputId": "410a7d13-0e9b-4928-b7bc-ba84e1e8c72f"
   },
   "outputs": [],
   "source": [
    "all_train_fruit_img = []\n",
    "all_train_label = []\n",
    "for dir_path in tqdm(glob.glob(\"C:/Users/Shi Yuan/Google Drive/Colab/fruits_classification/Training/*\")):\n",
    "    img_label = dir_path.split(\"\\\\\")[-1]\n",
    "    for image_path in glob.glob(os.path.join(dir_path,\"*.jpg\")):\n",
    "        image = cv2.imread(image_path,cv2.IMREAD_COLOR)\n",
    "        image = cv2.resize(image, (32, 32))\n",
    "        image = cv2.cvtColor(image, cv2.COLOR_RGB2BGR)\n",
    "        all_train_fruit_img.append(image)\n",
    "        all_train_label.append(img_label)\n",
    "\n",
    "all_train_fruit_img = np.array(all_train_fruit_img)\n",
    "all_train_label = np.array(all_train_label)"
   ]
  },
  {
   "cell_type": "code",
   "execution_count": null,
   "metadata": {},
   "outputs": [],
   "source": [
    "class_label = np.unique(all_train_label)\n",
    "class_label"
   ]
  },
  {
   "cell_type": "code",
   "execution_count": null,
   "metadata": {
    "colab": {
     "autoexec": {
      "startup": false,
      "wait_interval": 0
     },
     "base_uri": "https://localhost:8080/",
     "height": 1012
    },
    "colab_type": "code",
    "executionInfo": {
     "elapsed": 707,
     "status": "ok",
     "timestamp": 1525321011163,
     "user": {
      "displayName": "Shi Yuan Tang",
      "photoUrl": "//lh4.googleusercontent.com/-4Y-u_DwJ6Zk/AAAAAAAAAAI/AAAAAAAAAvE/s8fTXAB8I9A/s50-c-k-no/photo.jpg",
      "userId": "103887966190412537754"
     },
     "user_tz": -480
    },
    "id": "TW29_EV7dE0J",
    "outputId": "06d42a05-4d40-4f4c-f0a8-fce4efe064e6"
   },
   "outputs": [],
   "source": [
    "label_to_id = {v:k for k,v in enumerate(class_label) }\n",
    "id_to_label = {v:k for k,v in label_to_id.items() }\n",
    "\n",
    "id_to_label"
   ]
  },
  {
   "cell_type": "code",
   "execution_count": null,
   "metadata": {},
   "outputs": [],
   "source": [
    "all_train_label_id = np.array([label_to_id[i] for i in all_train_label])\n",
    "all_train_label_id"
   ]
  },
  {
   "cell_type": "code",
   "execution_count": null,
   "metadata": {},
   "outputs": [],
   "source": [
    "all_train_fruit_img.shape, all_train_label_id.shape, class_label.shape"
   ]
  },
  {
   "cell_type": "code",
   "execution_count": null,
   "metadata": {},
   "outputs": [],
   "source": [
    "y = np.bincount(all_train_label_id)\n",
    "ii = np.nonzero(y)[0]\n",
    "plt.bar(np.unique(all_train_label_id), y[ii], color=\"#87CEFA\", edgecolor=\"Black\")\n",
    "plt.xlabel('Class Labels')\n",
    "plt.ylabel('Count')\n",
    "plt.title('Historgram of each class label in all_train image set')"
   ]
  },
  {
   "cell_type": "markdown",
   "metadata": {},
   "source": [
    "## Splitting into train and validation sets (hold-out validation)"
   ]
  },
  {
   "cell_type": "code",
   "execution_count": null,
   "metadata": {},
   "outputs": [],
   "source": [
    "# Splitting, with stratify class\n",
    "train_fruit_img, validate_fruit_img, train_label_id, validate_label_id = train_test_split(all_train_fruit_img, all_train_label_id, test_size=0.2, random_state=None, stratify=all_train_label_id)"
   ]
  },
  {
   "cell_type": "code",
   "execution_count": null,
   "metadata": {},
   "outputs": [],
   "source": [
    "train_fruit_img.shape, train_label_id.shape, validate_fruit_img.shape, validate_label_id.shape"
   ]
  },
  {
   "cell_type": "code",
   "execution_count": null,
   "metadata": {},
   "outputs": [],
   "source": [
    "# Plot histogram of train image set\n",
    "y = np.bincount(train_label_id)\n",
    "ii = np.nonzero(y)[0]\n",
    "plt.subplot(2, 1, 1)\n",
    "plt.tight_layout()\n",
    "plt.bar(np.unique(train_label_id), y[ii], color=\"#87CEFA\", edgecolor=\"Black\")\n",
    "plt.xlabel('Class Labels')\n",
    "plt.ylabel('Count')\n",
    "plt.title('Historgram of each class label in train image set')\n",
    "\n",
    "# Plot histogram of validate image set\n",
    "y = np.bincount(validate_label_id)\n",
    "ii = np.nonzero(y)[0]\n",
    "plt.subplot(2, 1, 2)\n",
    "plt.tight_layout()\n",
    "plt.bar(np.unique(validate_label_id), y[ii], color=\"#87CEFA\", edgecolor=\"Black\")\n",
    "plt.xlabel('Class Labels')\n",
    "plt.ylabel('Count')\n",
    "plt.title('Historgram of each class label in validate image set')"
   ]
  },
  {
   "cell_type": "code",
   "execution_count": null,
   "metadata": {},
   "outputs": [],
   "source": [
    "validate_label_id # already in id"
   ]
  },
  {
   "cell_type": "markdown",
   "metadata": {
    "colab_type": "text",
    "id": "v9t7jnscL64L"
   },
   "source": [
    "Save the split train and validate data"
   ]
  },
  {
   "cell_type": "code",
   "execution_count": null,
   "metadata": {
    "colab": {
     "autoexec": {
      "startup": false,
      "wait_interval": 0
     }
    },
    "colab_type": "code",
    "id": "SM-Z6cJO-bSc"
   },
   "outputs": [],
   "source": [
    "np.save('train_fruit_img.npy', train_fruit_img)\n",
    "np.save('train_label_id.npy', train_label_id)\n",
    "\n",
    "np.save('validate_fruit_img.npy', validate_fruit_img)\n",
    "np.save('validate_label_id.npy', validate_label_id)"
   ]
  },
  {
   "cell_type": "markdown",
   "metadata": {
    "colab_type": "text",
    "id": "0n1lj4O9dUgL"
   },
   "source": [
    "**Preparing Test Data**"
   ]
  },
  {
   "cell_type": "code",
   "execution_count": null,
   "metadata": {
    "colab": {
     "autoexec": {
      "startup": false,
      "wait_interval": 0
     },
     "base_uri": "https://localhost:8080/",
     "height": 34
    },
    "colab_type": "code",
    "executionInfo": {
     "elapsed": 3909,
     "status": "ok",
     "timestamp": 1525321031409,
     "user": {
      "displayName": "Shi Yuan Tang",
      "photoUrl": "//lh4.googleusercontent.com/-4Y-u_DwJ6Zk/AAAAAAAAAAI/AAAAAAAAAvE/s8fTXAB8I9A/s50-c-k-no/photo.jpg",
      "userId": "103887966190412537754"
     },
     "user_tz": -480
    },
    "id": "oV9UjypidTjw",
    "outputId": "2dc28005-1773-4f57-e194-2fa4f90860b7"
   },
   "outputs": [],
   "source": [
    "test_fruit_img=[]\n",
    "test_label =[]\n",
    "for dir_path in tqdm(glob.glob(\"C:/Users/Shi Yuan/Google Drive/Colab/fruits_classification/Validation/*\")):\n",
    "    img_label = dir_path.split(\"\\\\\")[-1]\n",
    "    for image_path in glob.glob(os.path.join(dir_path,\"*.jpg\")):\n",
    "        image = cv2.imread(image_path,cv2.IMREAD_COLOR)\n",
    "        image = cv2.resize(image, (32, 32))\n",
    "        image = cv2.cvtColor(image, cv2.COLOR_RGB2BGR)\n",
    "        test_fruit_img.append(image)\n",
    "        test_label.append(img_label)\n",
    "\n",
    "test_fruit_img = np.array(test_fruit_img)\n",
    "test_label = np.array(test_label)"
   ]
  },
  {
   "cell_type": "code",
   "execution_count": null,
   "metadata": {
    "colab": {
     "autoexec": {
      "startup": false,
      "wait_interval": 0
     }
    },
    "colab_type": "code",
    "id": "KXLhWr4E5umm"
   },
   "outputs": [],
   "source": [
    "test_label_id = np.array([label_to_id[i] for i in test_label])"
   ]
  },
  {
   "cell_type": "code",
   "execution_count": null,
   "metadata": {
    "colab": {
     "autoexec": {
      "startup": false,
      "wait_interval": 0
     },
     "base_uri": "https://localhost:8080/",
     "height": 34
    },
    "colab_type": "code",
    "executionInfo": {
     "elapsed": 664,
     "status": "ok",
     "timestamp": 1525321034860,
     "user": {
      "displayName": "Shi Yuan Tang",
      "photoUrl": "//lh4.googleusercontent.com/-4Y-u_DwJ6Zk/AAAAAAAAAAI/AAAAAAAAAvE/s8fTXAB8I9A/s50-c-k-no/photo.jpg",
      "userId": "103887966190412537754"
     },
     "user_tz": -480
    },
    "id": "SDC_rNG75vQV",
    "outputId": "51ff5a54-971b-49f9-ffce-957369e7b68c"
   },
   "outputs": [],
   "source": [
    "test_fruit_img.shape, test_label_id.shape"
   ]
  },
  {
   "cell_type": "code",
   "execution_count": null,
   "metadata": {
    "colab": {
     "autoexec": {
      "startup": false,
      "wait_interval": 0
     }
    },
    "colab_type": "code",
    "id": "yneFjZoBCa93"
   },
   "outputs": [],
   "source": [
    "np.save('test_fruit_img.npy', test_fruit_img)\n",
    "np.save('test_label_id.npy', test_label_id)"
   ]
  },
  {
   "cell_type": "code",
   "execution_count": null,
   "metadata": {},
   "outputs": [],
   "source": [
    "# Plot histogram of test image set\n",
    "y = np.bincount(test_label_id)\n",
    "ii = np.nonzero(y)[0]\n",
    "plt.subplot(2, 1, 2)\n",
    "plt.tight_layout()\n",
    "plt.bar(np.unique(test_label_id), y[ii], color=\"#87CEFA\", edgecolor=\"Black\")\n",
    "plt.xlabel('Class Labels')\n",
    "plt.ylabel('Count')\n",
    "plt.title('Historgram of each class label in test image set')"
   ]
  },
  {
   "cell_type": "markdown",
   "metadata": {
    "colab_type": "text",
    "id": "IA9ajJywdox6"
   },
   "source": [
    "**Defining Train and Test Images**"
   ]
  },
  {
   "cell_type": "code",
   "execution_count": null,
   "metadata": {},
   "outputs": [],
   "source": [
    "# Show first 10 images\n",
    "print(train_label_id[0:10])\n",
    "\n",
    "slice = 10\n",
    "plt.figure(figsize=(16,8))\n",
    "for i in range(slice):\n",
    "    plt.subplot(1, slice, i+1)\n",
    "    #plt.tight_layout()\n",
    "    plt.imshow(train_fruit_img[i], interpolation='nearest')\n",
    "    plt.axis('off')\n",
    "    plt.title('{}'.format(id_to_label[train_label_id[i]]), fontsize=8)\n",
    "\n",
    "print(validate_label_id[0:10])\n",
    "\n",
    "slice = 10\n",
    "plt.figure(figsize=(16,8))\n",
    "for i in range(slice):\n",
    "    plt.subplot(1, slice, i+1)\n",
    "    plt.imshow(validate_fruit_img[i], interpolation='nearest')\n",
    "    plt.axis('off')\n",
    "    plt.title('{}'.format(id_to_label[validate_label_id[i]]), fontsize=8)\n",
    "\n",
    "print(test_label_id[0:10])\n",
    "\n",
    "slice = 10\n",
    "plt.figure(figsize=(16,8))\n",
    "for i in range(slice):\n",
    "    plt.subplot(1, slice, i+1)\n",
    "    plt.imshow(test_fruit_img[i], interpolation='nearest')\n",
    "    plt.axis('off')\n",
    "    plt.title('{}'.format(id_to_label[test_label_id[i]]), fontsize=8)"
   ]
  },
  {
   "cell_type": "code",
   "execution_count": null,
   "metadata": {
    "colab": {
     "autoexec": {
      "startup": false,
      "wait_interval": 0
     },
     "base_uri": "https://localhost:8080/",
     "height": 332
    },
    "colab_type": "code",
    "executionInfo": {
     "elapsed": 135653,
     "status": "ok",
     "timestamp": 1525325915315,
     "user": {
      "displayName": "Shi Yuan Tang",
      "photoUrl": "//lh4.googleusercontent.com/-4Y-u_DwJ6Zk/AAAAAAAAAAI/AAAAAAAAAvE/s8fTXAB8I9A/s50-c-k-no/photo.jpg",
      "userId": "103887966190412537754"
     },
     "user_tz": -480
    },
    "id": "uiFW_zVp9NlR",
    "outputId": "70a018bc-09d5-4b35-c649-46a987e058fe"
   },
   "outputs": [],
   "source": [
    "# convert this shape (n_samples, height, width, n_channels)\n",
    "# to (n_samples, n_channels, height, width)\n",
    "x_train = np.transpose(train_fruit_img, (0, 3, 1, 2))\n",
    "x_train = x_train.astype(np.float32, copy=False)\n",
    "\n",
    "x_validate = np.transpose(validate_fruit_img, (0, 3, 1, 2))\n",
    "x_validate = x_validate.astype(np.float32, copy=False)\n",
    "\n",
    "x_test = np.transpose(test_fruit_img, (0, 3, 1, 2))\n",
    "x_test = x_test.astype(np.float32, copy=False)\n",
    "\n",
    "mean = x_train.mean(axis=(0, 2, 3)).reshape((1, -1, 1, 1))\n",
    "std = x_train.std(axis=(0, 2, 3)).reshape((1, -1, 1, 1))\n",
    "\n",
    "x_train -= mean\n",
    "x_train /= std\n",
    "x_validate -= mean\n",
    "x_validate /= std\n",
    "x_test -= mean\n",
    "x_test /= std\n",
    "\n",
    "target_scaler = OneHotEncoder()\n",
    "y_train = target_scaler.fit_transform(train_label_id.reshape((-1, 1))).todense()\n",
    "y_validate = target_scaler.fit_transform(validate_label_id.reshape((-1, 1))).todense()\n",
    "y_test = target_scaler.transform(test_label_id.reshape((-1, 1))).todense()\n"
   ]
  },
  {
   "cell_type": "code",
   "execution_count": null,
   "metadata": {},
   "outputs": [],
   "source": [
    "x_train.shape, y_train.shape, x_validate.shape, y_validate.shape, x_test.shape, y_test.shape"
   ]
  },
  {
   "cell_type": "markdown",
   "metadata": {},
   "source": [
    "Save train dataset mean and std to reproduce in future"
   ]
  },
  {
   "cell_type": "code",
   "execution_count": null,
   "metadata": {},
   "outputs": [],
   "source": [
    "np.save('meanfile.npy', mean)\n",
    "np.save('stdfile.npy', std)"
   ]
  },
  {
   "cell_type": "markdown",
   "metadata": {},
   "source": [
    "## Add accuracy prediction after every epoch"
   ]
  },
  {
   "cell_type": "code",
   "execution_count": null,
   "metadata": {},
   "outputs": [],
   "source": [
    "def on_epoch_end(network):\n",
    "    train_predicted = network.predict(x_train).argmax(axis=1)\n",
    "    y_train_labels = np.asarray(y_train.argmax(axis=1)).reshape(len(y_train))  \n",
    "    \n",
    "    validate_predicted = network.predict(x_validate).argmax(axis=1)\n",
    "    y_validate_labels = np.asarray(y_validate.argmax(axis=1)).reshape(len(y_validate))  \n",
    "    \n",
    "    test_predicted = network.predict(x_test).argmax(axis=1)\n",
    "    y_test_labels = np.asarray(y_test.argmax(axis=1)).reshape(len(y_test))\n",
    "\n",
    "    \n",
    "    train_acc_score.append(metrics.accuracy_score(y_train_labels, train_predicted))\n",
    "    val_acc_score.append(metrics.accuracy_score(y_validate_labels, validate_predicted))\n",
    "    test_acc_score.append(metrics.accuracy_score(y_test_labels, test_predicted))\n",
    "    \n",
    "    print('Train Accuracy Score: {}'.format(train_acc_score))\n",
    "    print('Validation Accuracy Score: {}'.format(val_acc_score))\n",
    "    print('Test Accuracy Score: {}'.format(test_acc_score))\n",
    "    \n",
    "    current_epoch = network.last_epoch\n",
    "    \n",
    "    filedir = \"decay{}_step{}_batchsize{}/network-storage.dill\".format(param['decay'], param['step'], param['batch_size'])\n",
    "    \n",
    "    if (current_epoch > 1):\n",
    "        if (network.validation_errors[current_epoch-1] < network.validation_errors[best_epoch[-1]-1]):\n",
    "            # save the best model\n",
    "            with open(filedir, 'wb') as f:\n",
    "                dill.dump(network, f)\n",
    "            best_epoch.append(current_epoch)\n",
    "    else :\n",
    "        with open(filedir, 'wb') as f:\n",
    "            dill.dump(network, f)\n",
    "        best_epoch.append(current_epoch)\n",
    "        \n",
    "    print('Best Epoch: {}'.format(best_epoch[-1]))"
   ]
  },
  {
   "cell_type": "markdown",
   "metadata": {},
   "source": [
    "## Initialise Network"
   ]
  },
  {
   "cell_type": "code",
   "execution_count": null,
   "metadata": {},
   "outputs": [],
   "source": [
    "def save_network_score(filedir):\n",
    "    # Save training and validation curves\n",
    "    np.save(filedir+'train_acc_score.npy', train_acc_score)\n",
    "    np.save(filedir+'val_acc_score.npy', val_acc_score)\n",
    "    np.save(filedir+'test_acc_score.npy', test_acc_score)\n",
    "\n",
    "    np.save(filedir+'train_loss.npy', network.train_errors)\n",
    "    np.save(filedir+'val_loss.npy', network.validation_errors)\n",
    "\n",
    "    np.save(filedir+'best_epoch.npy', best_epoch)"
   ]
  },
  {
   "cell_type": "code",
   "execution_count": null,
   "metadata": {},
   "outputs": [],
   "source": [
    "from sklearn.model_selection import ParameterGrid\n",
    "\n",
    "param_grid = {'step': [0.4, 0.5], 'decay': [1], 'batch_size': [256]}\n",
    "\n",
    "param_list = list(ParameterGrid(param_grid))\n",
    "param_list"
   ]
  },
  {
   "cell_type": "code",
   "execution_count": null,
   "metadata": {},
   "outputs": [],
   "source": [
    "len(param_list)"
   ]
  },
  {
   "cell_type": "code",
   "execution_count": null,
   "metadata": {},
   "outputs": [],
   "source": [
    "results_df =  pd.DataFrame()\n",
    "for param in param_list:\n",
    "    print('Decay: {}, Learning Rate: {}, Batch Size: {}'.format(param['decay'], param['step'], param['batch_size']))\n",
    "    filedir = \"decay{}_step{}_batchsize{}/\".format(param['decay'], param['step'], param['batch_size'])\n",
    "    \n",
    "    if not os.path.exists(filedir):\n",
    "        os.makedirs(filedir)\n",
    "    \n",
    "    train_acc_score = []\n",
    "    val_acc_score = []\n",
    "    test_acc_score = []\n",
    "    best_epoch = []\n",
    "\n",
    "    network = algorithms.Adadelta(\n",
    "        [\n",
    "            layers.Input((3, 32, 32)),\n",
    "\n",
    "            layers.Convolution((32, 3, 3)) > layers.BatchNorm() > layers.PRelu(),\n",
    "            \n",
    "            layers.Convolution((32, 3, 3)) > layers.BatchNorm() > layers.PRelu(),\n",
    "            layers.MaxPooling((2, 2)),\n",
    "            \n",
    "            layers.Convolution((64, 3, 3)) > layers.BatchNorm() > layers.PRelu(),\n",
    "\n",
    "            layers.Convolution((64, 3, 3)) > layers.BatchNorm() > layers.PRelu(),\n",
    "            layers.MaxPooling((2, 2)),\n",
    "            \n",
    "            layers.Convolution((128, 3, 3)) > layers.BatchNorm() > layers.PRelu(),\n",
    "            layers.MaxPooling((2, 2)),\n",
    "\n",
    "            layers.Reshape(),\n",
    "\n",
    "            layers.Linear(1024) > layers.BatchNorm() > layers.PRelu(),\n",
    "            layers.Softmax(60),\n",
    "        ],\n",
    "\n",
    "        error='categorical_crossentropy',\n",
    "        step=param['step'],\n",
    "        decay=param['decay'],\n",
    "        shuffle_data=True,\n",
    "        batch_size=param['batch_size'], #128\n",
    "        verbose=True,\n",
    "        epoch_end_signal=on_epoch_end,\n",
    "    )\n",
    " \n",
    "    \n",
    "    network.train(x_train, y_train, x_validate, y_validate, epochs=50)\n",
    "    save_network_score(filedir)\n",
    "    plot_model(network, train_acc_score, val_acc_score)\n",
    "    plt.savefig(filedir+'plot.png', bbox_inches='tight')\n",
    "    \n",
    "    df = pd.DataFrame(data=param, index=[0])\n",
    "    d = {'min validation loss': min(network.validation_errors), 'best epoch': best_epoch[-1], \n",
    "         'train loss': network.train_errors[best_epoch[-1]-1], 'train_acc_score': train_acc_score[best_epoch[-1]-1], \n",
    "         'val_acc_score': val_acc_score[best_epoch[-1]-1], 'test_acc_score': test_acc_score[best_epoch[-1]-1],}\n",
    "    df2 = pd.DataFrame(data=d, index=[0])\n",
    "    concat_df = pd.concat([df, df2], axis=1)\n",
    "\n",
    "    results_df = results_df.append(concat_df)\n",
    "\n",
    "timestr = time.strftime(\"%Y%m%d-%H%M%S\")\n",
    "results_df.to_csv('results_'+timestr+'.csv', encoding='utf-8', index=False)\n",
    "results_df"
   ]
  },
  {
   "cell_type": "code",
   "execution_count": null,
   "metadata": {},
   "outputs": [],
   "source": [
    "network.architecture()"
   ]
  },
  {
   "cell_type": "markdown",
   "metadata": {
    "colab_type": "text",
    "id": "oQs7M7CCNI1j"
   },
   "source": [
    "**Load The Best Trained Network**"
   ]
  },
  {
   "cell_type": "code",
   "execution_count": null,
   "metadata": {
    "colab": {
     "autoexec": {
      "startup": false,
      "wait_interval": 0
     },
     "base_uri": "https://localhost:8080/",
     "height": 332
    },
    "colab_type": "code",
    "executionInfo": {
     "elapsed": 139814,
     "status": "ok",
     "timestamp": 1525345389500,
     "user": {
      "displayName": "Shi Yuan Tang",
      "photoUrl": "//lh4.googleusercontent.com/-4Y-u_DwJ6Zk/AAAAAAAAAAI/AAAAAAAAAvE/s8fTXAB8I9A/s50-c-k-no/photo.jpg",
      "userId": "103887966190412537754"
     },
     "user_tz": -480
    },
    "id": "8xYmU1o8lWNN",
    "outputId": "f9687b62-3567-46b1-eee0-61adc3d565a0"
   },
   "outputs": [],
   "source": [
    "import dill\n",
    "\n",
    "with open('Architecture 15/decay1_step0.4_batchsize256/network-storage.dill', 'rb') as f:\n",
    "    network = dill.load(f)"
   ]
  },
  {
   "cell_type": "markdown",
   "metadata": {
    "colab_type": "text",
    "id": "KS_VOLNIMrxt"
   },
   "source": [
    "Load the mean and std"
   ]
  },
  {
   "cell_type": "code",
   "execution_count": null,
   "metadata": {},
   "outputs": [],
   "source": [
    "validate_predicted = network.predict(x_validate).argmax(axis=1)\n",
    "y_validate_labels = np.asarray(y_validate.argmax(axis=1)).reshape(len(y_validate))  \n",
    "\n",
    "print(metrics.classification_report(y_validate_labels, validate_predicted))\n",
    "score = metrics.accuracy_score(y_validate_labels, validate_predicted)\n",
    "print(\"Validate Accuracy: {:.2%}\".format(score))\n",
    "print(metrics.confusion_matrix(validate_predicted, y_validate_labels))"
   ]
  },
  {
   "cell_type": "code",
   "execution_count": null,
   "metadata": {
    "colab": {
     "autoexec": {
      "startup": false,
      "wait_interval": 0
     },
     "base_uri": "https://localhost:8080/",
     "height": 1227
    },
    "colab_type": "code",
    "executionInfo": {
     "elapsed": 92935,
     "status": "ok",
     "timestamp": 1525259157627,
     "user": {
      "displayName": "Shi Yuan Tang",
      "photoUrl": "//lh4.googleusercontent.com/-4Y-u_DwJ6Zk/AAAAAAAAAAI/AAAAAAAAAvE/s8fTXAB8I9A/s50-c-k-no/photo.jpg",
      "userId": "103887966190412537754"
     },
     "user_tz": -480
    },
    "id": "a5ci0ipX-1Zx",
    "outputId": "10b33791-b3ca-438b-d751-eb2bbd1197dd"
   },
   "outputs": [],
   "source": [
    "test_predicted = network.predict(x_test).argmax(axis=1)\n",
    "y_test_labels = np.asarray(y_test.argmax(axis=1)).reshape(len(y_test))\n",
    "\n",
    "print(metrics.classification_report(y_test_labels, test_predicted))\n",
    "score = metrics.accuracy_score(y_test_labels, test_predicted)\n",
    "print(\"Test Accuracy: {:.2%}\".format(score))\n",
    "print(metrics.confusion_matrix(test_predicted, y_test_labels))\n",
    "\n",
    "correct = (test_predicted == y_test_labels)"
   ]
  },
  {
   "cell_type": "markdown",
   "metadata": {},
   "source": [
    "Load - in case re-plotting needed"
   ]
  },
  {
   "cell_type": "code",
   "execution_count": null,
   "metadata": {},
   "outputs": [],
   "source": [
    "cnf_matrix = metrics.confusion_matrix(test_predicted, y_test_labels)\n",
    "print(cnf_matrix)\n",
    "\n",
    "# Plot confusion matrix\n",
    "plt.figure(figsize=(25,25)) \n",
    "plot_confusion_matrix(cnf_matrix, classes=class_label)"
   ]
  },
  {
   "cell_type": "markdown",
   "metadata": {},
   "source": [
    "Predict class for test set images"
   ]
  },
  {
   "cell_type": "markdown",
   "metadata": {},
   "source": [
    "Calculate accuracy using manual calculation"
   ]
  },
  {
   "cell_type": "code",
   "execution_count": null,
   "metadata": {},
   "outputs": [],
   "source": [
    "num_images = len(correct)\n",
    "print(\"Accuracy: %.2f%%\" % ((sum(correct)*100)/num_images))"
   ]
  },
  {
   "cell_type": "markdown",
   "metadata": {},
   "source": [
    "Displaying miscalssified image sets (and display the unqiue labels of misclassified fruits)"
   ]
  },
  {
   "cell_type": "code",
   "execution_count": null,
   "metadata": {},
   "outputs": [],
   "source": [
    "images_error, images_error_label = visualize_errors(test_fruit_img, y_test_labels, class_label, test_predicted, correct)"
   ]
  },
  {
   "cell_type": "markdown",
   "metadata": {},
   "source": [
    "## Random display some misclassified images"
   ]
  },
  {
   "cell_type": "code",
   "execution_count": null,
   "metadata": {},
   "outputs": [],
   "source": [
    "# Total number of misclassified images\n",
    "len(images_error)"
   ]
  },
  {
   "cell_type": "code",
   "execution_count": null,
   "metadata": {},
   "outputs": [],
   "source": [
    "#images_error\n",
    "\n",
    "display = 10 # number of images to display\n",
    "\n",
    "plt.figure(figsize=(12,12))\n",
    "idx = np.random.choice(len(images_error), display ,replace=False)\n",
    "\n",
    "image = images_error[idx]\n",
    "image = np.transpose(image, (0, 3, 1, 2))\n",
    "image = image.astype(np.float32, copy=False)\n",
    "\n",
    "image -= mean\n",
    "image /= std\n",
    "\n",
    "p = network.predict(image)\n",
    "for i in range(len(idx)):\n",
    "    plt.subplot(display,2,2*i+1)\n",
    "    plt.tight_layout()\n",
    "    plt.imshow(images_error[idx[i]])\n",
    "    plt.title(id_to_label[images_error_label[idx[i]]])\n",
    "\n",
    "    pred_label = np.argsort(-p[i])[:5]\n",
    "    pred_prob = [p[i][l] for l in pred_label]\n",
    "    pred_label = [id_to_label[l] for l in pred_label]\n",
    "    \n",
    "    plt.subplot(display,2,2*i+2)\n",
    "    plt.tight_layout()\n",
    "    plt.bar(range(5),pred_prob)\n",
    "    plt.xticks(range(5), pred_label)\n",
    "\n",
    "plt.show()"
   ]
  },
  {
   "cell_type": "markdown",
   "metadata": {},
   "source": [
    "# Main evaluation and code ends here"
   ]
  },
  {
   "cell_type": "markdown",
   "metadata": {},
   "source": [
    "## Additional support codes - Predict an image with the trained model"
   ]
  },
  {
   "cell_type": "markdown",
   "metadata": {
    "colab_type": "text",
    "id": "x672UtXNMvEN"
   },
   "source": [
    "Load an image"
   ]
  },
  {
   "cell_type": "code",
   "execution_count": null,
   "metadata": {
    "colab": {
     "autoexec": {
      "startup": false,
      "wait_interval": 0
     }
    },
    "colab_type": "code",
    "id": "wwsdYziuQfNj"
   },
   "outputs": [],
   "source": [
    "image = cv2.imread('Validation_down/Apple Golden 2/3_100.jpg',cv2.IMREAD_COLOR)\n",
    "image = cv2.resize(image, (32, 32))\n",
    "image = cv2.cvtColor(image, cv2.COLOR_RGB2BGR)"
   ]
  },
  {
   "cell_type": "code",
   "execution_count": null,
   "metadata": {
    "colab": {
     "autoexec": {
      "startup": false,
      "wait_interval": 0
     },
     "base_uri": "https://localhost:8080/",
     "height": 282
    },
    "colab_type": "code",
    "executionInfo": {
     "elapsed": 779,
     "status": "ok",
     "timestamp": 1525261891913,
     "user": {
      "displayName": "Shi Yuan Tang",
      "photoUrl": "//lh4.googleusercontent.com/-4Y-u_DwJ6Zk/AAAAAAAAAAI/AAAAAAAAAvE/s8fTXAB8I9A/s50-c-k-no/photo.jpg",
      "userId": "103887966190412537754"
     },
     "user_tz": -480
    },
    "id": "RCYVbX9M33WS",
    "outputId": "39a319be-973e-44bb-8e81-640ae021f624"
   },
   "outputs": [],
   "source": [
    "plt.imshow(image, cmap='gray')  "
   ]
  },
  {
   "cell_type": "markdown",
   "metadata": {
    "colab_type": "text",
    "id": "0HI8QaI9M3UP"
   },
   "source": [
    "Perform the same image preprocess"
   ]
  },
  {
   "cell_type": "code",
   "execution_count": null,
   "metadata": {
    "colab": {
     "autoexec": {
      "startup": false,
      "wait_interval": 0
     }
    },
    "colab_type": "code",
    "id": "aa5IwmiXSdw_"
   },
   "outputs": [],
   "source": [
    "image = np.array([image]) # to add one more axis\n",
    "\n",
    "image = np.transpose(image, (0, 3, 1, 2))\n",
    "image = image.astype(np.float32, copy=False)\n",
    "\n",
    "image -= mean\n",
    "image /= std"
   ]
  },
  {
   "cell_type": "markdown",
   "metadata": {
    "colab_type": "text",
    "id": "-6kHa_4ANAAW"
   },
   "source": [
    "Predict the image"
   ]
  },
  {
   "cell_type": "code",
   "execution_count": null,
   "metadata": {
    "colab": {
     "autoexec": {
      "startup": false,
      "wait_interval": 0
     },
     "base_uri": "https://localhost:8080/",
     "height": 282
    },
    "colab_type": "code",
    "executionInfo": {
     "elapsed": 768,
     "status": "ok",
     "timestamp": 1525261948491,
     "user": {
      "displayName": "Shi Yuan Tang",
      "photoUrl": "//lh4.googleusercontent.com/-4Y-u_DwJ6Zk/AAAAAAAAAAI/AAAAAAAAAvE/s8fTXAB8I9A/s50-c-k-no/photo.jpg",
      "userId": "103887966190412537754"
     },
     "user_tz": -480
    },
    "id": "VJ9aLPZjliF9",
    "outputId": "b1c09fd4-94f7-4590-fa5c-830d1965063e"
   },
   "outputs": [],
   "source": [
    "predicted = network.predict(image)\n",
    "predicted"
   ]
  },
  {
   "cell_type": "code",
   "execution_count": null,
   "metadata": {
    "colab": {
     "autoexec": {
      "startup": false,
      "wait_interval": 0
     },
     "base_uri": "https://localhost:8080/",
     "height": 83
    },
    "colab_type": "code",
    "executionInfo": {
     "elapsed": 782,
     "status": "ok",
     "timestamp": 1525261952881,
     "user": {
      "displayName": "Shi Yuan Tang",
      "photoUrl": "//lh4.googleusercontent.com/-4Y-u_DwJ6Zk/AAAAAAAAAAI/AAAAAAAAAvE/s8fTXAB8I9A/s50-c-k-no/photo.jpg",
      "userId": "103887966190412537754"
     },
     "user_tz": -480
    },
    "id": "QPd_6h8HnRkx",
    "outputId": "4dfd00a2-cc42-42ac-d78d-0dac690aafcf"
   },
   "outputs": [],
   "source": [
    "# Return the top 5 classes\n",
    "index = np.argsort(-predicted, axis=1)[0][:5] #negative for descending\n",
    "index"
   ]
  },
  {
   "cell_type": "markdown",
   "metadata": {
    "colab_type": "text",
    "id": "Suy8nuAhNSmG"
   },
   "source": [
    "Display the top 5 classes with their probabilities"
   ]
  },
  {
   "cell_type": "code",
   "execution_count": null,
   "metadata": {
    "colab": {
     "autoexec": {
      "startup": false,
      "wait_interval": 0
     },
     "base_uri": "https://localhost:8080/",
     "height": 100
    },
    "colab_type": "code",
    "executionInfo": {
     "elapsed": 725,
     "status": "ok",
     "timestamp": 1525261975618,
     "user": {
      "displayName": "Shi Yuan Tang",
      "photoUrl": "//lh4.googleusercontent.com/-4Y-u_DwJ6Zk/AAAAAAAAAAI/AAAAAAAAAvE/s8fTXAB8I9A/s50-c-k-no/photo.jpg",
      "userId": "103887966190412537754"
     },
     "user_tz": -480
    },
    "id": "fbQuul2bpK_m",
    "outputId": "db38cb30-7839-472e-fb21-f8c289963d6d"
   },
   "outputs": [],
   "source": [
    "for i in index:\n",
    "  print('Class {}:\\t{}\\t\\t\\tProbability: {}'.format(i, id_to_label[i], predicted[0][i]))"
   ]
  }
 ],
 "metadata": {
  "accelerator": "GPU",
  "colab": {
   "collapsed_sections": [],
   "default_view": {},
   "name": "Neupy CPU Batch Image v1.ipynb",
   "provenance": [],
   "version": "0.3.2",
   "views": {}
  },
  "kernelspec": {
   "display_name": "Python 3",
   "language": "python",
   "name": "python3"
  },
  "language_info": {
   "codemirror_mode": {
    "name": "ipython",
    "version": 3
   },
   "file_extension": ".py",
   "mimetype": "text/x-python",
   "name": "python",
   "nbconvert_exporter": "python",
   "pygments_lexer": "ipython3",
   "version": "3.6.4"
  }
 },
 "nbformat": 4,
 "nbformat_minor": 1
}
